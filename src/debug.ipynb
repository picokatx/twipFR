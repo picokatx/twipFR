{
 "cells": [
  {
   "cell_type": "code",
   "execution_count": 26,
   "metadata": {},
   "outputs": [
    {
     "data": {
      "image/svg+xml": [
       "<?xml version=\"1.0\" encoding=\"UTF-8\"?>\n",
       "<svg xmlns=\"http://www.w3.org/2000/svg\" xmlns:xlink=\"http://www.w3.org/1999/xlink\"\n",
       "     width=\"960\" height=\"960\" viewBox=\"-240 -240 960 960\">\n",
       "<defs>\n",
       "</defs>\n",
       "<path d=\"M414.85,313.8 L381.35,303.15 L246.15,325.5 L279.15,381.8 L291.15,397.8 L314.85,437.8 L322.85,481.5 L331.85,565.5 L584.15,543.15 L590.75,530.5 L577.85,475.5 L533.15,409.65 L454.85,338.8 L414.85,313.8\" fill=\"#CCCCCC\" opacity=\"1\" stroke-width=\"0\" stroke-linecap=\"butt\" transform=\"matrix(1.0 0.0 0.0 1.0 -240.35 -302.9)\" />\n",
       "<path d=\"M381.6,302.45 L381.05,303.8 L384.15,306.4 Q387.9,309.5,392.95,313.15 Q399.1,317.6,406.9,322.75 Q413.8,327.3,425.3,334.05 Q436.8,340.9,446.9,347.7 Q460.35,356.8,469.95,364.25 Q483.2,374.45,493.3,383.55 Q506.0,394.9,515.6,405.2 Q526.6,416.95,535.65,428.8 Q544.4,440.15,552.45,453.45 Q559.6,465.2,565.4,478.05 Q570.8,489.95,574.5,501.2 Q576.65,508.05,577.65,511.8 Q578.1,513.25,580.1,521.45 Q581.6,528.6,581.85,530.1 Q582.3,532.75,583.1,537.45 L584.85,551.55 L600.8,550.7 L600.0,535.45 Q599.85,533.6,599.1,527.4 Q598.6,523.85,597.65,517.95 Q595.95,509.1,595.5,507.3 Q594.4,502.55,592.45,495.65 Q588.5,482.2,583.35,470.15 Q577.35,456.25,569.7,443.2 Q562.05,429.95,551.75,416.45 Q541.3,402.95,530.2,391.35 Q519.0,379.7,506.25,368.75 Q494.6,358.7,481.25,349.05 Q468.45,339.85,456.65,332.55 Q446.15,326.05,433.75,319.25 Q423.7,313.75,413.45,309.8 Q404.7,306.55,396.85,304.7 Q390.35,303.2,385.65,302.75 L381.6,302.45\" fill=\"#666666\" opacity=\"1\" stroke-width=\"0\" stroke-linecap=\"butt\" transform=\"matrix(1.0 0.0 0.0 1.0 -240.35 -302.9)\" />\n",
       "</svg>"
      ],
      "text/plain": [
       "<drawsvg.drawing.Drawing at 0x236d3201a10>"
      ]
     },
     "execution_count": 26,
     "metadata": {},
     "output_type": "execute_result"
    }
   ],
   "source": [
    "from twipfr import FLADocument\n",
    "from helper import list_o_svgs_to_html\n",
    "\n",
    "BASE_DIR = \"../assets/base/LIBRARY/PonyTemplate►/PonyTemplate►BodyParts/\" # /PonyTemplate►Wings\n",
    "doc = FLADocument(BASE_DIR+\"PonyTemplate►FrontLegUpper.xml\")\n",
    "doc.draw_frame(-2, 240, 960)"
   ]
  },
  {
   "cell_type": "code",
   "execution_count": 28,
   "metadata": {},
   "outputs": [],
   "source": [
    "from path import draw_path, draw_paths, find_subpaths, addEdgeToGroup, reverse_draw_commands, findContours, disjoint_path_join, crop_path, get_disjoint, closed, get_pt, get_startpt\n",
    "from consts import Path, Edge, DrawCommand, FillStyle"
   ]
  },
  {
   "cell_type": "code",
   "execution_count": 36,
   "metadata": {},
   "outputs": [
    {
     "data": {
      "text/plain": [
       "Path(edges=[Edge(type=<DrawCommand.MOVETO: 0>, data=[240.15, 321.15], S=0), Edge(type=<DrawCommand.LINETO: 1>, data=[244.9, 327.0], S=0), Edge(type=<DrawCommand.QUADRATICTO: 2>, data=[250.85, 334.55, 257.2, 343.45], S=0), Edge(type=<DrawCommand.QUADRATICTO: 2>, data=[277.35, 371.75, 292.8, 401.65], S=0), Edge(type=<DrawCommand.QUADRATICTO: 2>, data=[342.3, 497.25, 326.35, 573.0], S=0)], stroke=Stroke(color='#666666', scaleMode='normal', caps='none', weight='18', joints='miter', miterLimit='10'), fill0=None, fill1=None)"
      ]
     },
     "execution_count": 36,
     "metadata": {},
     "output_type": "execute_result"
    }
   ],
   "source": [
    "doc.animations[-2][1].paths[0]"
   ]
  },
  {
   "cell_type": "code",
   "execution_count": 38,
   "metadata": {},
   "outputs": [
    {
     "data": {
      "text/plain": [
       "[6527.0, 11460.0]"
      ]
     },
     "execution_count": 38,
     "metadata": {},
     "output_type": "execute_result"
    }
   ],
   "source": [
    "[i*20 for i in [326.35, 573.0]]"
   ]
  },
  {
   "cell_type": "code",
   "execution_count": 33,
   "metadata": {},
   "outputs": [
    {
     "data": {
      "image/svg+xml": [
       "<?xml version=\"1.0\" encoding=\"UTF-8\"?>\n",
       "<svg xmlns=\"http://www.w3.org/2000/svg\" xmlns:xlink=\"http://www.w3.org/1999/xlink\"\n",
       "     width=\"960\" height=\"960\" viewBox=\"-240 -240 960 960\">\n",
       "<defs>\n",
       "</defs>\n",
       "<path d=\"M240.15,321.15 L244.9,327.0 Q250.85,334.55,257.2,343.45 Q277.35,371.75,292.8,401.65 Q342.3,497.25,326.35,573.0\" fill=\"grey\" stroke=\"blue\" stroke-width=\"3\" stroke-linecap=\"butt\" stroke-linejoin=\"miter\" stroke-miterlimit=\"10\" />\n",
       "</svg>"
      ],
      "text/plain": [
       "<drawsvg.drawing.Drawing at 0x236d31a7f50>"
      ]
     },
     "execution_count": 33,
     "metadata": {},
     "output_type": "execute_result"
    }
   ],
   "source": [
    "draw_paths()"
   ]
  },
  {
   "cell_type": "code",
   "execution_count": 42,
   "metadata": {},
   "outputs": [],
   "source": [
    "from path import draw_path, draw_paths, find_subpaths, addEdgeToGroup, reverse_draw_commands, findContours, disjoint_path_join, crop_path\n",
    "shape = doc.animations[-2][1]\n",
    "edgeGroups = {}\n",
    "split_paths = []\n",
    "for path in shape.paths:\n",
    "    split_paths.extend(find_subpaths(path))\n",
    "\n",
    "for path in split_paths: # split_paths[2:6]+split_paths[0:1]\n",
    "    if path.fill0 != None: addEdgeToGroup(edgeGroups, path.fill0,  path)\n",
    "    if path.fill1 != None: addEdgeToGroup(edgeGroups, path.fill1, reverse_draw_commands(path))\n",
    "filledRegs = {}\n",
    "for fillStyle, group in edgeGroups.items():\n",
    "    filledRegs[fillStyle] = findContours(group, fillStyle)\n",
    "\n",
    "mergedRegs = {}\n",
    "for fillStyle, group in filledRegs.items():\n",
    "    # need to merge fills down to single path\n",
    "    a = findContours([path for path in group], fillStyle)\n",
    "    ret = a[0]\n",
    "    for i in range(1, len(a)):\n",
    "        ret = disjoint_path_join(ret, a[i])\n",
    "    mergedRegs[fillStyle] = [ret]\n"
   ]
  },
  {
   "cell_type": "code",
   "execution_count": 44,
   "metadata": {},
   "outputs": [
    {
     "data": {
      "text/plain": [
       "[Path(edges=[Edge(type=<DrawCommand.MOVETO: 0>, data=[240.15, 321.15], S=0), Edge(type=<DrawCommand.LINETO: 1>, data=[244.9, 327.0], S=0), Edge(type=<DrawCommand.QUADRATICTO: 2>, data=[250.85, 334.55, 257.2, 343.45], S=0), Edge(type=<DrawCommand.QUADRATICTO: 2>, data=[277.35, 371.75, 292.8, 401.65], S=0), Edge(type=<DrawCommand.QUADRATICTO: 2>, data=[342.3, 497.25, 326.35, 573.0], S=0)], stroke=Stroke(color='#666666', scaleMode='normal', caps='none', weight='18', joints='miter', miterLimit='10'), fill0=None, fill1=None)]"
      ]
     },
     "execution_count": 44,
     "metadata": {},
     "output_type": "execute_result"
    }
   ],
   "source": [
    "split_paths"
   ]
  },
  {
   "cell_type": "code",
   "execution_count": 46,
   "metadata": {},
   "outputs": [
    {
     "data": {
      "text/plain": [
       "{}"
      ]
     },
     "execution_count": 46,
     "metadata": {},
     "output_type": "execute_result"
    }
   ],
   "source": [
    "filledRegs"
   ]
  },
  {
   "cell_type": "code",
   "execution_count": 17,
   "metadata": {},
   "outputs": [
    {
     "data": {
      "text/plain": [
       "1"
      ]
     },
     "execution_count": 17,
     "metadata": {},
     "output_type": "execute_result"
    }
   ],
   "source": [
    "len(mergedRegs[FillStyle(color='#666666', alpha=1)])"
   ]
  },
  {
   "cell_type": "code",
   "execution_count": 25,
   "metadata": {},
   "outputs": [
    {
     "data": {
      "image/svg+xml": [
       "<?xml version=\"1.0\" encoding=\"UTF-8\"?>\n",
       "<svg xmlns=\"http://www.w3.org/2000/svg\" xmlns:xlink=\"http://www.w3.org/1999/xlink\"\n",
       "     width=\"960\" height=\"960\" viewBox=\"-240 -240 960 960\">\n",
       "<defs>\n",
       "</defs>\n",
       "<path d=\"M-125.9,276.85 L-125.85,276.85 L-125.2,276.65 L-125.9,276.85 M-130.0,256.05 Q-133.5,255.35,-136.5,253.95 Q-135.05,253.95,-133.8,253.85 M-131.5,236.8 Q-132.6,236.4,-133.8,235.95 M-149.7,231.8 Q-150.45,231.85,-150.65,231.95 Q-148.15,232.55,-140.9,235.25 Q-139.95,235.55,-138.95,235.95 Q-130.1,239.3,-129.1,241.6 Q-128.15,243.75,-128.35,245.5 Q-128.9,248.45,-132.8,250.6 Q-136.2,252.35,-143.4,250.75 Q-141.7,253.05,-138.0,255.65 Q-134.45,258.25,-130.1,258.8 Q-125.75,259.3,-118.35,258.9 Q-110.85,258.55,-108.1,259.35 Q-105.85,260.0,-104.95,262.15 Q-104.3,263.75,-104.6,266.45 Q-104.7,267.15,-105.15,267.9 Q-105.4,268.2,-105.6,268.5 Q-107.25,270.4,-111.4,272.7 Q-111.45,272.75,-111.55,272.8 Q-112.25,273.1,-112.95,273.45 Q-118.6,276.2,-125.75,277.05 L-125.4,277.55 Q-125.0,278.85,-117.85,277.7 L-109.1,274.8 L-103.5,275.35 L-101.35,276.35 Q-99.6,277.6,-99.85,279.05 Q-100.4,282.25,-103.0,286.05 Q-106.2,290.55,-111.0,293.65 Q-120.35,299.8,-132.65,299.2 Q-136.8,298.95,-141.25,297.95 L-137.8,294.2 Q-134.5,290.1,-132.05,284.55 Q-129.65,279.0,-129.2,277.05 Q-128.8,275.15,-129.85,269.85 Q-131.05,264.4,-137.2,262.75 Q-147.4,267.25,-153.75,272.8 Q-160.1,278.3,-158.8,277.8 Q-156.6,277.25,-147.3,270.85 Q-138.8,265.0,-136.85,265.6 Q-135.5,265.9,-133.9,269.0 Q-132.3,271.95,-132.4,275.8 Q-132.5,279.6,-139.75,290.9 Q-142.95,295.8,-146.7,298.1 Q-150.25,300.25,-154.3,300.1 Q-155.7,300.1,-157.2,299.7 Q-167.35,297.4,-170.95,277.3 Q-174.5,257.15,-173.95,245.5 Q-173.35,234.1,-170.6,223.55 Q-170.5,223.15,-170.4,222.75 Q-171.2,221.75,-173.3,229.45 L-174.8,236.05 Q-176.75,252.1,-173.8,275.6 Q-170.9,299.1,-160.2,301.7 Q-149.5,304.35,-142.8,299.5 L-130.65,302.05 Q-120.3,303.25,-111.4,298.0 Q-102.6,292.7,-100.25,288.35 Q-97.9,283.9,-97.5,281.65 Q-96.5,279.85,-97.05,278.05 Q-98.15,274.6,-104.9,272.55 Q-101.7,270.15,-101.15,266.8 Q-100.45,264.25,-101.7,261.1 Q-102.95,257.8,-106.5,256.75 Q-110.05,255.6,-119.8,256.5 Q-125.35,257.0,-130.0,256.05\" fill=\"grey\" stroke=\"blue\" stroke-width=\"3\" stroke-linecap=\"butt\" />\n",
       "</svg>"
      ],
      "text/plain": [
       "<drawsvg.drawing.Drawing at 0x236d31dd910>"
      ]
     },
     "execution_count": 25,
     "metadata": {},
     "output_type": "execute_result"
    }
   ],
   "source": [
    "draw_paths([filledRegs[FillStyle(color='#666666', alpha=1)][2]])"
   ]
  },
  {
   "cell_type": "code",
   "execution_count": 24,
   "metadata": {},
   "outputs": [
    {
     "data": {
      "image/svg+xml": [
       "<?xml version=\"1.0\" encoding=\"UTF-8\"?>\n",
       "<svg xmlns=\"http://www.w3.org/2000/svg\" xmlns:xlink=\"http://www.w3.org/1999/xlink\"\n",
       "     width=\"960\" height=\"960\" viewBox=\"-240 -240 960 960\">\n",
       "<defs>\n",
       "</defs>\n",
       "<path d=\"M-133.8,235.95 Q-135.8,235.25,-138.2,234.55 L-149.1,231.75 Q-149.45,231.75,-149.7,231.8\" fill=\"grey\" stroke=\"blue\" stroke-width=\"3\" stroke-linecap=\"butt\" />\n",
       "<path d=\"M-133.8,253.85 Q-129.1,253.45,-127.4,252.0 Q-123.75,248.95,-123.0,244.4 Q-123.0,242.75,-125.8,240.1 Q-127.4,238.5,-131.5,236.8\" fill=\"grey\" stroke=\"blue\" stroke-width=\"3\" stroke-linecap=\"butt\" />\n",
       "</svg>"
      ],
      "text/plain": [
       "<drawsvg.drawing.Drawing at 0x236d31ee990>"
      ]
     },
     "execution_count": 24,
     "metadata": {},
     "output_type": "execute_result"
    }
   ],
   "source": [
    "draw_paths([filledRegs[FillStyle(color='#666666', alpha=1)][0], filledRegs[FillStyle(color='#666666', alpha=1)][1]])"
   ]
  },
  {
   "cell_type": "code",
   "execution_count": 18,
   "metadata": {},
   "outputs": [
    {
     "data": {
      "image/svg+xml": [
       "<?xml version=\"1.0\" encoding=\"UTF-8\"?>\n",
       "<svg xmlns=\"http://www.w3.org/2000/svg\" xmlns:xlink=\"http://www.w3.org/1999/xlink\"\n",
       "     width=\"960\" height=\"960\" viewBox=\"-240 -240 960 960\">\n",
       "<defs>\n",
       "</defs>\n",
       "<path d=\"M-133.8,235.95 Q-135.8,235.25,-138.2,234.55 L-149.1,231.75 Q-149.45,231.75,-149.7,231.8 M-133.8,253.85 Q-129.1,253.45,-127.4,252.0 Q-123.75,248.95,-123.0,244.4 Q-123.0,242.75,-125.8,240.1 Q-127.4,238.5,-131.5,236.8 M-125.9,276.85 L-125.85,276.85 L-125.2,276.65 L-125.9,276.85 M-130.0,256.05 Q-133.5,255.35,-136.5,253.95 Q-135.05,253.95,-133.8,253.85 M-131.5,236.8 Q-132.6,236.4,-133.8,235.95 M-149.7,231.8 Q-150.45,231.85,-150.65,231.95 Q-148.15,232.55,-140.9,235.25 Q-139.95,235.55,-138.95,235.95 Q-130.1,239.3,-129.1,241.6 Q-128.15,243.75,-128.35,245.5 Q-128.9,248.45,-132.8,250.6 Q-136.2,252.35,-143.4,250.75 Q-141.7,253.05,-138.0,255.65 Q-134.45,258.25,-130.1,258.8 Q-125.75,259.3,-118.35,258.9 Q-110.85,258.55,-108.1,259.35 Q-105.85,260.0,-104.95,262.15 Q-104.3,263.75,-104.6,266.45 Q-104.7,267.15,-105.15,267.9 Q-105.4,268.2,-105.6,268.5 Q-107.25,270.4,-111.4,272.7 Q-111.45,272.75,-111.55,272.8 Q-112.25,273.1,-112.95,273.45 Q-118.6,276.2,-125.75,277.05 L-125.4,277.55 Q-125.0,278.85,-117.85,277.7 L-109.1,274.8 L-103.5,275.35 L-101.35,276.35 Q-99.6,277.6,-99.85,279.05 Q-100.4,282.25,-103.0,286.05 Q-106.2,290.55,-111.0,293.65 Q-120.35,299.8,-132.65,299.2 Q-136.8,298.95,-141.25,297.95 L-137.8,294.2 Q-134.5,290.1,-132.05,284.55 Q-129.65,279.0,-129.2,277.05 Q-128.8,275.15,-129.85,269.85 Q-131.05,264.4,-137.2,262.75 Q-147.4,267.25,-153.75,272.8 Q-160.1,278.3,-158.8,277.8 Q-156.6,277.25,-147.3,270.85 Q-138.8,265.0,-136.85,265.6 Q-135.5,265.9,-133.9,269.0 Q-132.3,271.95,-132.4,275.8 Q-132.5,279.6,-139.75,290.9 Q-142.95,295.8,-146.7,298.1 Q-150.25,300.25,-154.3,300.1 Q-155.7,300.1,-157.2,299.7 Q-167.35,297.4,-170.95,277.3 Q-174.5,257.15,-173.95,245.5 Q-173.35,234.1,-170.6,223.55 Q-170.5,223.15,-170.4,222.75 Q-171.2,221.75,-173.3,229.45 L-174.8,236.05 Q-176.75,252.1,-173.8,275.6 Q-170.9,299.1,-160.2,301.7 Q-149.5,304.35,-142.8,299.5 L-130.65,302.05 Q-120.3,303.25,-111.4,298.0 Q-102.6,292.7,-100.25,288.35 Q-97.9,283.9,-97.5,281.65 Q-96.5,279.85,-97.05,278.05 Q-98.15,274.6,-104.9,272.55 Q-101.7,270.15,-101.15,266.8 Q-100.45,264.25,-101.7,261.1 Q-102.95,257.8,-106.5,256.75 Q-110.05,255.6,-119.8,256.5 Q-125.35,257.0,-130.0,256.05\" fill=\"white\" stroke=\"blue\" stroke-width=\"3\" stroke-linecap=\"butt\" />\n",
       "</svg>"
      ],
      "text/plain": [
       "<drawsvg.drawing.Drawing at 0x236d31fcbd0>"
      ]
     },
     "execution_count": 18,
     "metadata": {},
     "output_type": "execute_result"
    }
   ],
   "source": [
    "draw_path(mergedRegs[FillStyle(color='#666666', alpha=1)][0])"
   ]
  },
  {
   "cell_type": "code",
   "execution_count": 10,
   "metadata": {},
   "outputs": [
    {
     "name": "stdout",
     "output_type": "stream",
     "text": [
      "[Edge(type=<DrawCommand.MOVETO: 0>, data=[25.9, 64.5], S=0), Edge(type=<DrawCommand.LINETO: 1>, data=[25.95, 64.1], S=0), Edge(type=<DrawCommand.QUADRATICTO: 2>, data=[26.35, 37.6, 19.85, 15.55], S=0), Edge(type=<DrawCommand.QUADRATICTO: 2>, data=[16.6, 4.4, 12.8, -2.2], S=0), Edge(type=<DrawCommand.LINETO: 1>, data=[-8.05, 11.15], S=0), Edge(type=<DrawCommand.LINETO: 1>, data=[-7.85, 11.5], S=0), Edge(type=<DrawCommand.QUADRATICTO: 2>, data=[-5.65, 18.5, -4.65, 28.3], S=0), Edge(type=<DrawCommand.QUADRATICTO: 2>, data=[-2.85, 47.75, -8.3, 65.2], S=0)]\n"
     ]
    }
   ],
   "source": [
    "testcase = Path(edges=[\n",
    "    Edge(type=DrawCommand.MOVETO, data=[12.8, -2.2], S=0),\n",
    "    Edge(type=DrawCommand.LINETO, data=[-8.05, 11.15], S=0),\n",
    "    Edge(type=DrawCommand.LINETO, data=[-7.85, 11.5], S=0),\n",
    "    Edge(type=DrawCommand.QUADRATICTO, data=[-5.65, 18.5, -4.65, 28.3], S=0),\n",
    "    Edge(type=DrawCommand.QUADRATICTO, data=[-2.85, 47.75, -8.3, 65.2], S=0),\n",
    "    Edge(type=DrawCommand.MOVETO, data=[25.9, 64.5], S=0),\n",
    "    Edge(type=DrawCommand.LINETO, data=[25.95, 64.1], S=0),\n",
    "    Edge(type=DrawCommand.QUADRATICTO, data=[26.35, 37.6, 19.85, 15.55], S=0),\n",
    "    Edge(type=DrawCommand.QUADRATICTO, data=[16.6, 4.4, 12.8, -2.2], S=0)\n",
    "], stroke=None, fill0='#CCCCCC', fill1=None)\n",
    "if (get_disjoint(testcase) and closed(testcase)):\n",
    "    Path(edges=testcase.edges[get_disjoint(testcase):]+testcase.edges[1:get_disjoint(testcase)], stroke=None, fill0='#CCCCCC', fill1=None)"
   ]
  },
  {
   "cell_type": "code",
   "execution_count": 47,
   "metadata": {},
   "outputs": [
    {
     "data": {
      "image/svg+xml": [
       "<?xml version=\"1.0\" encoding=\"UTF-8\"?>\n",
       "<svg xmlns=\"http://www.w3.org/2000/svg\" xmlns:xlink=\"http://www.w3.org/1999/xlink\"\n",
       "     width=\"480\" height=\"480\" viewBox=\"-240 -240 480 480\">\n",
       "<defs>\n",
       "</defs>\n",
       "<path d=\"M12.8,-2.2 L-8.05,11.15 L-7.85,11.5 Q-5.65,18.5,-4.65,28.3 Q-2.85,47.75,-8.3,65.2 M25.9,64.5 L25.95,64.1 Q26.35,37.6,19.85,15.55 Q16.6,4.4,12.8,-2.2\" fill=\"white\" stroke=\"blue\" stroke-width=\"3\" stroke-linecap=\"butt\" />\n",
       "</svg>"
      ],
      "text/plain": [
       "<drawsvg.drawing.Drawing at 0x18638449510>"
      ]
     },
     "execution_count": 47,
     "metadata": {},
     "output_type": "execute_result"
    }
   ],
   "source": [
    "# rotate path to remove moveto\n",
    "draw_path(Path(edges=[\n",
    "    Edge(type=DrawCommand.MOVETO, data=[12.8, -2.2], S=0),\n",
    "    Edge(type=DrawCommand.LINETO, data=[-8.05, 11.15], S=0),\n",
    "    Edge(type=DrawCommand.LINETO, data=[-7.85, 11.5], S=0),\n",
    "    Edge(type=DrawCommand.QUADRATICTO, data=[-5.65, 18.5, -4.65, 28.3], S=0),\n",
    "    Edge(type=DrawCommand.QUADRATICTO, data=[-2.85, 47.75, -8.3, 65.2], S=0),\n",
    "    Edge(type=DrawCommand.MOVETO, data=[25.9, 64.5], S=0),\n",
    "    Edge(type=DrawCommand.LINETO, data=[25.95, 64.1], S=0),\n",
    "    Edge(type=DrawCommand.QUADRATICTO, data=[26.35, 37.6, 19.85, 15.55], S=0),\n",
    "    Edge(type=DrawCommand.QUADRATICTO, data=[16.6, 4.4, 12.8, -2.2], S=0)\n",
    "], stroke=None, fill0='#CCCCCC', fill1=None))\n",
    "draw_path(Path(edges=[\n",
    "    Edge(type=DrawCommand.MOVETO, data=[12.8, -2.2], S=0),\n",
    "    Edge(type=DrawCommand.LINETO, data=[-8.05, 11.15], S=0),\n",
    "    Edge(type=DrawCommand.LINETO, data=[-7.85, 11.5], S=0),\n",
    "    Edge(type=DrawCommand.QUADRATICTO, data=[-5.65, 18.5, -4.65, 28.3], S=0),\n",
    "    Edge(type=DrawCommand.QUADRATICTO, data=[-2.85, 47.75, -8.3, 65.2], S=0),\n",
    "    Edge(type=DrawCommand.MOVETO, data=[25.9, 64.5], S=0), # make this first element, then rotate accordingly\n",
    "    Edge(type=DrawCommand.LINETO, data=[25.95, 64.1], S=0),\n",
    "    Edge(type=DrawCommand.QUADRATICTO, data=[26.35, 37.6, 19.85, 15.55], S=0),\n",
    "    Edge(type=DrawCommand.QUADRATICTO, data=[16.6, 4.4, 12.8, -2.2], S=0)\n",
    "], stroke=None, fill0='#CCCCCC', fill1=None))"
   ]
  },
  {
   "cell_type": "code",
   "execution_count": 19,
   "metadata": {},
   "outputs": [
    {
     "data": {
      "image/svg+xml": [
       "<?xml version=\"1.0\" encoding=\"UTF-8\"?>\n",
       "<svg xmlns=\"http://www.w3.org/2000/svg\" xmlns:xlink=\"http://www.w3.org/1999/xlink\"\n",
       "     width=\"480\" height=\"480\" viewBox=\"-240 -240 480 480\">\n",
       "<defs>\n",
       "</defs>\n",
       "<path d=\"M-8.05,11.15 L12.8,-2.2\" fill=\"white\" stroke=\"blue\" stroke-width=\"3\" stroke-linecap=\"butt\" />\n",
       "</svg>"
      ],
      "text/plain": [
       "<drawsvg.drawing.Drawing at 0x18638a5b3d0>"
      ]
     },
     "execution_count": 19,
     "metadata": {},
     "output_type": "execute_result"
    }
   ],
   "source": [
    "draw_path(split_paths[3])"
   ]
  },
  {
   "cell_type": "code",
   "execution_count": 6,
   "metadata": {},
   "outputs": [
    {
     "data": {
      "text/plain": [
       "Path(edges=[Edge(type=<DrawCommand.MOVETO: 0>, data=[12.8, -2.2], S=0), Edge(type=<DrawCommand.LINETO: 1>, data=[-8.05, 11.15], S=0), Edge(type=<DrawCommand.LINETO: 1>, data=[-7.85, 11.5], S=0), Edge(type=<DrawCommand.QUADRATICTO: 2>, data=[-5.65, 18.5, -4.65, 28.3], S=0), Edge(type=<DrawCommand.QUADRATICTO: 2>, data=[-2.85, 47.75, -8.3, 65.2], S=0), Edge(type=<DrawCommand.MOVETO: 0>, data=[25.9, 64.5], S=0), Edge(type=<DrawCommand.LINETO: 1>, data=[25.95, 64.1], S=0), Edge(type=<DrawCommand.QUADRATICTO: 2>, data=[26.35, 37.6, 19.85, 15.55], S=0), Edge(type=<DrawCommand.QUADRATICTO: 2>, data=[16.6, 4.4, 12.8, -2.2], S=0)], stroke=None, fill0='#CCCCCC', fill1=None)"
      ]
     },
     "execution_count": 6,
     "metadata": {},
     "output_type": "execute_result"
    }
   ],
   "source": [
    "filledRegs['#CCCCCC'][1]"
   ]
  },
  {
   "cell_type": "code",
   "execution_count": 20,
   "metadata": {},
   "outputs": [
    {
     "data": {
      "image/svg+xml": [
       "<?xml version=\"1.0\" encoding=\"UTF-8\"?>\n",
       "<svg xmlns=\"http://www.w3.org/2000/svg\" xmlns:xlink=\"http://www.w3.org/1999/xlink\"\n",
       "     width=\"480\" height=\"480\" viewBox=\"-240 -240 480 480\">\n",
       "<defs>\n",
       "</defs>\n",
       "<path d=\"M-8.3,62.35 L24.95,54.0 L24.9,53.9 Q21.95,35.2,16.85,15.5 Q14.1,5.0,11.8,-2.25 L-9.1,6.65 Q-8.95,6.9,-8.95,7.15 Q-8.45,15.8,-8.15,26.9 Q-7.5,49.1,-8.3,62.35\" fill=\"grey\" stroke=\"blue\" stroke-width=\"3\" stroke-linecap=\"butt\" />\n",
       "</svg>"
      ],
      "text/plain": [
       "<drawsvg.drawing.Drawing at 0x1bed2956cd0>"
      ]
     },
     "execution_count": 20,
     "metadata": {},
     "output_type": "execute_result"
    }
   ],
   "source": [
    "draw_paths(filledRegs['#CCCCCC'])"
   ]
  },
  {
   "cell_type": "code",
   "execution_count": 10,
   "metadata": {},
   "outputs": [
    {
     "data": {
      "image/svg+xml": [
       "<?xml version=\"1.0\" encoding=\"UTF-8\"?>\n",
       "<svg xmlns=\"http://www.w3.org/2000/svg\" xmlns:xlink=\"http://www.w3.org/1999/xlink\"\n",
       "     width=\"480\" height=\"480\" viewBox=\"-240 -240 480 480\">\n",
       "<defs>\n",
       "</defs>\n",
       "<path d=\"M12.8,-2.2 L-8.05,11.15 L-7.85,11.5 Q-5.65,18.5,-4.65,28.3 Q-2.85,47.75,-8.3,65.2 M25.9,64.5 L25.95,64.1 Q26.35,37.6,19.85,15.55 Q16.6,4.4,12.8,-2.2\" fill=\"white\" stroke=\"blue\" stroke-width=\"3\" stroke-linecap=\"butt\" />\n",
       "</svg>"
      ],
      "text/plain": [
       "<drawsvg.drawing.Drawing at 0x1bed2953450>"
      ]
     },
     "execution_count": 10,
     "metadata": {},
     "output_type": "execute_result"
    }
   ],
   "source": [
    "draw_path(filledRegs['#CCCCCC'][1])"
   ]
  },
  {
   "cell_type": "code",
   "execution_count": 9,
   "metadata": {},
   "outputs": [
    {
     "data": {
      "image/svg+xml": [
       "<?xml version=\"1.0\" encoding=\"UTF-8\"?>\n",
       "<svg xmlns=\"http://www.w3.org/2000/svg\" xmlns:xlink=\"http://www.w3.org/1999/xlink\"\n",
       "     width=\"480\" height=\"480\" viewBox=\"-240 -240 480 480\">\n",
       "<defs>\n",
       "</defs>\n",
       "<path d=\"M-8.3,65.2 L25.9,64.5\" fill=\"white\" stroke=\"blue\" stroke-width=\"3\" stroke-linecap=\"butt\" />\n",
       "</svg>"
      ],
      "text/plain": [
       "<drawsvg.drawing.Drawing at 0x1bed24288d0>"
      ]
     },
     "execution_count": 9,
     "metadata": {},
     "output_type": "execute_result"
    }
   ],
   "source": [
    "draw_path(filledRegs['#CCCCCC'][0])"
   ]
  },
  {
   "cell_type": "code",
   "execution_count": 15,
   "metadata": {},
   "outputs": [
    {
     "data": {
      "text/plain": [
       "[25.9, 64.5]"
      ]
     },
     "execution_count": 15,
     "metadata": {},
     "output_type": "execute_result"
    }
   ],
   "source": [
    "[i/20 for i in [518, 1290]]"
   ]
  },
  {
   "cell_type": "code",
   "execution_count": 9,
   "metadata": {},
   "outputs": [
    {
     "data": {
      "text/plain": [
       "[Path(edges=[Edge(type=<DrawCommand.MOVETO: 0>, data=[12.8, -2.2], S=0), Edge(type=<DrawCommand.LINETO: 1>, data=[12.75, -2.25], S=0), Edge(type=<DrawCommand.QUADRATICTO: 2>, data=[12.45, -2.8, 12.6, -3.4], S=0), Edge(type=<DrawCommand.QUADRATICTO: 2>, data=[12.75, -4.0, 13.25, -4.3], S=0), Edge(type=<DrawCommand.QUADRATICTO: 2>, data=[13.8, -4.65, 14.4, -4.5], S=0), Edge(type=<DrawCommand.QUADRATICTO: 2>, data=[15.0, -4.35, 15.4, -3.8], S=0), Edge(type=<DrawCommand.QUADRATICTO: 2>, data=[19.3, 2.6, 22.75, 14.0], S=0), Edge(type=<DrawCommand.QUADRATICTO: 2>, data=[29.55, 36.6, 28.95, 64.6], S=0), Edge(type=<DrawCommand.QUADRATICTO: 2>, data=[28.95, 65.2, 28.45, 65.65], S=0), Edge(type=<DrawCommand.QUADRATICTO: 2>, data=[28.05, 66.05, 27.4, 66.05], S=0), Edge(type=<DrawCommand.QUADRATICTO: 2>, data=[26.75, 66.05, 26.35, 65.6], S=0), Edge(type=<DrawCommand.QUADRATICTO: 2>, data=[25.9, 65.15, 25.9, 64.5], S=0)], stroke=None, fill0=None, fill1='#666666'),\n",
       " Path(edges=[Edge(type=<DrawCommand.MOVETO: 0>, data=[25.9, 64.5], S=0), Edge(type=<DrawCommand.LINETO: 1>, data=[-8.3, 65.2], S=0)], stroke=None, fill0=None, fill1='#CCCCCC'),\n",
       " Path(edges=[Edge(type=<DrawCommand.MOVETO: 0>, data=[-8.3, 65.2], S=0), Edge(type=<DrawCommand.LINETO: 1>, data=[-8.6, 66.05], S=0), Edge(type=<DrawCommand.QUADRATICTO: 2>, data=[-8.9, 67.1, -10.0, 67.1], S=0), Edge(type=<DrawCommand.LINETO: 1>, data=[-10.5, 67.0], S=0), Edge(type=<DrawCommand.QUADRATICTO: 2>, data=[-11.05, 66.8, -11.35, 66.3], S=0), Edge(type=<DrawCommand.QUADRATICTO: 2>, data=[-11.65, 65.75, -11.45, 65.15], S=0), Edge(type=<DrawCommand.QUADRATICTO: 2>, data=[-5.95, 48.15, -7.75, 28.7], S=0), Edge(type=<DrawCommand.QUADRATICTO: 2>, data=[-8.7, 18.95, -10.75, 12.45], S=0), Edge(type=<DrawCommand.QUADRATICTO: 2>, data=[-10.95, 11.85, -10.65, 11.3], S=0), Edge(type=<DrawCommand.QUADRATICTO: 2>, data=[-10.4, 10.75, -9.8, 10.55], S=0), Edge(type=<DrawCommand.QUADRATICTO: 2>, data=[-8.7, 10.25, -8.05, 11.15], S=0)], stroke=None, fill0=None, fill1='#666666'),\n",
       " Path(edges=[Edge(type=<DrawCommand.MOVETO: 0>, data=[-8.05, 11.15], S=0), Edge(type=<DrawCommand.LINETO: 1>, data=[12.8, -2.2], S=0)], stroke=None, fill0=None, fill1='#CCCCCC'),\n",
       " Path(edges=[Edge(type=<DrawCommand.MOVETO: 0>, data=[12.8, -2.2], S=0), Edge(type=<DrawCommand.QUADRATICTO: 2>, data=[16.6, 4.4, 19.85, 15.55], S=0), Edge(type=<DrawCommand.QUADRATICTO: 2>, data=[26.35, 37.6, 25.95, 64.1], S=0), Edge(type=<DrawCommand.LINETO: 1>, data=[25.9, 64.5], S=0), Edge(type=<DrawCommand.MOVETO: 0>, data=[-8.3, 65.2], S=0), Edge(type=<DrawCommand.QUADRATICTO: 2>, data=[-2.85, 47.75, -4.65, 28.3], S=0), Edge(type=<DrawCommand.QUADRATICTO: 2>, data=[-5.65, 18.5, -7.85, 11.5], S=0), Edge(type=<DrawCommand.LINETO: 1>, data=[-8.05, 11.15], S=0)], stroke=None, fill0='#666666', fill1='#CCCCCC')]"
      ]
     },
     "execution_count": 9,
     "metadata": {},
     "output_type": "execute_result"
    }
   ],
   "source": [
    "doc.animations[0][0][0].paths"
   ]
  },
  {
   "cell_type": "code",
   "execution_count": 17,
   "metadata": {},
   "outputs": [
    {
     "data": {
      "image/svg+xml": [
       "<?xml version=\"1.0\" encoding=\"UTF-8\"?>\n",
       "<svg xmlns=\"http://www.w3.org/2000/svg\" xmlns:xlink=\"http://www.w3.org/1999/xlink\"\n",
       "     width=\"480\" height=\"480\" viewBox=\"-240 -240 480 480\">\n",
       "<defs>\n",
       "</defs>\n",
       "<path d=\"M12.8,-2.2 Q16.6,4.4,19.85,15.55 Q26.35,37.6,25.95,64.1 L25.9,64.5 M-8.3,65.2 Q-2.85,47.75,-4.65,28.3 Q-5.65,18.5,-7.85,11.5 L-8.05,11.15\" fill=\"grey\" stroke=\"blue\" stroke-width=\"3\" stroke-linecap=\"butt\" />\n",
       "</svg>"
      ],
      "text/plain": [
       "<drawsvg.drawing.Drawing at 0x1bed2a123d0>"
      ]
     },
     "execution_count": 17,
     "metadata": {},
     "output_type": "execute_result"
    }
   ],
   "source": [
    "draw_paths([Path(edges=[\n",
    "    Edge(type=DrawCommand.MOVETO, data=[12.8, -2.2], S=0),\n",
    "    Edge(type=DrawCommand.QUADRATICTO, data=[16.6, 4.4, 19.85, 15.55], S=0),\n",
    "    Edge(type=DrawCommand.QUADRATICTO, data=[26.35, 37.6, 25.95, 64.1], S=0),\n",
    "    Edge(type=DrawCommand.LINETO, data=[25.9, 64.5], S=0),\n",
    "    Edge(type=DrawCommand.MOVETO, data=[-8.3, 65.2], S=0),\n",
    "    Edge(type=DrawCommand.QUADRATICTO, data=[-2.85, 47.75, -4.65, 28.3], S=0),\n",
    "    Edge(type=DrawCommand.QUADRATICTO, data=[-5.65, 18.5, -7.85, 11.5], S=0),\n",
    "    Edge(type=DrawCommand.LINETO, data=[-8.05, 11.15], S=0),\n",
    "], stroke=None, fill0='#666666', fill1='#CCCCCC')])"
   ]
  },
  {
   "cell_type": "code",
   "execution_count": 55,
   "metadata": {},
   "outputs": [
    {
     "name": "stdout",
     "output_type": "stream",
     "text": [
      "0 Edge(type=<DrawCommand.MOVETO: 0>, data=[-7.0, 99.85], S=3) Path(edges=[Edge(type=<DrawCommand.MOVETO: 0>, data=[-7.0, 99.85], S=3), Edge(type=<DrawCommand.QUADRATICTO: 2>, data=[-6.45, 99.15, -5.7, 98.45], S=2), Edge(type=<DrawCommand.QUADRATICTO: 2>, data=[-0.55, 93.15, 6.05, 94.35], S=2), Edge(type=<DrawCommand.QUADRATICTO: 2>, data=[16.75, 96.2, 13.3, 122.75], S=2), Edge(type=<DrawCommand.QUADRATICTO: 2>, data=[16.5, 129.4, 14.25, 142.95], S=2), Edge(type=<DrawCommand.QUADRATICTO: 2>, data=[13.15, 151.35, 10.1, 159.15], S=2), Edge(type=<DrawCommand.QUADRATICTO: 2>, data=[3.95, 174.85, -6.45, 173.05], S=2), Edge(type=<DrawCommand.QUADRATICTO: 2>, data=[-10.15, 172.35, -11.55, 168.65], S=2)], stroke=None, fill0=None, fill1='#666666')\n",
      "1 Edge(type=<DrawCommand.LINETO: 1>, data=[-7.0, 99.85], S=2) Path(edges=[Edge(type=<DrawCommand.MOVETO: 0>, data=[-9.15, 100.85], S=2), Edge(type=<DrawCommand.LINETO: 1>, data=[-7.0, 99.85], S=2)], stroke=None, fill0=None, fill1='#CCCCCC')\n",
      "15 Edge(type=<DrawCommand.QUADRATICTO: 2>, data=[-8.25, 101.35, -7.0, 99.85], S=3) Path(edges=[Edge(type=<DrawCommand.MOVETO: 0>, data=[-33.4, 96.4], S=2), Edge(type=<DrawCommand.QUADRATICTO: 2>, data=[-31.15, 101.2, -31.7, 110.4], S=3), Edge(type=<DrawCommand.QUADRATICTO: 2>, data=[-31.95, 115.65, -33.9, 127.2], S=3), Edge(type=<DrawCommand.QUADRATICTO: 2>, data=[-35.7, 137.75, -35.75, 141.7], S=3), Edge(type=<DrawCommand.QUADRATICTO: 2>, data=[-35.75, 147.9, -32.5, 148.5], S=3), Edge(type=<DrawCommand.QUADRATICTO: 2>, data=[-25.1, 149.8, -18.85, 137.3], S=3), Edge(type=<DrawCommand.QUADRATICTO: 2>, data=[-15.65, 131.0, -13.85, 123.9], S=3), Edge(type=<DrawCommand.QUADRATICTO: 2>, data=[-12.25, 114.8, -12.55, 104.9], S=3), Edge(type=<DrawCommand.QUADRATICTO: 2>, data=[-12.8, 89.5, -18.75, 88.5], S=3), Edge(type=<DrawCommand.QUADRATICTO: 2>, data=[-19.7, 88.3, -22.15, 88.8], S=3), Edge(type=<DrawCommand.QUADRATICTO: 2>, data=[-24.55, 89.25, -25.0, 88.75], S=3), Edge(type=<DrawCommand.QUADRATICTO: 2>, data=[-25.5, 88.2, -28.95, 91.25], S=3), Edge(type=<DrawCommand.QUADRATICTO: 2>, data=[-32.35, 94.25, -33.4, 96.4], S=3), Edge(type=<DrawCommand.MOVETO: 0>, data=[-9.15, 100.85], S=3), Edge(type=<DrawCommand.QUADRATICTO: 2>, data=[-9.0, 101.8, -9.0, 102.75], S=3), Edge(type=<DrawCommand.QUADRATICTO: 2>, data=[-8.25, 101.35, -7.0, 99.85], S=3), Edge(type=<DrawCommand.MOVETO: 0>, data=[-26.55, 171.55], S=3), Edge(type=<DrawCommand.QUADRATICTO: 2>, data=[-28.15, 172.0, -29.8, 171.7], S=3), Edge(type=<DrawCommand.QUADRATICTO: 2>, data=[-31.15, 171.45, -32.3, 170.2], S=3), Edge(type=<DrawCommand.QUADRATICTO: 2>, data=[-33.35, 168.95, -33.2, 168.0], S=3), Edge(type=<DrawCommand.LINETO: 1>, data=[-30.7, 168.6], S=3), Edge(type=<DrawCommand.QUADRATICTO: 2>, data=[-25.7, 169.4, -21.1, 164.45], S=3), Edge(type=<DrawCommand.QUADRATICTO: 2>, data=[-20.85, 164.35, -20.7, 164.15], S=3), Edge(type=<DrawCommand.LINETO: 1>, data=[-17.3, 159.65], S=3), Edge(type=<DrawCommand.QUADRATICTO: 2>, data=[-17.55, 157.9, -17.25, 155.3], S=3), Edge(type=<DrawCommand.QUADRATICTO: 2>, data=[-16.95, 151.95, -16.15, 148.65], S=3), Edge(type=<DrawCommand.QUADRATICTO: 2>, data=[-14.15, 136.7, -12.1, 129.05], S=3), Edge(type=<DrawCommand.QUADRATICTO: 2>, data=[-13.9, 133.25, -19.05, 142.95], S=3), Edge(type=<DrawCommand.QUADRATICTO: 2>, data=[-24.2, 152.55, -32.9, 152.15], S=3), Edge(type=<DrawCommand.QUADRATICTO: 2>, data=[-41.7, 151.6, -39.15, 129.8], S=3), Edge(type=<DrawCommand.LINETO: 1>, data=[-36.55, 113.0], S=3), Edge(type=<DrawCommand.QUADRATICTO: 2>, data=[-35.0, 103.85, -35.1, 101.35], S=3), Edge(type=<DrawCommand.LINETO: 1>, data=[-35.65, 100.8], S=3), Edge(type=<DrawCommand.QUADRATICTO: 2>, data=[-40.3, 111.5, -44.0, 127.6], S=3), Edge(type=<DrawCommand.LINETO: 1>, data=[-47.75, 149.15], S=3), Edge(type=<DrawCommand.LINETO: 1>, data=[-49.45, 155.25], S=3), Edge(type=<DrawCommand.QUADRATICTO: 2>, data=[-49.45, 161.55, -49.45, 165.05], S=3), Edge(type=<DrawCommand.MOVETO: 0>, data=[-11.55, 168.65], S=3), Edge(type=<DrawCommand.QUADRATICTO: 2>, data=[-12.55, 165.95, -12.15, 163.65], S=3), Edge(type=<DrawCommand.LINETO: 1>, data=[-11.85, 162.5], S=3), Edge(type=<DrawCommand.LINETO: 1>, data=[-15.5, 162.35], S=3), Edge(type=<DrawCommand.LINETO: 1>, data=[-16.35, 161.85], S=3), Edge(type=<DrawCommand.QUADRATICTO: 2>, data=[-17.6, 164.15, -18.95, 165.8], S=3)], stroke=None, fill0='#CCCCCC', fill1='#666666')\n"
     ]
    }
   ],
   "source": [
    "from path import draw_path, draw_paths, find_subpaths, addEdgeToGroup, reverse_draw_commands, findContours, disjoint_path_join, crop_path\n",
    "shape = doc.animations[1][7][0]\n",
    "edgeGroups = {}\n",
    "split_paths = []\n",
    "for path in shape.paths:\n",
    "    split_paths.extend(find_subpaths(path))\n",
    "\n",
    "for path in split_paths: # split_paths[2:6]+split_paths[0:1]\n",
    "    if path.fill0 != None: addEdgeToGroup(edgeGroups, path.fill0,  path)\n",
    "    if path.fill1 != None: addEdgeToGroup(edgeGroups, path.fill1, reverse_draw_commands(path))\n",
    "filledRegs = {}\n",
    "for fillStyle, group in edgeGroups.items():\n",
    "    filledRegs[fillStyle] = findContours(group, fillStyle)\n"
   ]
  },
  {
   "cell_type": "code",
   "execution_count": 41,
   "metadata": {},
   "outputs": [
    {
     "data": {
      "text/plain": [
       "[Path(edges=[Edge(type=<DrawCommand.MOVETO: 0>, data=[6.8, 145.2], S=3), Edge(type=<DrawCommand.QUADRATICTO: 2>, data=[9.95, 140.45, 11.35, 131.9], S=3), Edge(type=<DrawCommand.LINETO: 1>, data=[11.4, 131.8], S=3), Edge(type=<DrawCommand.LINETO: 1>, data=[12.4, 128.2], S=3), Edge(type=<DrawCommand.LINETO: 1>, data=[12.5, 127.4], S=3), Edge(type=<DrawCommand.QUADRATICTO: 2>, data=[12.85, 129.55, 12.95, 131.65], S=3), Edge(type=<DrawCommand.QUADRATICTO: 2>, data=[13.35, 137.5, 12.35, 143.3], S=3), Edge(type=<DrawCommand.QUADRATICTO: 2>, data=[5.45, 171.45, -5.85, 169.45], S=3), Edge(type=<DrawCommand.LINETO: 1>, data=[-7.35, 169.35], S=3), Edge(type=<DrawCommand.QUADRATICTO: 2>, data=[-8.1, 169.1, -8.5, 167.6], S=3), Edge(type=<DrawCommand.LINETO: 1>, data=[-10.1, 161.2], S=3), Edge(type=<DrawCommand.QUADRATICTO: 2>, data=[-0.8, 157.15, 3.2, 152.15], S=3), Edge(type=<DrawCommand.QUADRATICTO: 2>, data=[5.45, 147.35, 6.8, 145.2], S=0)], stroke=None, fill0='#666666', fill1='#CCCCCC'),\n",
       " Path(edges=[Edge(type=<DrawCommand.MOVETO: 0>, data=[9.5, 128.45], S=3), Edge(type=<DrawCommand.LINETO: 1>, data=[8.4, 133.95], S=3), Edge(type=<DrawCommand.LINETO: 1>, data=[1.2, 149.85], S=3), Edge(type=<DrawCommand.QUADRATICTO: 2>, data=[-2.35, 157.1, -13.95, 158.25], S=3), Edge(type=<DrawCommand.QUADRATICTO: 2>, data=[-14.45, 155.7, -13.25, 148.6], S=3), Edge(type=<DrawCommand.LINETO: 1>, data=[-10.6, 134.15], S=3), Edge(type=<DrawCommand.QUADRATICTO: 2>, data=[-9.15, 125.5, -9.15, 120.25], S=3), Edge(type=<DrawCommand.LINETO: 1>, data=[-11.0, 125.15], S=3), Edge(type=<DrawCommand.LINETO: 1>, data=[-10.55, 123.35], S=3), Edge(type=<DrawCommand.QUADRATICTO: 2>, data=[-9.0, 114.2, -9.0, 104.95], S=3), Edge(type=<DrawCommand.QUADRATICTO: 2>, data=[-7.55, 102.35, -5.35, 100.45], S=3), Edge(type=<DrawCommand.QUADRATICTO: 2>, data=[-1.1, 97.05, 4.6, 98.05], S=3), Edge(type=<DrawCommand.QUADRATICTO: 2>, data=[10.3, 99.1, 10.65, 111.7], S=3), Edge(type=<DrawCommand.QUADRATICTO: 2>, data=[11.0, 119.65, 9.5, 128.45], S=3)], stroke=None, fill0='#666666', fill1='#CCCCCC'),\n",
       " Path(edges=[Edge(type=<DrawCommand.MOVETO: 0>, data=[-11.55, 168.65], S=2), Edge(type=<DrawCommand.QUADRATICTO: 2>, data=[-10.15, 172.35, -6.45, 173.05], S=2), Edge(type=<DrawCommand.QUADRATICTO: 2>, data=[3.95, 174.85, 10.1, 159.15], S=2), Edge(type=<DrawCommand.QUADRATICTO: 2>, data=[13.15, 151.35, 14.25, 142.95], S=2), Edge(type=<DrawCommand.QUADRATICTO: 2>, data=[16.5, 129.4, 13.3, 122.75], S=2), Edge(type=<DrawCommand.QUADRATICTO: 2>, data=[16.75, 96.2, 6.05, 94.35], S=2), Edge(type=<DrawCommand.QUADRATICTO: 2>, data=[-0.55, 93.15, -5.7, 98.45], S=2), Edge(type=<DrawCommand.QUADRATICTO: 2>, data=[-6.45, 99.15, -7.0, 99.85], S=3)], stroke=None, fill0='#666666', fill1=None),\n",
       " Path(edges=[Edge(type=<DrawCommand.MOVETO: 0>, data=[-26.55, 171.55], S=2), Edge(type=<DrawCommand.QUADRATICTO: 2>, data=[-22.65, 170.65, -18.95, 165.8], S=2), Edge(type=<DrawCommand.QUADRATICTO: 2>, data=[-17.6, 164.15, -16.35, 161.85], S=3), Edge(type=<DrawCommand.LINETO: 1>, data=[-15.5, 162.35], S=3), Edge(type=<DrawCommand.LINETO: 1>, data=[-11.85, 162.5], S=3), Edge(type=<DrawCommand.LINETO: 1>, data=[-12.15, 163.65], S=3), Edge(type=<DrawCommand.QUADRATICTO: 2>, data=[-12.55, 165.95, -11.55, 168.65], S=3), Edge(type=<DrawCommand.MOVETO: 0>, data=[-49.45, 165.05], S=3), Edge(type=<DrawCommand.QUADRATICTO: 2>, data=[-49.45, 161.55, -49.45, 155.25], S=3), Edge(type=<DrawCommand.LINETO: 1>, data=[-47.75, 149.15], S=3), Edge(type=<DrawCommand.LINETO: 1>, data=[-44.0, 127.6], S=3), Edge(type=<DrawCommand.QUADRATICTO: 2>, data=[-40.3, 111.5, -35.65, 100.8], S=3), Edge(type=<DrawCommand.LINETO: 1>, data=[-35.1, 101.35], S=3), Edge(type=<DrawCommand.QUADRATICTO: 2>, data=[-35.0, 103.85, -36.55, 113.0], S=3), Edge(type=<DrawCommand.LINETO: 1>, data=[-39.15, 129.8], S=3), Edge(type=<DrawCommand.QUADRATICTO: 2>, data=[-41.7, 151.6, -32.9, 152.15], S=3), Edge(type=<DrawCommand.QUADRATICTO: 2>, data=[-24.2, 152.55, -19.05, 142.95], S=3), Edge(type=<DrawCommand.QUADRATICTO: 2>, data=[-13.9, 133.25, -12.1, 129.05], S=3), Edge(type=<DrawCommand.QUADRATICTO: 2>, data=[-14.15, 136.7, -16.15, 148.65], S=3), Edge(type=<DrawCommand.QUADRATICTO: 2>, data=[-16.95, 151.95, -17.25, 155.3], S=3), Edge(type=<DrawCommand.QUADRATICTO: 2>, data=[-17.55, 157.9, -17.3, 159.65], S=3), Edge(type=<DrawCommand.LINETO: 1>, data=[-20.7, 164.15], S=3), Edge(type=<DrawCommand.QUADRATICTO: 2>, data=[-20.85, 164.35, -21.1, 164.45], S=3), Edge(type=<DrawCommand.QUADRATICTO: 2>, data=[-25.7, 169.4, -30.7, 168.6], S=3), Edge(type=<DrawCommand.LINETO: 1>, data=[-33.2, 168.0], S=3), Edge(type=<DrawCommand.QUADRATICTO: 2>, data=[-33.35, 168.95, -32.3, 170.2], S=3), Edge(type=<DrawCommand.QUADRATICTO: 2>, data=[-31.15, 171.45, -29.8, 171.7], S=3), Edge(type=<DrawCommand.QUADRATICTO: 2>, data=[-28.15, 172.0, -26.55, 171.55], S=3), Edge(type=<DrawCommand.MOVETO: 0>, data=[-7.0, 99.85], S=3), Edge(type=<DrawCommand.QUADRATICTO: 2>, data=[-8.25, 101.35, -9.0, 102.75], S=3), Edge(type=<DrawCommand.QUADRATICTO: 2>, data=[-9.0, 101.8, -9.15, 100.85], S=3), Edge(type=<DrawCommand.QUADRATICTO: 2>, data=[-9.95, 84.25, -17.65, 82.85], S=2), Edge(type=<DrawCommand.QUADRATICTO: 2>, data=[-31.75, 80.35, -40.15, 100.6], S=2), Edge(type=<DrawCommand.QUADRATICTO: 2>, data=[-44.4, 110.7, -46.1, 119.75], S=2), Edge(type=<DrawCommand.LINETO: 1>, data=[-49.15, 135.1], S=2), Edge(type=<DrawCommand.QUADRATICTO: 2>, data=[-50.5, 141.25, -51.5, 151.45], S=2), Edge(type=<DrawCommand.QUADRATICTO: 2>, data=[-52.1, 159.1, -49.4, 166.35], S=2), Edge(type=<DrawCommand.QUADRATICTO: 2>, data=[-49.4, 165.75, -49.45, 165.05], S=2)], stroke=None, fill0='#666666', fill1=None),\n",
       " Path(edges=[Edge(type=<DrawCommand.MOVETO: 0>, data=[-33.4, 96.4], S=3), Edge(type=<DrawCommand.QUADRATICTO: 2>, data=[-32.35, 94.25, -28.95, 91.25], S=3), Edge(type=<DrawCommand.QUADRATICTO: 2>, data=[-25.5, 88.2, -25.0, 88.75], S=3), Edge(type=<DrawCommand.QUADRATICTO: 2>, data=[-24.55, 89.25, -22.15, 88.8], S=3), Edge(type=<DrawCommand.QUADRATICTO: 2>, data=[-19.7, 88.3, -18.75, 88.5], S=3), Edge(type=<DrawCommand.QUADRATICTO: 2>, data=[-12.8, 89.5, -12.55, 104.9], S=3), Edge(type=<DrawCommand.QUADRATICTO: 2>, data=[-12.25, 114.8, -13.85, 123.9], S=3), Edge(type=<DrawCommand.QUADRATICTO: 2>, data=[-15.65, 131.0, -18.85, 137.3], S=3), Edge(type=<DrawCommand.QUADRATICTO: 2>, data=[-25.1, 149.8, -32.5, 148.5], S=3), Edge(type=<DrawCommand.QUADRATICTO: 2>, data=[-35.75, 147.9, -35.75, 141.7], S=3), Edge(type=<DrawCommand.QUADRATICTO: 2>, data=[-35.7, 137.75, -33.9, 127.2], S=3), Edge(type=<DrawCommand.QUADRATICTO: 2>, data=[-31.95, 115.65, -31.7, 110.4], S=3), Edge(type=<DrawCommand.QUADRATICTO: 2>, data=[-31.15, 101.2, -33.4, 96.4], S=2)], stroke=None, fill0='#666666', fill1='#CCCCCC')]"
      ]
     },
     "execution_count": 41,
     "metadata": {},
     "output_type": "execute_result"
    }
   ],
   "source": []
  },
  {
   "cell_type": "code",
   "execution_count": 58,
   "metadata": {},
   "outputs": [
    {
     "data": {
      "image/svg+xml": [
       "<?xml version=\"1.0\" encoding=\"UTF-8\"?>\n",
       "<svg xmlns=\"http://www.w3.org/2000/svg\" xmlns:xlink=\"http://www.w3.org/1999/xlink\"\n",
       "     width=\"480\" height=\"480\" viewBox=\"-240 -240 480 480\">\n",
       "<defs>\n",
       "</defs>\n",
       "<path d=\"M6.8,145.2 Q9.95,140.45,11.35,131.9 L11.4,131.8 L12.4,128.2 L12.5,127.4 Q12.85,129.55,12.95,131.65 Q13.35,137.5,12.35,143.3 Q5.45,171.45,-5.85,169.45 L-7.35,169.35 Q-8.1,169.1,-8.5,167.6 L-10.1,161.2 Q-0.8,157.15,3.2,152.15 Q5.45,147.35,6.8,145.2\" fill=\"grey\" stroke=\"blue\" stroke-width=\"3\" stroke-linecap=\"butt\" />\n",
       "<path d=\"M9.5,128.45 L8.4,133.95 L1.2,149.85 Q-2.35,157.1,-13.95,158.25 Q-14.45,155.7,-13.25,148.6 L-10.6,134.15 Q-9.15,125.5,-9.15,120.25 L-11.0,125.15 L-10.55,123.35 Q-9.0,114.2,-9.0,104.95 Q-7.55,102.35,-5.35,100.45 Q-1.1,97.05,4.6,98.05 Q10.3,99.1,10.65,111.7 Q11.0,119.65,9.5,128.45\" fill=\"grey\" stroke=\"blue\" stroke-width=\"3\" stroke-linecap=\"butt\" />\n",
       "<path d=\"M-11.55,168.65 Q-10.15,172.35,-6.45,173.05 Q3.95,174.85,10.1,159.15 Q13.15,151.35,14.25,142.95 Q16.5,129.4,13.3,122.75 Q16.75,96.2,6.05,94.35 Q-0.55,93.15,-5.7,98.45 Q-6.45,99.15,-7.0,99.85\" fill=\"grey\" stroke=\"blue\" stroke-width=\"3\" stroke-linecap=\"butt\" />\n",
       "<path d=\"M-26.55,171.55 Q-22.65,170.65,-18.95,165.8 Q-17.6,164.15,-16.35,161.85 L-15.5,162.35 L-11.85,162.5 L-12.15,163.65 Q-12.55,165.95,-11.55,168.65 M-49.45,165.05 Q-49.45,161.55,-49.45,155.25 L-47.75,149.15 L-44.0,127.6 Q-40.3,111.5,-35.65,100.8 L-35.1,101.35 Q-35.0,103.85,-36.55,113.0 L-39.15,129.8 Q-41.7,151.6,-32.9,152.15 Q-24.2,152.55,-19.05,142.95 Q-13.9,133.25,-12.1,129.05 Q-14.15,136.7,-16.15,148.65 Q-16.95,151.95,-17.25,155.3 Q-17.55,157.9,-17.3,159.65 L-20.7,164.15 Q-20.85,164.35,-21.1,164.45 Q-25.7,169.4,-30.7,168.6 L-33.2,168.0 Q-33.35,168.95,-32.3,170.2 Q-31.15,171.45,-29.8,171.7 Q-28.15,172.0,-26.55,171.55 M-7.0,99.85 Q-8.25,101.35,-9.0,102.75 Q-9.0,101.8,-9.15,100.85 Q-9.95,84.25,-17.65,82.85 Q-31.75,80.35,-40.15,100.6 Q-44.4,110.7,-46.1,119.75 L-49.15,135.1 Q-50.5,141.25,-51.5,151.45 Q-52.1,159.1,-49.4,166.35 Q-49.4,165.75,-49.45,165.05\" fill=\"grey\" stroke=\"blue\" stroke-width=\"3\" stroke-linecap=\"butt\" />\n",
       "<path d=\"M-33.4,96.4 Q-32.35,94.25,-28.95,91.25 Q-25.5,88.2,-25.0,88.75 Q-24.55,89.25,-22.15,88.8 Q-19.7,88.3,-18.75,88.5 Q-12.8,89.5,-12.55,104.9 Q-12.25,114.8,-13.85,123.9 Q-15.65,131.0,-18.85,137.3 Q-25.1,149.8,-32.5,148.5 Q-35.75,147.9,-35.75,141.7 Q-35.7,137.75,-33.9,127.2 Q-31.95,115.65,-31.7,110.4 Q-31.15,101.2,-33.4,96.4\" fill=\"grey\" stroke=\"blue\" stroke-width=\"3\" stroke-linecap=\"butt\" />\n",
       "</svg>"
      ],
      "text/plain": [
       "<drawsvg.drawing.Drawing at 0x20d630e9390>"
      ]
     },
     "execution_count": 58,
     "metadata": {},
     "output_type": "execute_result"
    }
   ],
   "source": [
    "draw_paths(findContours(edgeGroups['#666666'], '#666666'))"
   ]
  },
  {
   "cell_type": "code",
   "execution_count": 54,
   "metadata": {},
   "outputs": [
    {
     "data": {
      "image/svg+xml": [
       "<?xml version=\"1.0\" encoding=\"UTF-8\"?>\n",
       "<svg xmlns=\"http://www.w3.org/2000/svg\" xmlns:xlink=\"http://www.w3.org/1999/xlink\"\n",
       "     width=\"480\" height=\"480\" viewBox=\"-240 -240 480 480\">\n",
       "<defs>\n",
       "</defs>\n",
       "<path d=\"M-26.55,171.55 Q-22.65,170.65,-18.95,165.8 Q-17.6,164.15,-16.35,161.85 L-15.5,162.35 L-11.85,162.5 L-12.15,163.65 Q-12.55,165.95,-11.55,168.65 M-49.45,165.05 Q-49.45,161.55,-49.45,155.25 L-47.75,149.15 L-44.0,127.6 Q-40.3,111.5,-35.65,100.8 L-35.1,101.35 Q-35.0,103.85,-36.55,113.0 L-39.15,129.8 Q-41.7,151.6,-32.9,152.15 Q-24.2,152.55,-19.05,142.95 Q-13.9,133.25,-12.1,129.05 Q-14.15,136.7,-16.15,148.65 Q-16.95,151.95,-17.25,155.3 Q-17.55,157.9,-17.3,159.65 L-20.7,164.15 Q-20.85,164.35,-21.1,164.45 Q-25.7,169.4,-30.7,168.6 L-33.2,168.0 Q-33.35,168.95,-32.3,170.2 Q-31.15,171.45,-29.8,171.7 Q-28.15,172.0,-26.55,171.55 M-7.0,99.85 Q-8.25,101.35,-9.0,102.75 Q-9.0,101.8,-9.15,100.85 Q-9.95,84.25,-17.65,82.85 Q-31.75,80.35,-40.15,100.6 Q-44.4,110.7,-46.1,119.75 L-49.15,135.1 Q-50.5,141.25,-51.5,151.45 Q-52.1,159.1,-49.4,166.35 Q-49.4,165.75,-49.45,165.05 M-33.4,96.4 Q-32.35,94.25,-28.95,91.25 Q-25.5,88.2,-25.0,88.75 Q-24.55,89.25,-22.15,88.8 Q-19.7,88.3,-18.75,88.5 Q-12.8,89.5,-12.55,104.9 Q-12.25,114.8,-13.85,123.9 Q-15.65,131.0,-18.85,137.3 Q-25.1,149.8,-32.5,148.5 Q-35.75,147.9,-35.75,141.7 Q-35.7,137.75,-33.9,127.2 Q-31.95,115.65,-31.7,110.4 Q-31.15,101.2,-33.4,96.4\" fill=\"white\" stroke=\"blue\" stroke-width=\"3\" stroke-linecap=\"butt\" />\n",
       "</svg>"
      ],
      "text/plain": [
       "<drawsvg.drawing.Drawing at 0x20d63182a10>"
      ]
     },
     "execution_count": 54,
     "metadata": {},
     "output_type": "execute_result"
    }
   ],
   "source": [
    "draw_path(disjoint_path_join(findContours(edgeGroups['#666666'], '#666666')[-2], findContours(edgeGroups['#666666'], '#666666')[-1]))"
   ]
  },
  {
   "cell_type": "code",
   "execution_count": null,
   "metadata": {},
   "outputs": [],
   "source": []
  }
 ],
 "metadata": {
  "kernelspec": {
   "display_name": ".venv",
   "language": "python",
   "name": "python3"
  },
  "language_info": {
   "codemirror_mode": {
    "name": "ipython",
    "version": 3
   },
   "file_extension": ".py",
   "mimetype": "text/x-python",
   "name": "python",
   "nbconvert_exporter": "python",
   "pygments_lexer": "ipython3",
   "version": "3.11.6"
  }
 },
 "nbformat": 4,
 "nbformat_minor": 2
}
