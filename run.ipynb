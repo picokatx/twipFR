{
 "cells": [
  {
   "cell_type": "code",
   "execution_count": 15,
   "metadata": {},
   "outputs": [],
   "source": [
    "import re\n",
    "import xml.etree.ElementTree as ET\n",
    "from xml.etree.ElementTree import Element\n",
    "from typing import List\n",
    "from collections import namedtuple\n",
    "from enum import Enum\n",
    "import zipfile\n",
    "import zlib\n",
    "import drawsvg as dw\n",
    "from drawsvg import FrameAnimation"
   ]
  },
  {
   "cell_type": "code",
   "execution_count": 3,
   "metadata": {},
   "outputs": [],
   "source": [
    "BASE_DIR = \"base/LIBRARY/PonyTemplate►/PonyTemplate►BodyParts/PonyTemplate►Wings/\""
   ]
  },
  {
   "cell_type": "code",
   "execution_count": 4,
   "metadata": {},
   "outputs": [],
   "source": [
    "class DrawCommand(Enum):\n",
    "    MOVETO = 0\n",
    "    LINETO = 1\n",
    "    QUADRATICTO = 2\n",
    "Edge = namedtuple(\"Edge\", [\"type\", \"data\", \"S\"])\n",
    "Path = namedtuple(\"Path\", [\"edges\", \"stroke\", \"fill0\", \"fill1\"])\n",
    "Shape = namedtuple(\"Shape\", [\"palette\",\"transformation_pt\", \"paths\"])\n",
    "Point = namedtuple(\"Point\", [\"x\", \"y\"])\n",
    "\n",
    "def xml_find_prepend(root: Element, path: List[str]):\n",
    "    return root.find(\"/\".join(\".//{http://ns.adobe.com/xfl/2008/}\"+p for p in path))\n",
    "def xml_findall_prepend(root: Element, path: List[str]):\n",
    "    return root.findall(\"/\".join(\".//{http://ns.adobe.com/xfl/2008/}\"+p for p in path))\n",
    "SYMBOLS = [\n",
    "    r\"\\s*\\!(-*\\d+\\.*\\d*)\\s+(-*\\d+\\.*\\d*)\\s*\",\n",
    "    r\"\\s*\\|(-*\\d+\\.*\\d*)\\s+(-*\\d+\\.*\\d*)\\s*\",\n",
    "    r\"\\s*\\[((?:\\#[0-9A-F]{1,6}\\.[0-9A-F]{1,2})|(?:-*\\d+\\.*\\d*))\\s+((?:\\#[0-9A-F]{1,6}\\.[0-9A-F]{1,2})|(?:-*\\d+\\.*\\d*))\\s+((?:\\#[0-9A-F]{1,6}\\.[0-9A-F]{1,2})|(?:-*\\d+\\.*\\d*))\\s+((?:\\#[0-9A-F]{1,6}\\.[0-9A-F]{1,2})|(?:-*\\d+\\.*\\d*))\\s*\",\n",
    "    r\"S\\d{1}\"\n",
    "]\n",
    "\n",
    "def decode_fla_value(val: str):\n",
    "    if val[0]==\"#\":\n",
    "        hex_out = \"\".join(val[1:].split(\".\"))\n",
    "        out = int(hex_out, 16)\n",
    "        if out >= 0x80000000:\n",
    "            out = -(0xffffffff - out + 1)\n",
    "        out = out / (256 if len(val.split(\".\")[1])==2 else 16)\n",
    "    else:\n",
    "        out = float(val) if \".\" in val else int(val)\n",
    "    if (out>100000): print(val, out)\n",
    "    return out\n",
    "\n",
    "def pathstring_parse(pathstr: str, S: int):\n",
    "    c = 0\n",
    "    code = []\n",
    "    edge = pathstr\n",
    "    prev_pos = None\n",
    "    while c<len(edge):\n",
    "        found_symbol = False\n",
    "        for i in range(len(SYMBOLS)):\n",
    "            out = re.match(SYMBOLS[i], edge[c:])\n",
    "            if (out!=None):\n",
    "                found_symbol = True\n",
    "                if i!=3:\n",
    "                    args = [decode_fla_value(c) for c in out.groups()]\n",
    "                    if prev_pos!=args[-2:] or i!=0:\n",
    "                        code.append(Edge(DrawCommand(i), args, S))\n",
    "                    prev_pos = args[-2:]\n",
    "                else:\n",
    "                    S = int(out.group(0)[1])\n",
    "                c+=out.span()[1]-out.span()[0]\n",
    "                break\n",
    "        if not found_symbol:\n",
    "            print(edge[c:c+50])\n",
    "            break\n",
    "    return S, code\n",
    "\n",
    "def DOMshape_parse(elm: Element):\n",
    "    trans_pt_node = xml_find_prepend(element, [\"transformationPoint\"])\n",
    "    trans_pt = xml_find_prepend(trans_pt_node, [\"Point\"]) if trans_pt_node!=None else None\n",
    "    trans_coords = Point(trans_pt.attrib['x'], trans_pt.attrib['y']) if trans_pt!=None else (-1, -1)\n",
    "    # color palette\n",
    "    fills = xml_findall_prepend(elm, [\"fills/\"])\n",
    "    fill_dict = {0: None}\n",
    "    for fill in fills:\n",
    "        fill_dict[fill.attrib[\"index\"]] = xml_find_prepend(fill, [\"SolidColor\"]).attrib[\"color\"]\n",
    "\n",
    "    # paths\n",
    "    edges = xml_findall_prepend(elm, [\"edges/\"])\n",
    "    paths = []\n",
    "    hints = [] # not using hints cubics for now\n",
    "    S = 0\n",
    "    for edge in edges:\n",
    "        if \"edges\" in edge.attrib:\n",
    "            fill0 = fill_dict[edge.attrib[\"fillStyle0\"] if \"fillStyle0\" in edge.attrib else 0]\n",
    "            fill1 = fill_dict[edge.attrib[\"fillStyle1\"] if \"fillStyle1\" in edge.attrib else 0]\n",
    "            S, temp = pathstring_parse(edge.attrib[\"edges\"].replace(\"\\n\", \"\").strip(), S)\n",
    "            paths.append(Path(temp, stroke_col, fill0, fill1))\n",
    "        else:\n",
    "            hints.append(edge.attrib[\"cubics\"])\n",
    "    return Shape(fill_dict, trans_coords, paths)\n",
    "\n",
    "root  = ET.parse(BASE_DIR+\"PonyTemplate►3Q Front Wing.xml\").getroot()\n",
    "layers = xml_find_prepend(root, [\"timeline\", \"DOMTimeline\", \"layers\"])\n",
    "animations = []\n",
    "for layer in layers:\n",
    "    stroke_col = layer.attrib[\"color\"]\n",
    "    frames = xml_findall_prepend(layer, [\"frames/\"])\n",
    "    anim_frames = []\n",
    "    for frame in frames:\n",
    "        shapes = []\n",
    "        elements = xml_findall_prepend(frame, [\"elements/\"])\n",
    "        for element in elements:\n",
    "            if element.tag==\"{http://ns.adobe.com/xfl/2008/}DOMShape\":\n",
    "                shapes.append(DOMshape_parse(element))\n",
    "            if element.tag==\"{http://ns.adobe.com/xfl/2008/}DOMGroup\":\n",
    "                for member in xml_findall_prepend(element, [\"members/\"]):\n",
    "                    shapes.append(DOMshape_parse(element))\n",
    "        anim_frames.append(shapes)\n",
    "\n",
    "    animations.append(anim_frames)"
   ]
  },
  {
   "cell_type": "code",
   "execution_count": 184,
   "metadata": {},
   "outputs": [],
   "source": [
    "def get_startpt(path: Path):\n",
    "    return path.edges[0].data\n",
    "def get_endpt(path: Path):\n",
    "    if path.edges[-1].type == DrawCommand.QUADRATICTO:\n",
    "        return path.edges[-1].data[2:]\n",
    "    else:\n",
    "        return path.edges[-1].data\n",
    "def closed(path: Path):\n",
    "    return get_startpt(path)==get_endpt(path)\n",
    "def get_pt(edge):\n",
    "    if edge.type == DrawCommand.MOVETO:\n",
    "        return edge.data\n",
    "    if edge.type == DrawCommand.LINETO:\n",
    "        return edge.data\n",
    "    if edge.type == DrawCommand.QUADRATICTO:\n",
    "        return edge.data[2:]\n",
    "def get_quad(edge):\n",
    "    if edge.type == DrawCommand.MOVETO:\n",
    "        return None\n",
    "    if edge.type == DrawCommand.LINETO:\n",
    "        return None\n",
    "    if edge.type == DrawCommand.QUADRATICTO:\n",
    "        return edge.data[:2]\n",
    "def path_join(path1: Path, path2: Path):\n",
    "    if get_endpt(path1)==get_startpt(path2):\n",
    "        return Path(path1.edges+path2.edges[1:], path1.stroke, path1.fill0, path1.fill1)\n",
    "    else:\n",
    "        return None\n",
    "\n",
    "def reverse_draw_commands(path: Path):\n",
    "    edges = path.edges\n",
    "    reversed_edges = [Edge(DrawCommand.MOVETO, get_pt(edges[-1]), edges[-1].S)]\n",
    "    prev_quad = None\n",
    "    prev_command = None\n",
    "    endpt = get_pt(edges[-1])\n",
    "    for edge in reversed(edges):\n",
    "        endpt = get_pt(edge)\n",
    "        if prev_command == DrawCommand.MOVETO:\n",
    "            reversed_edges.append(Edge(DrawCommand.MOVETO, endpt, edge.S))\n",
    "        elif prev_command == DrawCommand.LINETO:\n",
    "            reversed_edges.append(Edge(DrawCommand.LINETO, endpt, edge.S))\n",
    "        elif prev_command == DrawCommand.QUADRATICTO:\n",
    "            reversed_edges.append(Edge(DrawCommand.QUADRATICTO, prev_quad+endpt, edge.S))\n",
    "        prev_command = edge.type\n",
    "        prev_quad = get_quad(edge)\n",
    "    return Path(reversed_edges, path.stroke, path.fill1, path.fill0)\n"
   ]
  },
  {
   "cell_type": "code",
   "execution_count": 207,
   "metadata": {},
   "outputs": [],
   "source": [
    "def addEdgeToGroup(edgeGroups,group,edge):\n",
    "    if not group in edgeGroups: edgeGroups[group] = []\n",
    "    edgeGroups[group].append(edge)\n",
    "def findConnectedTo(prevEdge,edges):\n",
    "    for i, edge in enumerate(edges):\n",
    "        if get_startpt(edge) == get_endpt(prevEdge): return i  \n",
    "    return -1\n",
    "\n",
    "def findContour(group: List[Path]):\n",
    "    contour = group.pop(0)\n",
    "    at = findConnectedTo(contour,group)\n",
    "    while (not closed(contour) and len(group) > 0 and at!=-1):\n",
    "        contour = path_join(contour, group[at])\n",
    "        group.pop(at)\n",
    "        at = findConnectedTo(contour,group)\n",
    "    return contour\n",
    "def findContours(group):\n",
    "    group = [path for path in group]\n",
    "    contours = []\n",
    "    while len(group) > 0:\n",
    "        contours.append(findContour(group))\n",
    "    return contours"
   ]
  },
  {
   "cell_type": "code",
   "execution_count": 230,
   "metadata": {},
   "outputs": [
    {
     "data": {
      "text/plain": [
       "{'#666666': [Path(edges=[Edge(type=<DrawCommand.MOVETO: 0>, data=[149, 2832], S=0), Edge(type=<DrawCommand.LINETO: 1>, data=[-375, 3144], S=0), Edge(type=<DrawCommand.QUADRATICTO: 2>, data=[-413, 3108, -442, 3086], S=0), Edge(type=<DrawCommand.QUADRATICTO: 2>, data=[-464, 3069, -513, 3056], S=0), Edge(type=<DrawCommand.QUADRATICTO: 2>, data=[-581, 3038, -582, 3038], S=0), Edge(type=<DrawCommand.QUADRATICTO: 2>, data=[-341, 2884, -144, 2804], S=0), Edge(type=<DrawCommand.QUADRATICTO: 2>, data=[-6, 2749, 66, 2743], S=0), Edge(type=<DrawCommand.QUADRATICTO: 2>, data=[109, 2740, 135, 2772], S=0), Edge(type=<DrawCommand.QUADRATICTO: 2>, data=[148, 2789, 148, 2804], S=0), Edge(type=<DrawCommand.LINETO: 1>, data=[149, 2832], S=0), Edge(type=<DrawCommand.MOVETO: 0>, data=[207, 2842], S=0), Edge(type=<DrawCommand.QUADRATICTO: 2>, data=[303, 2790, 399, 2766], S=0), Edge(type=<DrawCommand.QUADRATICTO: 2>, data=[507, 2737, 533, 2770], S=0), Edge(type=<DrawCommand.QUADRATICTO: 2>, data=[557, 2801, 506, 2884], S=0), Edge(type=<DrawCommand.QUADRATICTO: 2>, data=[462, 2957, 392, 3021], S=0), Edge(type=<DrawCommand.LINETO: 1>, data=[263, 3143], S=0), Edge(type=<DrawCommand.LINETO: 1>, data=[-12, 3291], S=0), Edge(type=<DrawCommand.QUADRATICTO: 2>, data=[-86, 3228, -190, 3209], S=0), Edge(type=<DrawCommand.QUADRATICTO: 2>, data=[-245, 3199, -326, 3202], S=0), Edge(type=<DrawCommand.QUADRATICTO: 2>, data=[-337, 3184, -361, 3159], S=0), Edge(type=<DrawCommand.LINETO: 1>, data=[150, 2866], S=0), Edge(type=<DrawCommand.LINETO: 1>, data=[207, 2842], S=0)], stroke='#808080', fill0='#666666', fill1='#CCCCCC'),\n",
       "  Path(edges=[Edge(type=<DrawCommand.MOVETO: 0>, data=[-935, 3014], S=0), Edge(type=<DrawCommand.QUADRATICTO: 2>, data=[-1025, 3088, -1067, 3208], S=0), Edge(type=<DrawCommand.QUADRATICTO: 2>, data=[-1150, 3443, -963, 3718], S=0), Edge(type=<DrawCommand.QUADRATICTO: 2>, data=[-861, 3867, -701, 3962], S=0), Edge(type=<DrawCommand.QUADRATICTO: 2>, data=[-541, 4057, -353, 4081], S=0), Edge(type=<DrawCommand.QUADRATICTO: 2>, data=[-294, 4089, -240, 4087], S=0), Edge(type=<DrawCommand.QUADRATICTO: 2>, data=[-106, 4087, -2, 4059], S=0), Edge(type=<DrawCommand.LINETO: 1>, data=[1, 4058], S=0), Edge(type=<DrawCommand.QUADRATICTO: 2>, data=[78, 4034, 235, 3964], S=0), Edge(type=<DrawCommand.QUADRATICTO: 2>, data=[486, 3851, 640, 3737], S=0), Edge(type=<DrawCommand.QUADRATICTO: 2>, data=[751, 3655, 818, 3542], S=0), Edge(type=<DrawCommand.QUADRATICTO: 2>, data=[881, 3435, 859, 3385], S=0), Edge(type=<DrawCommand.QUADRATICTO: 2>, data=[855, 3360, 844, 3347], S=0), Edge(type=<DrawCommand.QUADRATICTO: 2>, data=[828, 3328, 801, 3319], S=0), Edge(type=<DrawCommand.QUADRATICTO: 2>, data=[776, 3310, 668, 3327], S=0), Edge(type=<DrawCommand.QUADRATICTO: 2>, data=[724, 3261, 842, 3133], S=0), Edge(type=<DrawCommand.QUADRATICTO: 2>, data=[925, 3026, 885, 2963], S=0), Edge(type=<DrawCommand.QUADRATICTO: 2>, data=[841, 2909, 726, 2927], S=0), Edge(type=<DrawCommand.QUADRATICTO: 2>, data=[667, 2937, 525, 2985], S=0), Edge(type=<DrawCommand.QUADRATICTO: 2>, data=[593, 2887, 608, 2855], S=0), Edge(type=<DrawCommand.QUADRATICTO: 2>, data=[648, 2773, 615, 2730], S=0), Edge(type=<DrawCommand.QUADRATICTO: 2>, data=[564, 2665, 425, 2689], S=0), Edge(type=<DrawCommand.QUADRATICTO: 2>, data=[326, 2706, 218, 2757], S=0), Edge(type=<DrawCommand.QUADRATICTO: 2>, data=[206, 2734, 198, 2723], S=0), Edge(type=<DrawCommand.QUADRATICTO: 2>, data=[174, 2692, 137, 2676], S=0), Edge(type=<DrawCommand.QUADRATICTO: 2>, data=[101, 2660, 60, 2663], S=0), Edge(type=<DrawCommand.QUADRATICTO: 2>, data=[-36, 2671, -180, 2732], S=0), Edge(type=<DrawCommand.QUADRATICTO: 2>, data=[-388, 2820, -667, 3005], S=0), Edge(type=<DrawCommand.LINETO: 1>, data=[-731, 3048], S=0), Edge(type=<DrawCommand.LINETO: 1>, data=[-674, 3059.5], S=0), Edge(type=<DrawCommand.QUADRATICTO: 2>, data=[-645.53515625, 3064.6796875, -617, 3070], S=0), Edge(type=<DrawCommand.QUADRATICTO: 2>, data=[-491, 3106, -432, 3173], S=0), Edge(type=<DrawCommand.QUADRATICTO: 2>, data=[-397, 3213, -387, 3262], S=0), Edge(type=<DrawCommand.LINETO: 1>, data=[-267, 3273], S=0), Edge(type=<DrawCommand.QUADRATICTO: 2>, data=[-133, 3295, -60, 3356], S=0), Edge(type=<DrawCommand.QUADRATICTO: 2>, data=[14, 3417, 27, 3523], S=0), Edge(type=<DrawCommand.QUADRATICTO: 2>, data=[34, 3576, 25, 3621], S=0), Edge(type=<DrawCommand.LINETO: 1>, data=[22, 3635], S=0), Edge(type=<DrawCommand.LINETO: 1>, data=[30, 3649], S=0), Edge(type=<DrawCommand.QUADRATICTO: 2>, data=[52, 3686, 60, 3727], S=0), Edge(type=<DrawCommand.QUADRATICTO: 2>, data=[78, 3814, 26, 3900], S=0), Edge(type=<DrawCommand.QUADRATICTO: 2>, data=[-6, 3952, -51, 3988], S=0), Edge(type=<DrawCommand.QUADRATICTO: 2>, data=[-197, 4019, -343, 4001], S=0), Edge(type=<DrawCommand.QUADRATICTO: 2>, data=[-473, 3985, -595, 3928], S=0), Edge(type=<DrawCommand.QUADRATICTO: 2>, data=[-783, 3840, -897, 3673], S=0), Edge(type=<DrawCommand.QUADRATICTO: 2>, data=[-1028, 3479, -1028, 3295], S=0), Edge(type=<DrawCommand.QUADRATICTO: 2>, data=[-1028, 3190, -986, 3097], S=0), Edge(type=<DrawCommand.QUADRATICTO: 2>, data=[-961, 3042, -935, 3014], S=0), Edge(type=<DrawCommand.MOVETO: 0>, data=[785, 3398], S=0), Edge(type=<DrawCommand.QUADRATICTO: 2>, data=[781, 3495, 686, 3594], S=0), Edge(type=<DrawCommand.LINETO: 1>, data=[593, 3673], S=0), Edge(type=<DrawCommand.QUADRATICTO: 2>, data=[425, 3798, 72, 3944], S=0), Edge(type=<DrawCommand.QUADRATICTO: 2>, data=[128, 3849, 130, 3843], S=0), Edge(type=<DrawCommand.QUADRATICTO: 2>, data=[153, 3782, 128, 3706], S=0), Edge(type=<DrawCommand.LINETO: 1>, data=[480, 3469], S=0), Edge(type=<DrawCommand.LINETO: 1>, data=[598, 3434], S=0), Edge(type=<DrawCommand.QUADRATICTO: 2>, data=[689, 3400, 746, 3395], S=0), Edge(type=<DrawCommand.QUADRATICTO: 2>, data=[775, 3393, 785, 3398], S=0), Edge(type=<DrawCommand.MOVETO: 0>, data=[531, 3369], S=0), Edge(type=<DrawCommand.LINETO: 1>, data=[463, 3447], S=0), Edge(type=<DrawCommand.LINETO: 1>, data=[118, 3680], S=0), Edge(type=<DrawCommand.QUADRATICTO: 2>, data=[104, 3647, 93, 3628], S=0), Edge(type=<DrawCommand.QUADRATICTO: 2>, data=[119, 3424, 9, 3311], S=0), Edge(type=<DrawCommand.LINETO: 1>, data=[446, 3083], S=0), Edge(type=<DrawCommand.QUADRATICTO: 2>, data=[569, 3028, 688, 3002], S=0), Edge(type=<DrawCommand.QUADRATICTO: 2>, data=[804, 2976, 821, 2998], S=0), Edge(type=<DrawCommand.QUADRATICTO: 2>, data=[831, 3024, 738, 3138], S=0), Edge(type=<DrawCommand.QUADRATICTO: 2>, data=[672, 3217, 531, 3369], S=0)], stroke='#808080', fill0='#666666', fill1=None),\n",
       "  Path(edges=[Edge(type=<DrawCommand.MOVETO: 0>, data=[-11, 3293], S=0), Edge(type=<DrawCommand.LINETO: 1>, data=[-7, 3296], S=0), Edge(type=<DrawCommand.LINETO: 1>, data=[8, 3311], S=0), Edge(type=<DrawCommand.LINETO: 1>, data=[-11, 3293], S=0)], stroke='#808080', fill0='#666666', fill1=None)],\n",
       " '#CCCCCC': [Path(edges=[Edge(type=<DrawCommand.MOVETO: 0>, data=[207, 2842], S=0), Edge(type=<DrawCommand.LINETO: 1>, data=[150, 2866], S=0), Edge(type=<DrawCommand.LINETO: 1>, data=[-361, 3159], S=0), Edge(type=<DrawCommand.QUADRATICTO: 2>, data=[-337, 3184, -326, 3202], S=0), Edge(type=<DrawCommand.QUADRATICTO: 2>, data=[-245, 3199, -190, 3209], S=0), Edge(type=<DrawCommand.QUADRATICTO: 2>, data=[-86, 3228, -12, 3291], S=0), Edge(type=<DrawCommand.LINETO: 1>, data=[263, 3143], S=0), Edge(type=<DrawCommand.LINETO: 1>, data=[392, 3021], S=0), Edge(type=<DrawCommand.QUADRATICTO: 2>, data=[462, 2957, 506, 2884], S=0), Edge(type=<DrawCommand.QUADRATICTO: 2>, data=[557, 2801, 533, 2770], S=0), Edge(type=<DrawCommand.QUADRATICTO: 2>, data=[507, 2737, 399, 2766], S=0), Edge(type=<DrawCommand.QUADRATICTO: 2>, data=[303, 2790, 207, 2842], S=0), Edge(type=<DrawCommand.MOVETO: 0>, data=[149, 2832], S=0), Edge(type=<DrawCommand.LINETO: 1>, data=[148, 2804], S=0), Edge(type=<DrawCommand.QUADRATICTO: 2>, data=[148, 2789, 135, 2772], S=0), Edge(type=<DrawCommand.QUADRATICTO: 2>, data=[109, 2740, 66, 2743], S=0), Edge(type=<DrawCommand.QUADRATICTO: 2>, data=[-6, 2749, -144, 2804], S=0), Edge(type=<DrawCommand.QUADRATICTO: 2>, data=[-341, 2884, -582, 3038], S=0), Edge(type=<DrawCommand.QUADRATICTO: 2>, data=[-581, 3038, -513, 3056], S=0), Edge(type=<DrawCommand.QUADRATICTO: 2>, data=[-464, 3069, -442, 3086], S=0), Edge(type=<DrawCommand.QUADRATICTO: 2>, data=[-413, 3108, -375, 3144], S=0), Edge(type=<DrawCommand.LINETO: 1>, data=[149, 2832], S=0)], stroke='#808080', fill0='#CCCCCC', fill1='#666666'),\n",
       "  Path(edges=[Edge(type=<DrawCommand.MOVETO: 0>, data=[-674, 3059.5], S=0), Edge(type=<DrawCommand.LINETO: 1>, data=[-934, 3013], S=0), Edge(type=<DrawCommand.LINETO: 1>, data=[-935, 3014], S=0)], stroke='#808080', fill0='#CCCCCC', fill1=None),\n",
       "  Path(edges=[Edge(type=<DrawCommand.MOVETO: 0>, data=[531, 3369], S=0), Edge(type=<DrawCommand.QUADRATICTO: 2>, data=[672, 3217, 738, 3138], S=0), Edge(type=<DrawCommand.QUADRATICTO: 2>, data=[831, 3024, 821, 2998], S=0), Edge(type=<DrawCommand.QUADRATICTO: 2>, data=[804, 2976, 688, 3002], S=0), Edge(type=<DrawCommand.QUADRATICTO: 2>, data=[569, 3028, 446, 3083], S=0), Edge(type=<DrawCommand.LINETO: 1>, data=[9, 3311], S=0), Edge(type=<DrawCommand.QUADRATICTO: 2>, data=[119, 3424, 93, 3628], S=0), Edge(type=<DrawCommand.QUADRATICTO: 2>, data=[104, 3647, 118, 3680], S=0), Edge(type=<DrawCommand.LINETO: 1>, data=[463, 3447], S=0), Edge(type=<DrawCommand.LINETO: 1>, data=[531, 3369], S=0), Edge(type=<DrawCommand.MOVETO: 0>, data=[785, 3398], S=0), Edge(type=<DrawCommand.QUADRATICTO: 2>, data=[775, 3393, 746, 3395], S=0), Edge(type=<DrawCommand.QUADRATICTO: 2>, data=[689, 3400, 598, 3434], S=0), Edge(type=<DrawCommand.LINETO: 1>, data=[480, 3469], S=0), Edge(type=<DrawCommand.LINETO: 1>, data=[128, 3706], S=0), Edge(type=<DrawCommand.QUADRATICTO: 2>, data=[153, 3782, 130, 3843], S=0), Edge(type=<DrawCommand.QUADRATICTO: 2>, data=[128, 3849, 72, 3944], S=0), Edge(type=<DrawCommand.QUADRATICTO: 2>, data=[425, 3798, 593, 3673], S=0), Edge(type=<DrawCommand.LINETO: 1>, data=[686, 3594], S=0), Edge(type=<DrawCommand.QUADRATICTO: 2>, data=[781, 3495, 785, 3398], S=0), Edge(type=<DrawCommand.MOVETO: 0>, data=[-935, 3014], S=0), Edge(type=<DrawCommand.QUADRATICTO: 2>, data=[-961, 3042, -986, 3097], S=0), Edge(type=<DrawCommand.QUADRATICTO: 2>, data=[-1028, 3190, -1028, 3295], S=0), Edge(type=<DrawCommand.QUADRATICTO: 2>, data=[-1028, 3479, -897, 3673], S=0), Edge(type=<DrawCommand.QUADRATICTO: 2>, data=[-783, 3840, -595, 3928], S=0), Edge(type=<DrawCommand.QUADRATICTO: 2>, data=[-473, 3985, -343, 4001], S=0), Edge(type=<DrawCommand.QUADRATICTO: 2>, data=[-197, 4019, -51, 3988], S=0), Edge(type=<DrawCommand.QUADRATICTO: 2>, data=[-6, 3952, 26, 3900], S=0), Edge(type=<DrawCommand.QUADRATICTO: 2>, data=[78, 3814, 60, 3727], S=0), Edge(type=<DrawCommand.QUADRATICTO: 2>, data=[52, 3686, 30, 3649], S=0), Edge(type=<DrawCommand.LINETO: 1>, data=[22, 3635], S=0), Edge(type=<DrawCommand.LINETO: 1>, data=[25, 3621], S=0), Edge(type=<DrawCommand.QUADRATICTO: 2>, data=[34, 3576, 27, 3523], S=0), Edge(type=<DrawCommand.QUADRATICTO: 2>, data=[14, 3417, -60, 3356], S=0), Edge(type=<DrawCommand.QUADRATICTO: 2>, data=[-133, 3295, -267, 3273], S=0), Edge(type=<DrawCommand.LINETO: 1>, data=[-387, 3262], S=0), Edge(type=<DrawCommand.QUADRATICTO: 2>, data=[-397, 3213, -432, 3173], S=0), Edge(type=<DrawCommand.QUADRATICTO: 2>, data=[-491, 3106, -617, 3070], S=0), Edge(type=<DrawCommand.QUADRATICTO: 2>, data=[-645.53515625, 3064.6796875, -674, 3059.5], S=0)], stroke='#808080', fill0='#CCCCCC', fill1='#666666')]}"
      ]
     },
     "execution_count": 230,
     "metadata": {},
     "output_type": "execute_result"
    }
   ],
   "source": [
    "filledRegs"
   ]
  },
  {
   "cell_type": "code",
   "execution_count": 231,
   "metadata": {},
   "outputs": [
    {
     "data": {
      "image/svg+xml": [
       "<?xml version=\"1.0\" encoding=\"UTF-8\"?>\n",
       "<svg xmlns=\"http://www.w3.org/2000/svg\" xmlns:xlink=\"http://www.w3.org/1999/xlink\"\n",
       "     width=\"960\" height=\"960\" viewBox=\"0 0 960 960\">\n",
       "<defs>\n",
       "</defs>\n",
       "<path d=\"M214.9,483.2 M214.9,483.2 L162.5,514.4000000000001 Q158.7,510.8,155.8,508.6 Q153.6,506.90000000000003,148.7,505.6 Q141.9,503.8,141.8,503.8 Q165.9,488.40000000000003,185.6,480.40000000000003 Q199.4,474.90000000000003,206.6,474.3 Q210.9,474.0,213.5,477.2 Q214.8,478.90000000000003,214.8,480.40000000000003 L214.9,483.2 M220.7,484.2 Q230.3,479.0,239.9,476.6 Q250.7,473.7,253.3,477.0 Q255.7,480.1,250.6,488.40000000000003 Q246.2,495.7,239.2,502.1 L226.3,514.3 L198.8,529.1 Q191.4,522.8,181.0,520.9000000000001 Q175.5,519.9000000000001,167.4,520.2 Q166.3,518.4000000000001,163.9,515.9000000000001 L215.0,486.6 L220.7,484.2 Z\" fill=\"#666666\" stroke-width=\"0\" />\n",
       "<path d=\"M106.5,501.40000000000003 M106.5,501.40000000000003 Q97.5,508.8,93.3,520.8 Q85.0,544.3,103.69999999999999,571.8 Q113.89999999999999,586.7,129.89999999999998,596.2 Q145.9,605.7,164.7,608.1 Q170.6,608.9000000000001,176.0,608.7 Q189.4,608.7,199.8,605.9000000000001 L200.1,605.8 Q207.8,603.4000000000001,223.5,596.4000000000001 Q248.6,585.1,264.0,573.7 Q275.1,565.5,281.8,554.2 Q288.1,543.5,285.9,538.5 Q285.5,536.0,284.4,534.7 Q282.8,532.8,280.1,531.9000000000001 Q277.6,531.0,266.8,532.7 Q272.4,526.1,284.2,513.3 Q292.5,502.6,288.5,496.3 Q284.1,490.90000000000003,272.6,492.7 Q266.7,493.7,252.5,498.5 Q259.3,488.7,260.8,485.5 Q264.8,477.3,261.5,473.0 Q256.4,466.5,242.5,468.90000000000003 Q232.6,470.6,221.8,475.7 Q220.6,473.40000000000003,219.8,472.3 Q217.4,469.2,213.7,467.6 Q210.1,466.0,206.0,466.3 Q196.4,467.1,182.0,473.2 Q161.2,482.0,133.3,500.5 L126.89999999999999,504.8 L132.6,505.95 Q135.446484375,506.46796875,138.3,507.0 Q150.9,510.6,156.8,517.3 Q160.3,521.3,161.3,526.2 L173.3,527.3 Q186.7,529.5,194.0,535.6 Q201.4,541.7,202.7,552.3 Q203.4,557.6,202.5,562.1 L202.2,563.5 L203.0,564.9000000000001 Q205.2,568.6,206.0,572.7 Q207.8,581.4000000000001,202.6,590.0 Q199.4,595.2,194.9,598.8 Q180.3,601.9000000000001,165.7,600.1 Q152.7,598.5,140.5,592.8 Q121.69999999999999,584.0,110.3,567.3 Q97.19999999999999,547.9000000000001,97.19999999999999,529.5 Q97.19999999999999,519.0,101.39999999999999,509.70000000000005 Q103.89999999999999,504.2,106.5,501.40000000000003 M278.5,539.8 Q278.1,549.5,268.6,559.4000000000001 L259.3,567.3 Q242.5,579.8,207.2,594.4000000000001 Q212.8,584.9000000000001,213.0,584.3 Q215.3,578.2,212.8,570.6 L248.0,546.9000000000001 L259.8,543.4000000000001 Q268.9,540.0,274.6,539.5 Q277.5,539.3,278.5,539.8 M253.1,536.9000000000001 L246.3,544.7 L211.8,568.0 Q210.4,564.7,209.3,562.8 Q211.9,542.4000000000001,200.9,531.1 L244.6,508.3 Q256.9,502.8,268.8,500.2 Q280.4,497.6,282.1,499.8 Q283.1,502.40000000000003,273.8,513.8 Q267.2,521.7,253.1,536.9000000000001 Z\" fill=\"#666666\" stroke-width=\"0\" />\n",
       "<path d=\"M198.9,529.3 M198.9,529.3 L199.3,529.6 L200.8,531.1 L198.9,529.3 Z\" fill=\"#666666\" stroke-width=\"0\" />\n",
       "<path d=\"M220.7,484.2 M220.7,484.2 L215.0,486.6 L163.9,515.9000000000001 Q166.3,518.4000000000001,167.4,520.2 Q175.5,519.9000000000001,181.0,520.9000000000001 Q191.4,522.8,198.8,529.1 L226.3,514.3 L239.2,502.1 Q246.2,495.7,250.6,488.40000000000003 Q255.7,480.1,253.3,477.0 Q250.7,473.7,239.9,476.6 Q230.3,479.0,220.7,484.2 M214.9,483.2 L214.8,480.40000000000003 Q214.8,478.90000000000003,213.5,477.2 Q210.9,474.0,206.6,474.3 Q199.4,474.90000000000003,185.6,480.40000000000003 Q165.9,488.40000000000003,141.8,503.8 Q141.9,503.8,148.7,505.6 Q153.6,506.90000000000003,155.8,508.6 Q158.7,510.8,162.5,514.4000000000001 L214.9,483.2 Z\" fill=\"#CCCCCC\" stroke-width=\"0\" />\n",
       "<path d=\"M132.6,505.95 M132.6,505.95 L106.6,501.3 L106.5,501.40000000000003 Z\" fill=\"#CCCCCC\" stroke-width=\"0\" />\n",
       "<path d=\"M253.1,536.9000000000001 M253.1,536.9000000000001 Q267.2,521.7,273.8,513.8 Q283.1,502.40000000000003,282.1,499.8 Q280.4,497.6,268.8,500.2 Q256.9,502.8,244.6,508.3 L200.9,531.1 Q211.9,542.4000000000001,209.3,562.8 Q210.4,564.7,211.8,568.0 L246.3,544.7 L253.1,536.9000000000001 M278.5,539.8 Q277.5,539.3,274.6,539.5 Q268.9,540.0,259.8,543.4000000000001 L248.0,546.9000000000001 L212.8,570.6 Q215.3,578.2,213.0,584.3 Q212.8,584.9000000000001,207.2,594.4000000000001 Q242.5,579.8,259.3,567.3 L268.6,559.4000000000001 Q278.1,549.5,278.5,539.8 M106.5,501.40000000000003 Q103.89999999999999,504.2,101.39999999999999,509.70000000000005 Q97.19999999999999,519.0,97.19999999999999,529.5 Q97.19999999999999,547.9000000000001,110.3,567.3 Q121.69999999999999,584.0,140.5,592.8 Q152.7,598.5,165.7,600.1 Q180.3,601.9000000000001,194.9,598.8 Q199.4,595.2,202.6,590.0 Q207.8,581.4000000000001,206.0,572.7 Q205.2,568.6,203.0,564.9000000000001 L202.2,563.5 L202.5,562.1 Q203.4,557.6,202.7,552.3 Q201.4,541.7,194.0,535.6 Q186.7,529.5,173.3,527.3 L161.3,526.2 Q160.3,521.3,156.8,517.3 Q150.9,510.6,138.3,507.0 Q135.446484375,506.46796875,132.6,505.95 Z\" fill=\"#CCCCCC\" stroke-width=\"0\" />\n",
       "</svg>"
      ],
      "text/plain": [
       "<drawsvg.drawing.Drawing at 0x16572f32650>"
      ]
     },
     "execution_count": 231,
     "metadata": {},
     "output_type": "execute_result"
    }
   ],
   "source": [
    "edgeGroups = {}\n",
    "for path in animations[0][3][0].paths:\n",
    "    if path.fill0 != None: addEdgeToGroup(edgeGroups, path.fill0,  path)\n",
    "    if path.fill1 != None: addEdgeToGroup(edgeGroups, path.fill1, reverse_draw_commands(path))\n",
    "filledRegs = {}\n",
    "for fillStyle, group in edgeGroups.items():\n",
    "    filledRegs[fillStyle] = findContours(group)\n",
    "SCALE = 0.1\n",
    "OFFSET = 200\n",
    "d = dw.Drawing(960, 960, id_prefix='pic')\n",
    "for fillCol, contours in filledRegs.items():\n",
    "    for contour in contours:\n",
    "        tracer = dw.Path(fill=fillCol, stroke_width=0)\n",
    "        tracer.M(OFFSET+contour.edges[0].data[0]*SCALE, OFFSET+contour.edges[0].data[1]*SCALE)\n",
    "        for edge in contour.edges:\n",
    "            if edge.type==DrawCommand.MOVETO:\n",
    "                tracer.M(OFFSET+edge.data[0]*SCALE, OFFSET+edge.data[1]*SCALE)\n",
    "            if edge.type==DrawCommand.LINETO:\n",
    "                tracer.L(OFFSET+edge.data[0]*SCALE, OFFSET+edge.data[1]*SCALE)\n",
    "            if edge.type==DrawCommand.QUADRATICTO:\n",
    "                tracer.Q(OFFSET+edge.data[0]*SCALE, OFFSET+edge.data[1]*SCALE, OFFSET+edge.data[2]*SCALE, OFFSET+edge.data[3]*SCALE)\n",
    "        tracer.Z()\n",
    "        d.append(tracer)\n",
    "d\n"
   ]
  },
  {
   "cell_type": "code",
   "execution_count": 7,
   "metadata": {},
   "outputs": [
    {
     "data": {
      "text/plain": [
       "{'#00FF00', '#666666', '#CCCCCC'}"
      ]
     },
     "execution_count": 7,
     "metadata": {},
     "output_type": "execute_result"
    }
   ],
   "source": [
    "tag_names = set()\n",
    "def traverse(element):\n",
    "    if 'color' in element.attrib and element.tag=='{http://ns.adobe.com/xfl/2008/}SolidColor':\n",
    "        tag_names.add(element.attrib['color'])\n",
    "    for child in element:\n",
    "        traverse(child)\n",
    "traverse(root)\n",
    "tag_names"
   ]
  },
  {
   "cell_type": "code",
   "execution_count": 13,
   "metadata": {},
   "outputs": [
    {
     "data": {
      "text/plain": [
       "{'{http://ns.adobe.com/xfl/2008/}DOMFrame',\n",
       " '{http://ns.adobe.com/xfl/2008/}DOMGroup',\n",
       " '{http://ns.adobe.com/xfl/2008/}DOMLayer',\n",
       " '{http://ns.adobe.com/xfl/2008/}DOMShape',\n",
       " '{http://ns.adobe.com/xfl/2008/}DOMSymbolItem',\n",
       " '{http://ns.adobe.com/xfl/2008/}DOMTimeline',\n",
       " '{http://ns.adobe.com/xfl/2008/}Edge',\n",
       " '{http://ns.adobe.com/xfl/2008/}FillStyle',\n",
       " '{http://ns.adobe.com/xfl/2008/}Matrix',\n",
       " '{http://ns.adobe.com/xfl/2008/}Point',\n",
       " '{http://ns.adobe.com/xfl/2008/}SolidColor',\n",
       " '{http://ns.adobe.com/xfl/2008/}edges',\n",
       " '{http://ns.adobe.com/xfl/2008/}elements',\n",
       " '{http://ns.adobe.com/xfl/2008/}fills',\n",
       " '{http://ns.adobe.com/xfl/2008/}frames',\n",
       " '{http://ns.adobe.com/xfl/2008/}layers',\n",
       " '{http://ns.adobe.com/xfl/2008/}matrix',\n",
       " '{http://ns.adobe.com/xfl/2008/}members',\n",
       " '{http://ns.adobe.com/xfl/2008/}timeline',\n",
       " '{http://ns.adobe.com/xfl/2008/}transformationPoint'}"
      ]
     },
     "execution_count": 13,
     "metadata": {},
     "output_type": "execute_result"
    }
   ],
   "source": [
    "tag_names = set()\n",
    "def traverse(element):\n",
    "    tag_names.add(element.tag)\n",
    "    for child in element:\n",
    "        traverse(child)\n",
    "traverse(root)\n",
    "tag_names"
   ]
  },
  {
   "cell_type": "code",
   "execution_count": null,
   "metadata": {},
   "outputs": [],
   "source": [
    "# 6DABDC - rd outline\n",
    "# 9EDBF8 - rd fill"
   ]
  },
  {
   "cell_type": "code",
   "execution_count": null,
   "metadata": {},
   "outputs": [],
   "source": [
    "\t\"moveTo(x,y)\"\n",
    "\"|x y\"\t\t\t\"lineTo(x,y)\"\n",
    "\"!x y\"\t\t\"[cx cy x y\"\t\"quadraticTo(cx,cy,x,y)\""
   ]
  }
 ],
 "metadata": {
  "kernelspec": {
   "display_name": ".venv",
   "language": "python",
   "name": "python3"
  },
  "language_info": {
   "codemirror_mode": {
    "name": "ipython",
    "version": 3
   },
   "file_extension": ".py",
   "mimetype": "text/x-python",
   "name": "python",
   "nbconvert_exporter": "python",
   "pygments_lexer": "ipython3",
   "version": "3.11.6"
  }
 },
 "nbformat": 4,
 "nbformat_minor": 2
}
