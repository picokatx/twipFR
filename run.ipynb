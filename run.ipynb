{
 "cells": [
  {
   "cell_type": "markdown",
   "metadata": {},
   "source": [
    "# alright outgrown this notebook, time to oop this mess"
   ]
  },
  {
   "cell_type": "code",
   "execution_count": 2,
   "metadata": {},
   "outputs": [],
   "source": [
    "import re\n",
    "import xml.etree.ElementTree as ET\n",
    "from xml.etree.ElementTree import Element\n",
    "from typing import List\n",
    "from collections import namedtuple\n",
    "from enum import Enum\n",
    "import zipfile\n",
    "import zlib\n",
    "import drawsvg as dw\n",
    "from drawsvg import FrameAnimation\n",
    "import os\n",
    "import numpy as np\n",
    "os.environ['PATH']+=\";c:\\\\Users\\\\picokatx\\\\Documents\\\\twipFR\\\\bin\""
   ]
  },
  {
   "cell_type": "code",
   "execution_count": 3,
   "metadata": {},
   "outputs": [],
   "source": [
    "BASE_DIR = \"assets/base/LIBRARY/PonyTemplate►/PonyTemplate►BodyParts/PonyTemplate►Wings/\""
   ]
  },
  {
   "cell_type": "code",
   "execution_count": 4,
   "metadata": {},
   "outputs": [],
   "source": [
    "class DrawCommand(Enum):\n",
    "    MOVETO = 0\n",
    "    LINETO = 1\n",
    "    QUADRATICTO = 2\n",
    "Edge = namedtuple(\"Edge\", [\"type\", \"data\", \"S\"])\n",
    "Path = namedtuple(\"Path\", [\"edges\", \"stroke\", \"fill0\", \"fill1\"])\n",
    "Shape = namedtuple(\"Shape\", [\"palette\",\"transformation_pt\", \"trans_mat\", \"paths\"])\n",
    "Point = namedtuple(\"Point\", [\"x\", \"y\"])\n",
    "StrokeStyle = namedtuple(\"Stroke\", [\"color\", \"scaleMode\", \"caps\", \"weight\", \"joints\", \"miterLimit\"])\n",
    "\n",
    "\n",
    "def xml_find_prepend(root: Element, path: List[str]):\n",
    "    return root.find(\"/\".join(\".//{http://ns.adobe.com/xfl/2008/}\"+p for p in path))\n",
    "def xml_findall_prepend(root: Element, path: List[str]):\n",
    "    return root.findall(\"/\".join(\".//{http://ns.adobe.com/xfl/2008/}\"+p for p in path))\n",
    "SYMBOLS = [\n",
    "    r\"\\s*\\!(-*\\d+\\.*\\d*)\\s+(-*\\d+\\.*\\d*)\\s*\",\n",
    "    r\"\\s*\\|(-*\\d+\\.*\\d*)\\s+(-*\\d+\\.*\\d*)\\s*\",\n",
    "    r\"\\s*\\[((?:\\#[0-9A-F]{1,6}\\.[0-9A-F]{1,2})|(?:-*\\d+\\.*\\d*))\\s+((?:\\#[0-9A-F]{1,6}\\.[0-9A-F]{1,2})|(?:-*\\d+\\.*\\d*))\\s+((?:\\#[0-9A-F]{1,6}\\.[0-9A-F]{1,2})|(?:-*\\d+\\.*\\d*))\\s+((?:\\#[0-9A-F]{1,6}\\.[0-9A-F]{1,2})|(?:-*\\d+\\.*\\d*))\\s*\",\n",
    "    r\"S\\d{1}\"\n",
    "]\n",
    "\n",
    "def decode_fla_value(val: str):\n",
    "    if val[0]==\"#\":\n",
    "        if len(val[1:].split(\".\")[1])==1: val = val[0]+\".\"+val[1:]+\"0\"\n",
    "        hex_out = \"\".join(val[1:].split(\".\"))\n",
    "        out = int(hex_out, 16)\n",
    "        if out >= 0x80000000:\n",
    "            out = -(0xffffffff - out + 1)\n",
    "        out = out / 256\n",
    "    else:\n",
    "        out = float(val) if \".\" in val else int(val)\n",
    "    if (out>100000): print(val, out)\n",
    "    return out / 20\n",
    "\n",
    "def transform_point(x, y, matrix):\n",
    "    point = np.array([x, y, 1])\n",
    "    transformed_point = matrix @ point\n",
    "    return [transformed_point[0], transformed_point[1]]\n",
    "\n",
    "def pathstring_parse(pathstr: str, S: int, transformation_matrix: np.ndarray):\n",
    "    c = 0\n",
    "    code = []\n",
    "    edge = pathstr\n",
    "    prev_pos = None\n",
    "    while c<len(edge):\n",
    "        found_symbol = False\n",
    "        for i in range(len(SYMBOLS)):\n",
    "            out = re.match(SYMBOLS[i], edge[c:])\n",
    "            if (out!=None):\n",
    "                found_symbol = True\n",
    "                if i!=3:\n",
    "                    args = [decode_fla_value(c) for c in out.groups()]\n",
    "                    if prev_pos!=args[-2:] or i!=0:\n",
    "                        code.append(Edge(DrawCommand(i), args, S))\n",
    "                    prev_pos = args[-2:]\n",
    "                else:\n",
    "                    S = int(out.group(0)[1])\n",
    "                c+=out.span()[1]-out.span()[0]\n",
    "                break\n",
    "        if not found_symbol:\n",
    "            print(edge[c:c+50])\n",
    "            break\n",
    "    return S, code\n",
    "\n",
    "def DOMshape_parse(elm: Element):\n",
    "    trans_pt_node = xml_find_prepend(elm, [\"transformationPoint\"])\n",
    "    trans_pt = xml_find_prepend(trans_pt_node, [\"Point\"]) if trans_pt_node!=None else None\n",
    "    trans_coords = Point(trans_pt.attrib['x'], trans_pt.attrib['y']) if trans_pt!=None else (-1, -1)\n",
    "    \n",
    "    # matrix\n",
    "    matrix = xml_find_prepend(elm, [\"matrix/\"])\n",
    "    transformation_matrix = None\n",
    "    if matrix!=None:\n",
    "        matargs = matrix.attrib\n",
    "        a = matargs['a'] if 'a' in matargs else 1\n",
    "        b = matargs['b'] if 'b' in matargs else 0\n",
    "        c = matargs['c'] if 'c' in matargs else 0\n",
    "        d = matargs['d'] if 'd' in matargs else 1\n",
    "        tx = matargs['tx'] if 'tx' in matargs else 0\n",
    "        ty = matargs['ty'] if 'ty' in matargs else 0\n",
    "\n",
    "        transformation_matrix = np.array([\n",
    "            [a, c, tx],\n",
    "            [b, d, ty],\n",
    "            [0, 0, 1]\n",
    "        ], dtype=np.float64)\n",
    "\n",
    "    # color palette\n",
    "    fills = xml_findall_prepend(elm, [\"fills/\"])\n",
    "    fill_dict = {0: None}\n",
    "    for fill in fills:\n",
    "        fill_dict[fill.attrib[\"index\"]] = xml_find_prepend(fill, [\"SolidColor\"]).attrib[\"color\"]\n",
    "\n",
    "    # stroke\n",
    "    strokes = xml_findall_prepend(elm, [\"strokes/\"])\n",
    "    stroke_dict = {0: None}\n",
    "    if strokes!=None:\n",
    "        for stroke in strokes:\n",
    "            temp = xml_find_prepend(stroke, [\"SolidStroke\"])\n",
    "            stroke_dict[stroke.attrib[\"index\"]] = StrokeStyle(\n",
    "                color=xml_find_prepend(temp, [\"fill/\"]).attrib[\"color\"],\n",
    "                scaleMode=temp.attrib[\"scaleMode\"],\n",
    "                caps=temp.attrib[\"caps\"],\n",
    "                weight=temp.attrib[\"weight\"],\n",
    "                joints=temp.attrib[\"joints\"],\n",
    "                miterLimit=temp.attrib[\"miterLimit\"]\n",
    "            )\n",
    "    # paths\n",
    "    edges = xml_findall_prepend(elm, [\"edges/\"])\n",
    "    paths = []\n",
    "    hints = [] # not using hints cubics for now\n",
    "    S = 0\n",
    "    for edge in edges:\n",
    "        if \"edges\" in edge.attrib:\n",
    "            fill0 = fill_dict[edge.attrib[\"fillStyle0\"] if \"fillStyle0\" in edge.attrib else 0]\n",
    "            fill1 = fill_dict[edge.attrib[\"fillStyle1\"] if \"fillStyle1\" in edge.attrib else 0]\n",
    "            stroke_col = stroke_dict[edge.attrib[\"strokeStyle\"] if \"strokeStyle\" in edge.attrib else 0]\n",
    "            S, temp = pathstring_parse(edge.attrib[\"edges\"].replace(\"\\n\", \"\").strip(), S, transformation_matrix)\n",
    "            paths.append(Path(temp, stroke_col, fill0, fill1))\n",
    "        else:\n",
    "            hints.append(edge.attrib[\"cubics\"])\n",
    "    return Shape(fill_dict, trans_coords, transformation_matrix, paths)\n",
    "    \n"
   ]
  },
  {
   "cell_type": "code",
   "execution_count": 5,
   "metadata": {},
   "outputs": [],
   "source": [
    "def get_startpt(path: Path):\n",
    "    return path.edges[0].data\n",
    "def get_endpt(path: Path):\n",
    "    if path.edges[-1].type == DrawCommand.QUADRATICTO:\n",
    "        return path.edges[-1].data[2:]\n",
    "    else:\n",
    "        return path.edges[-1].data\n",
    "def closed(path: Path):\n",
    "    return get_startpt(path)==get_endpt(path)\n",
    "def get_pt(edge):\n",
    "    if edge.type == DrawCommand.MOVETO:\n",
    "        return edge.data\n",
    "    if edge.type == DrawCommand.LINETO:\n",
    "        return edge.data\n",
    "    if edge.type == DrawCommand.QUADRATICTO:\n",
    "        return edge.data[2:]\n",
    "def get_quad(edge):\n",
    "    if edge.type == DrawCommand.MOVETO:\n",
    "        return None\n",
    "    if edge.type == DrawCommand.LINETO:\n",
    "        return None\n",
    "    if edge.type == DrawCommand.QUADRATICTO:\n",
    "        return edge.data[:2]\n",
    "def path_join(path1: Path, path2: Path):\n",
    "    if get_endpt(path1)==get_startpt(path2):\n",
    "        return Path(path1.edges+path2.edges[1:], path1.stroke, path1.fill0, path1.fill1)\n",
    "    else:\n",
    "        return None\n",
    "def disjoint_path_join(path1: Path, path2: Path):\n",
    "    return Path(path1.edges+path2.edges, path1.stroke, path1.fill0, path1.fill1)\n",
    "def reverse_draw_commands(path: Path):\n",
    "    edges = path.edges\n",
    "    reversed_edges = [Edge(DrawCommand.MOVETO, get_pt(edges[-1]), edges[-1].S)]\n",
    "    prev_quad = None\n",
    "    prev_command = None\n",
    "    endpt = get_pt(edges[-1])\n",
    "    for edge in reversed(edges):\n",
    "        endpt = get_pt(edge)\n",
    "        if prev_command == DrawCommand.MOVETO:\n",
    "            reversed_edges.append(Edge(DrawCommand.MOVETO, endpt, edge.S))\n",
    "        elif prev_command == DrawCommand.LINETO:\n",
    "            reversed_edges.append(Edge(DrawCommand.LINETO, endpt, edge.S))\n",
    "        elif prev_command == DrawCommand.QUADRATICTO:\n",
    "            reversed_edges.append(Edge(DrawCommand.QUADRATICTO, prev_quad+endpt, edge.S))\n",
    "        prev_command = edge.type\n",
    "        prev_quad = get_quad(edge)\n",
    "    return Path(reversed_edges, path.stroke, path.fill1, path.fill0)\n"
   ]
  },
  {
   "cell_type": "code",
   "execution_count": 21,
   "metadata": {},
   "outputs": [],
   "source": [
    "def addEdgeToGroup(edgeGroups,group,edge):\n",
    "    if not group in edgeGroups: edgeGroups[group] = []\n",
    "    edgeGroups[group].append(edge)\n",
    "\n",
    "def findConnectedTo(prevEdge,edges):\n",
    "    for i, edge in enumerate(edges):\n",
    "        if get_startpt(edge) == get_endpt(prevEdge): return i, 1\n",
    "        if get_endpt(edge) == get_startpt(prevEdge): return i, 2\n",
    "    return -1, 0\n",
    "# print(fill, contour.fill0, contour.fill1, group[at].fill0, group[at].fill1)\n",
    "\n",
    "def findContour(group: List[Path], fill):\n",
    "    contour = group.pop(0)\n",
    "    at, which = findConnectedTo(contour,group)\n",
    "    while ((not closed(contour)) and len(group) > 0 and at != -1): # at != -1 is wrong, but temporary just to make error go away\n",
    "        contour = path_join(contour, group[at]) if which==1 else path_join(group[at], contour)\n",
    "        group.pop(at)\n",
    "        at, which = findConnectedTo(contour,group)\n",
    "    return contour\n",
    "\n",
    "def findContours(group: List[Path], fill):\n",
    "    group = [path for path in group]\n",
    "    contours = []\n",
    "    while len(group) > 0:\n",
    "        contours.append(findContour(group, fill))\n",
    "    return contours\n",
    "\n",
    "def find_subpaths(path: Path):\n",
    "    paths = []\n",
    "    start_pt = None\n",
    "    old_i = 0\n",
    "    for i, edge in enumerate(path.edges):\n",
    "        end_pt = get_pt(edge)\n",
    "        if end_pt==[-7.0, 99.85]: print(i, edge, path)\n",
    "        if start_pt==None:\n",
    "            start_pt = get_pt(edge)\n",
    "        elif end_pt==start_pt: #  or (edge.type==DrawCommand.MOVETO and i!=0)\n",
    "            offset = i+1\n",
    "            # if (edge.type==DrawCommand.MOVETO and i!=0): offset+=1\n",
    "            paths.append(Path(path.edges[old_i:offset], path.stroke, path.fill0, path.fill1))\n",
    "            old_i = offset\n",
    "            start_pt = None\n",
    "    if old_i!=i+1: paths.append(Path(path.edges[old_i:i+1], path.stroke, path.fill0, path.fill1))\n",
    "    return paths\n",
    "\n",
    "def draw_path(path: Path):\n",
    "    d = dw.Drawing(480, 480, id_prefix='pic', origin=(-240, -240))\n",
    "    stroke = path.stroke if path.stroke!=None else StrokeStyle(None, None, None, 0, None, None)\n",
    "    tracer = dw.Path(fill='white', stroke=\"blue\", stroke_width=3, stroke_linecap=\"butt\", stroke_linejoin=stroke.joints, stroke_miterlimit=stroke.miterLimit, transform=None)\n",
    "    for edge in path.edges:\n",
    "        if edge.type==DrawCommand.MOVETO:\n",
    "            tracer.M(edge.data[0], edge.data[1])\n",
    "        if edge.type==DrawCommand.LINETO:\n",
    "            tracer.L(edge.data[0], edge.data[1])\n",
    "        if edge.type==DrawCommand.QUADRATICTO:\n",
    "            tracer.Q(edge.data[0], edge.data[1], edge.data[2], edge.data[3])\n",
    "    d.append(tracer)\n",
    "    return d\n",
    "def draw_paths(paths: List[Path]):\n",
    "    d = dw.Drawing(480, 480, id_prefix='pic', origin=(-240, -240))\n",
    "    for path in paths:\n",
    "        stroke = path.stroke if path.stroke!=None else StrokeStyle(None, None, None, 0, None, None)\n",
    "        tracer = dw.Path(fill='grey', stroke=\"blue\", stroke_width=3, stroke_linecap=\"butt\", stroke_linejoin=stroke.joints, stroke_miterlimit=stroke.miterLimit, transform=None)\n",
    "        for edge in path.edges:\n",
    "            if edge.type==DrawCommand.MOVETO:\n",
    "                tracer.M(edge.data[0], edge.data[1])\n",
    "            if edge.type==DrawCommand.LINETO:\n",
    "                tracer.L(edge.data[0], edge.data[1])\n",
    "            if edge.type==DrawCommand.QUADRATICTO:\n",
    "                tracer.Q(edge.data[0], edge.data[1], edge.data[2], edge.data[3])\n",
    "        d.append(tracer)\n",
    "    return d\n",
    "def crop_path(path: Path, start: int, end: int):\n",
    "    return Path(path.edges[start:end], path.stroke, path.fill0, path.fill1)"
   ]
  },
  {
   "cell_type": "code",
   "execution_count": 7,
   "metadata": {},
   "outputs": [],
   "source": [
    "# issue is we are not checking for contours within a path, need to add code that does that\n",
    "# also don't forget alpha support\n",
    "# order here changes things, figure out why\n",
    "# ok so two paths with different fills are joined, how to deal with this?\n",
    "# 3 paths are connected by the same point. 1 has both fills, 2 have one fill each shared with the 1st."
   ]
  },
  {
   "cell_type": "code",
   "execution_count": 38,
   "metadata": {},
   "outputs": [],
   "source": [
    "i = -1"
   ]
  },
  {
   "cell_type": "code",
   "execution_count": 42,
   "metadata": {},
   "outputs": [
    {
     "ename": "IndexError",
     "evalue": "list index out of range",
     "output_type": "error",
     "traceback": [
      "\u001b[1;31m---------------------------------------------------------------------------\u001b[0m",
      "\u001b[1;31mIndexError\u001b[0m                                Traceback (most recent call last)",
      "Cell \u001b[1;32mIn[42], line 2\u001b[0m\n\u001b[0;32m      1\u001b[0m i\u001b[38;5;241m+\u001b[39m\u001b[38;5;241m=\u001b[39m\u001b[38;5;241m1\u001b[39m\n\u001b[1;32m----> 2\u001b[0m draw_path(\u001b[43manimations\u001b[49m\u001b[43m[\u001b[49m\u001b[38;5;241;43m2\u001b[39;49m\u001b[43m]\u001b[49m\u001b[43m[\u001b[49m\u001b[38;5;241;43m3\u001b[39;49m\u001b[43m]\u001b[49m\u001b[43m[\u001b[49m\u001b[38;5;241;43m0\u001b[39;49m\u001b[43m]\u001b[49m\u001b[38;5;241;43m.\u001b[39;49m\u001b[43mpaths\u001b[49m\u001b[43m[\u001b[49m\u001b[43mi\u001b[49m\u001b[43m]\u001b[49m)\n",
      "\u001b[1;31mIndexError\u001b[0m: list index out of range"
     ]
    }
   ],
   "source": [
    "i+=1\n",
    "draw_path(animations[2][3][0].paths[i])\n"
   ]
  },
  {
   "cell_type": "code",
   "execution_count": 47,
   "metadata": {},
   "outputs": [
    {
     "data": {
      "text/plain": [
       "[Shape(palette={0: None, '1': '#666666', '2': '#CCCCCC'}, transformation_pt=Point(x='5.35', y='106'), trans_mat=None, paths=[Path(edges=[Edge(type=<DrawCommand.MOVETO: 0>, data=[-41.5, 174.85], S=0), Edge(type=<DrawCommand.QUADRATICTO: 2>, data=[-41.6, 175.4, -41.4, 175.4], S=1), Edge(type=<DrawCommand.QUADRATICTO: 2>, data=[-28.65, 177.0, -14.9, 173.95], S=1), Edge(type=<DrawCommand.QUADRATICTO: 2>, data=[-8.95, 172.65, -4.3, 171.05], S=1), Edge(type=<DrawCommand.QUADRATICTO: 2>, data=[0.8, 169.05, 4.95, 166.4], S=1), Edge(type=<DrawCommand.QUADRATICTO: 2>, data=[13.35, 161.0, 16.3, 154.8], S=1), Edge(type=<DrawCommand.QUADRATICTO: 2>, data=[19.3, 148.75, 16.65, 144.15], S=1), Edge(type=<DrawCommand.QUADRATICTO: 2>, data=[18.25, 143.2, 19.9, 142.15], S=1), Edge(type=<DrawCommand.QUADRATICTO: 2>, data=[22.9, 140.2, 27.7, 136.4], S=1), Edge(type=<DrawCommand.QUADRATICTO: 2>, data=[36.35, 129.45, 43.45, 121.35], S=1), Edge(type=<DrawCommand.QUADRATICTO: 2>, data=[50.8, 112.75, 54.0, 105.45], S=1), Edge(type=<DrawCommand.QUADRATICTO: 2>, data=[57.75, 96.65, 55.0, 91.65], S=1), Edge(type=<DrawCommand.QUADRATICTO: 2>, data=[53.8, 89.15, 51.35, 88.6], S=1), Edge(type=<DrawCommand.QUADRATICTO: 2>, data=[48.9, 88.05, 44.95, 89.15], S=1), Edge(type=<DrawCommand.QUADRATICTO: 2>, data=[42.5, 89.9, 41.35, 90.2], S=1), Edge(type=<DrawCommand.QUADRATICTO: 2>, data=[39.25, 90.9, 37.6, 91.85], S=1), Edge(type=<DrawCommand.QUADRATICTO: 2>, data=[40.2, 88.55, 41.85, 86.3], S=1), Edge(type=<DrawCommand.QUADRATICTO: 2>, data=[46.35, 80.15, 49.55, 73.2], S=1), Edge(type=<DrawCommand.QUADRATICTO: 2>, data=[54.0, 63.5, 55.15, 58.3], S=1), Edge(type=<DrawCommand.QUADRATICTO: 2>, data=[56.65, 51.75, 54.6, 46.95], S=1), Edge(type=<DrawCommand.QUADRATICTO: 2>, data=[53.8, 44.8, 51.05, 43.95], S=1), Edge(type=<DrawCommand.QUADRATICTO: 2>, data=[48.35, 43.2, 45.35, 44.25], S=1), Edge(type=<DrawCommand.QUADRATICTO: 2>, data=[42.3, 45.4, 40.0, 46.7], S=1), Edge(type=<DrawCommand.QUADRATICTO: 2>, data=[36.65, 48.55, 33.8, 51.45], S=1), Edge(type=<DrawCommand.QUADRATICTO: 2>, data=[26.25, 58.95, 18.8, 69.9], S=1), Edge(type=<DrawCommand.QUADRATICTO: 2>, data=[15.85, 74.15, 12.65, 79.3], S=1), Edge(type=<DrawCommand.QUADRATICTO: 2>, data=[14.8, 72.1, 16.2, 64.65], S=1), Edge(type=<DrawCommand.QUADRATICTO: 2>, data=[19.65, 45.95, 14.0, 38.25], S=1), Edge(type=<DrawCommand.QUADRATICTO: 2>, data=[11.75, 35.15, 7.4, 36.4], S=1), Edge(type=<DrawCommand.QUADRATICTO: 2>, data=[2.95, 37.75, -0.95, 42.85], S=1), Edge(type=<DrawCommand.QUADRATICTO: 2>, data=[-4.85, 48.1, -8.0, 54.85], S=1), Edge(type=<DrawCommand.QUADRATICTO: 2>, data=[-11.65, 63.05, -13.85, 72.75], S=1), Edge(type=<DrawCommand.QUADRATICTO: 2>, data=[-19.1, 96.1, -20.05, 100.15], S=1), Edge(type=<DrawCommand.QUADRATICTO: 2>, data=[-22.9, 112.65, -25.15, 118.8], S=1), Edge(type=<DrawCommand.QUADRATICTO: 2>, data=[-29.45, 130.65, -33.25, 137.8], S=1), Edge(type=<DrawCommand.QUADRATICTO: 2>, data=[-38.3, 147.55, -44.8, 153.4], S=1), Edge(type=<DrawCommand.QUADRATICTO: 2>, data=[-45.2, 153.75, -45.3, 154.2], S=1), Edge(type=<DrawCommand.QUADRATICTO: 2>, data=[-45.35, 154.4, -45.35, 154.6], S=1), Edge(type=<DrawCommand.QUADRATICTO: 2>, data=[-45.35, 154.7, -45.2, 154.8], S=1)], stroke=None, fill0='#666666', fill1=None), Path(edges=[Edge(type=<DrawCommand.MOVETO: 0>, data=[-45.2, 154.8], S=1), Edge(type=<DrawCommand.QUADRATICTO: 2>, data=[-45.05, 154.85, -44.8, 154.9], S=3), Edge(type=<DrawCommand.QUADRATICTO: 2>, data=[-44.2, 154.9, -43.8, 154.7], S=3), Edge(type=<DrawCommand.QUADRATICTO: 2>, data=[-42.15, 154.0, -39.25, 151.5], S=3), Edge(type=<DrawCommand.QUADRATICTO: 2>, data=[-36.1, 148.75, -34.35, 146.15], S=3), Edge(type=<DrawCommand.QUADRATICTO: 2>, data=[-32.2, 143.0, -30.3, 139.45], S=3), Edge(type=<DrawCommand.QUADRATICTO: 2>, data=[-26.5, 132.1, -22.2, 119.9], S=3), Edge(type=<DrawCommand.QUADRATICTO: 2>, data=[-19.9, 113.7, -16.9, 101.15], S=3), Edge(type=<DrawCommand.QUADRATICTO: 2>, data=[-16.0, 97.3, -10.7, 73.45], S=3), Edge(type=<DrawCommand.QUADRATICTO: 2>, data=[-6.85, 56.25, 1.65, 44.9], S=3), Edge(type=<DrawCommand.QUADRATICTO: 2>, data=[4.35, 41.25, 7.6, 40.0], S=3), Edge(type=<DrawCommand.QUADRATICTO: 2>, data=[10.65, 38.7, 12.05, 40.5], S=3), Edge(type=<DrawCommand.QUADRATICTO: 2>, data=[16.5, 46.1, 12.65, 64.8], S=3), Edge(type=<DrawCommand.QUADRATICTO: 2>, data=[8.65, 85.15, -4.1, 112.7], S=3), Edge(type=<DrawCommand.QUADRATICTO: 2>, data=[-4.3, 113.25, -4.15, 113.95], S=3), Edge(type=<DrawCommand.QUADRATICTO: 2>, data=[-3.85, 114.45, -1.9, 111.4], S=3), Edge(type=<DrawCommand.QUADRATICTO: 2>, data=[6.0, 97.95, 13.95, 85.25], S=3), Edge(type=<DrawCommand.QUADRATICTO: 2>, data=[29.6, 60.3, 35.95, 53.9], S=3), Edge(type=<DrawCommand.QUADRATICTO: 2>, data=[38.55, 51.25, 41.6, 49.55], S=3), Edge(type=<DrawCommand.QUADRATICTO: 2>, data=[43.5, 48.5, 46.45, 47.4], S=3), Edge(type=<DrawCommand.QUADRATICTO: 2>, data=[47.75, 46.85, 49.55, 47.25], S=3), Edge(type=<DrawCommand.QUADRATICTO: 2>, data=[51.25, 47.55, 51.6, 48.2], S=3), Edge(type=<DrawCommand.QUADRATICTO: 2>, data=[53.3, 52.4, 51.8, 58.3], S=3), Edge(type=<DrawCommand.QUADRATICTO: 2>, data=[50.8, 62.3, 46.65, 71.65], S=3), Edge(type=<DrawCommand.QUADRATICTO: 2>, data=[44.25, 77.15, 36.3, 88.45], S=3), Edge(type=<DrawCommand.QUADRATICTO: 2>, data=[30.4, 96.95, 28.15, 99.55], S=3), Edge(type=<DrawCommand.QUADRATICTO: 2>, data=[27.15, 100.7, 25.55, 103.05], S=3), Edge(type=<DrawCommand.QUADRATICTO: 2>, data=[23.75, 105.65, 23.95, 105.85], S=3), Edge(type=<DrawCommand.QUADRATICTO: 2>, data=[24.15, 106.0, 26.3, 104.05], S=3), Edge(type=<DrawCommand.QUADRATICTO: 2>, data=[29.2, 101.6, 29.6, 101.2], S=3), Edge(type=<DrawCommand.QUADRATICTO: 2>, data=[31.25, 100.05, 36.55, 96.95], S=3), Edge(type=<DrawCommand.QUADRATICTO: 2>, data=[43.05, 93.15, 45.4, 92.55], S=3), Edge(type=<DrawCommand.QUADRATICTO: 2>, data=[48.05, 91.8, 49.6, 91.9], S=3), Edge(type=<DrawCommand.QUADRATICTO: 2>, data=[51.4, 92.1, 52.15, 93.15], S=3), Edge(type=<DrawCommand.QUADRATICTO: 2>, data=[54.05, 97.1, 50.95, 104.1], S=3), Edge(type=<DrawCommand.QUADRATICTO: 2>, data=[47.95, 111.0, 40.95, 119.15], S=3), Edge(type=<DrawCommand.QUADRATICTO: 2>, data=[34.15, 127.05, 25.75, 133.75], S=3), Edge(type=<DrawCommand.QUADRATICTO: 2>, data=[20.3, 138.05, 18.7, 139.25], S=3), Edge(type=<DrawCommand.QUADRATICTO: 2>, data=[15.35, 141.8, 11.05, 144.25], S=3), Edge(type=<DrawCommand.QUADRATICTO: 2>, data=[10.85, 144.35, 10.3, 144.5], S=3), Edge(type=<DrawCommand.QUADRATICTO: 2>, data=[9.55, 144.55, 8.95, 144.65], S=3), Edge(type=<DrawCommand.QUADRATICTO: 2>, data=[8.6, 144.65, 10.45, 145.4], S=3), Edge(type=<DrawCommand.QUADRATICTO: 2>, data=[12.35, 145.95, 12.7, 145.95], S=3), Edge(type=<DrawCommand.QUADRATICTO: 2>, data=[14.25, 146.1, 14.4, 148.6], S=3), Edge(type=<DrawCommand.QUADRATICTO: 2>, data=[14.6, 151.05, 13.45, 153.35], S=3), Edge(type=<DrawCommand.QUADRATICTO: 2>, data=[10.65, 158.85, 3.25, 163.6], S=3), Edge(type=<DrawCommand.QUADRATICTO: 2>, data=[-0.75, 166.05, -5.6, 167.9], S=3), Edge(type=<DrawCommand.QUADRATICTO: 2>, data=[-9.95, 169.5, -15.65, 170.8], S=3), Edge(type=<DrawCommand.QUADRATICTO: 2>, data=[-21.05, 172.0, -26.75, 172.1], S=3), Edge(type=<DrawCommand.QUADRATICTO: 2>, data=[-29.1, 172.1, -38.45, 171.6], S=3), Edge(type=<DrawCommand.QUADRATICTO: 2>, data=[-38.9, 171.6, -39.6, 172.1], S=3), Edge(type=<DrawCommand.QUADRATICTO: 2>, data=[-40.5, 172.5, -40.85, 172.9], S=3), Edge(type=<DrawCommand.QUADRATICTO: 2>, data=[-41.2, 173.25, -41.4, 174.25], S=3), Edge(type=<DrawCommand.QUADRATICTO: 2>, data=[-41.5, 174.6, -41.5, 174.85], S=3)], stroke=None, fill0='#666666', fill1='#CCCCCC'), Path(edges=[Edge(type=<DrawCommand.MOVETO: 0>, data=[-41.5, 174.85], S=3), Edge(type=<DrawCommand.QUADRATICTO: 2>, data=[-46.55, 165.5, -45.2, 154.8], S=2)], stroke=None, fill0=None, fill1='#CCCCCC')]),\n",
       " Shape(palette={0: None, '1': '#666666', '2': '#CCCCCC'}, transformation_pt=Point(x='-14.5', y='142.55'), trans_mat=None, paths=[Path(edges=[Edge(type=<DrawCommand.MOVETO: 0>, data=[-45.05, 154.7], S=0), Edge(type=<DrawCommand.QUADRATICTO: 2>, data=[-44.85, 154.7, -44.55, 154.7], S=3), Edge(type=<DrawCommand.QUADRATICTO: 2>, data=[-44.0, 154.7, -43.6, 154.55], S=3), Edge(type=<DrawCommand.QUADRATICTO: 2>, data=[-41.9, 153.75, -39.15, 151.35], S=3), Edge(type=<DrawCommand.QUADRATICTO: 2>, data=[-35.9, 148.55, -34.15, 145.9], S=3), Edge(type=<DrawCommand.QUADRATICTO: 2>, data=[-32.05, 142.8, -30.2, 139.15], S=3), Edge(type=<DrawCommand.QUADRATICTO: 2>, data=[-27.2, 133.7, -24.05, 125.5], S=3), Edge(type=<DrawCommand.QUADRATICTO: 2>, data=[-19.8, 117.55, -15.0, 114.6], S=3), Edge(type=<DrawCommand.QUADRATICTO: 2>, data=[-10.95, 112.0, -7.15, 113.35], S=3), Edge(type=<DrawCommand.QUADRATICTO: 2>, data=[-4.2, 114.4, -6.6, 121.8], S=3), Edge(type=<DrawCommand.QUADRATICTO: 2>, data=[-9.3, 129.8, -16.85, 141.0], S=3), Edge(type=<DrawCommand.QUADRATICTO: 2>, data=[-7.15, 132.2, 1.7, 128.3], S=3), Edge(type=<DrawCommand.QUADRATICTO: 2>, data=[9.75, 124.8, 11.9, 127.15], S=3), Edge(type=<DrawCommand.QUADRATICTO: 2>, data=[14.35, 129.7, 13.05, 133.6], S=3), Edge(type=<DrawCommand.QUADRATICTO: 2>, data=[11.8, 137.55, 7.15, 142.15], S=3), Edge(type=<DrawCommand.QUADRATICTO: 2>, data=[-3.05, 152.15, -24.35, 161.0], S=3), Edge(type=<DrawCommand.QUADRATICTO: 2>, data=[-11.0, 158.1, -4.6, 163.05], S=3), Edge(type=<DrawCommand.QUADRATICTO: 2>, data=[-4.25, 163.3, -4.7, 164.35], S=3), Edge(type=<DrawCommand.QUADRATICTO: 2>, data=[-5.3, 165.3, -6.4, 166.4], S=3), Edge(type=<DrawCommand.QUADRATICTO: 2>, data=[-8.85, 168.8, -11.9, 169.8], S=3), Edge(type=<DrawCommand.QUADRATICTO: 2>, data=[-12.5, 169.9, -13.1, 170.05], S=3), Edge(type=<DrawCommand.QUADRATICTO: 2>, data=[-14.25, 170.3, -15.45, 170.6], S=3), Edge(type=<DrawCommand.QUADRATICTO: 2>, data=[-20.85, 171.8, -26.5, 171.85], S=3), Edge(type=<DrawCommand.QUADRATICTO: 2>, data=[-28.95, 171.95, -38.25, 171.5], S=3), Edge(type=<DrawCommand.QUADRATICTO: 2>, data=[-38.65, 171.5, -39.45, 171.85], S=3), Edge(type=<DrawCommand.QUADRATICTO: 2>, data=[-40.3, 172.3, -40.7, 172.7], S=3), Edge(type=<DrawCommand.QUADRATICTO: 2>, data=[-41.0, 173.05, -41.25, 174.1], S=3), Edge(type=<DrawCommand.QUADRATICTO: 2>, data=[-41.3, 174.4, -41.3, 174.65], S=3)], stroke=None, fill0='#666666', fill1='#CCCCCC'), Path(edges=[Edge(type=<DrawCommand.MOVETO: 0>, data=[-41.3, 174.65], S=3), Edge(type=<DrawCommand.QUADRATICTO: 2>, data=[-41.35, 175.1, -41.2, 175.3], S=1), Edge(type=<DrawCommand.QUADRATICTO: 2>, data=[-28.4, 176.85, -14.8, 173.85], S=1), Edge(type=<DrawCommand.QUADRATICTO: 2>, data=[-10.4, 172.9, -6.8, 171.75], S=1), Edge(type=<DrawCommand.QUADRATICTO: 2>, data=[-4.15, 169.0, -2.85, 166.7], S=1), Edge(type=<DrawCommand.QUADRATICTO: 2>, data=[1.15, 159.6, -8.85, 157.15], S=1), Edge(type=<DrawCommand.QUADRATICTO: 2>, data=[6.8, 147.9, 12.95, 139.2], S=1), Edge(type=<DrawCommand.QUADRATICTO: 2>, data=[18.9, 130.8, 14.6, 125.45], S=1), Edge(type=<DrawCommand.QUADRATICTO: 2>, data=[11.9, 122.3, 6.0, 123.4], S=1), Edge(type=<DrawCommand.QUADRATICTO: 2>, data=[0.4, 124.45, -6.9, 129.0], S=1), Edge(type=<DrawCommand.QUADRATICTO: 2>, data=[-1.3, 120.75, -3.65, 113.85], S=1), Edge(type=<DrawCommand.QUADRATICTO: 2>, data=[-3.75, 113.35, -4.0, 112.95], S=1), Edge(type=<DrawCommand.LINETO: 1>, data=[-4.05, 112.95], S=1), Edge(type=<DrawCommand.QUADRATICTO: 2>, data=[-7.75, 105.1, -20.3, 114.6], S=1), Edge(type=<DrawCommand.QUADRATICTO: 2>, data=[-22.45, 116.25, -24.9, 118.4], S=1), Edge(type=<DrawCommand.QUADRATICTO: 2>, data=[-24.95, 118.5, -25.0, 118.65], S=1), Edge(type=<DrawCommand.QUADRATICTO: 2>, data=[-29.25, 130.5, -32.95, 137.65], S=1), Edge(type=<DrawCommand.QUADRATICTO: 2>, data=[-38.15, 147.4, -44.65, 153.3], S=1), Edge(type=<DrawCommand.QUADRATICTO: 2>, data=[-45.05, 153.65, -45.15, 154.1], S=1), Edge(type=<DrawCommand.QUADRATICTO: 2>, data=[-45.2, 154.2, -45.2, 154.45], S=1), Edge(type=<DrawCommand.QUADRATICTO: 2>, data=[-45.2, 154.55, -45.05, 154.7], S=1)], stroke=None, fill0='#666666', fill1=None), Path(edges=[Edge(type=<DrawCommand.MOVETO: 0>, data=[-41.3, 174.65], S=1), Edge(type=<DrawCommand.QUADRATICTO: 2>, data=[-46.35, 165.3, -45.05, 154.7], S=2)], stroke=None, fill0=None, fill1='#CCCCCC')])]"
      ]
     },
     "execution_count": 47,
     "metadata": {},
     "output_type": "execute_result"
    }
   ],
   "source": [
    "animations[2][3]"
   ]
  },
  {
   "cell_type": "code",
   "execution_count": 22,
   "metadata": {},
   "outputs": [
    {
     "data": {
      "image/svg+xml": [
       "<?xml version=\"1.0\" encoding=\"UTF-8\"?>\n",
       "<svg xmlns=\"http://www.w3.org/2000/svg\" xmlns:xlink=\"http://www.w3.org/1999/xlink\"\n",
       "     width=\"480\" height=\"480\" viewBox=\"-240 -240 480 480\">\n",
       "<defs>\n",
       "</defs>\n",
       "<path d=\"M-41.5,174.85 Q-41.6,175.4,-41.4,175.4 Q-28.65,177.0,-14.9,173.95 Q-8.95,172.65,-4.3,171.05 Q0.8,169.05,4.95,166.4 Q13.35,161.0,16.3,154.8 Q19.3,148.75,16.65,144.15 Q18.25,143.2,19.9,142.15 Q22.9,140.2,27.7,136.4 Q36.35,129.45,43.45,121.35 Q50.8,112.75,54.0,105.45 Q57.75,96.65,55.0,91.65 Q53.8,89.15,51.35,88.6 Q48.9,88.05,44.95,89.15 Q42.5,89.9,41.35,90.2 Q39.25,90.9,37.6,91.85 Q40.2,88.55,41.85,86.3 Q46.35,80.15,49.55,73.2 Q54.0,63.5,55.15,58.3 Q56.65,51.75,54.6,46.95 Q53.8,44.8,51.05,43.95 Q48.35,43.2,45.35,44.25 Q42.3,45.4,40.0,46.7 Q36.65,48.55,33.8,51.45 Q26.25,58.95,18.8,69.9 Q15.85,74.15,12.65,79.3 Q14.8,72.1,16.2,64.65 Q19.65,45.95,14.0,38.25 Q11.75,35.15,7.4,36.4 Q2.95,37.75,-0.95,42.85 Q-4.85,48.1,-8.0,54.85 Q-11.65,63.05,-13.85,72.75 Q-19.1,96.1,-20.05,100.15 Q-22.9,112.65,-25.15,118.8 Q-29.45,130.65,-33.25,137.8 Q-38.3,147.55,-44.8,153.4 Q-45.2,153.75,-45.3,154.2 Q-45.35,154.4,-45.35,154.6 Q-45.35,154.7,-45.2,154.8 Q-45.05,154.85,-44.8,154.9 Q-44.2,154.9,-43.8,154.7 Q-42.15,154.0,-39.25,151.5 Q-36.1,148.75,-34.35,146.15 Q-32.2,143.0,-30.3,139.45 Q-26.5,132.1,-22.2,119.9 Q-19.9,113.7,-16.9,101.15 Q-16.0,97.3,-10.7,73.45 Q-6.85,56.25,1.65,44.9 Q4.35,41.25,7.6,40.0 Q10.65,38.7,12.05,40.5 Q16.5,46.1,12.65,64.8 Q8.65,85.15,-4.1,112.7 Q-4.3,113.25,-4.15,113.95 Q-3.85,114.45,-1.9,111.4 Q6.0,97.95,13.95,85.25 Q29.6,60.3,35.95,53.9 Q38.55,51.25,41.6,49.55 Q43.5,48.5,46.45,47.4 Q47.75,46.85,49.55,47.25 Q51.25,47.55,51.6,48.2 Q53.3,52.4,51.8,58.3 Q50.8,62.3,46.65,71.65 Q44.25,77.15,36.3,88.45 Q30.4,96.95,28.15,99.55 Q27.15,100.7,25.55,103.05 Q23.75,105.65,23.95,105.85 Q24.15,106.0,26.3,104.05 Q29.2,101.6,29.6,101.2 Q31.25,100.05,36.55,96.95 Q43.05,93.15,45.4,92.55 Q48.05,91.8,49.6,91.9 Q51.4,92.1,52.15,93.15 Q54.05,97.1,50.95,104.1 Q47.95,111.0,40.95,119.15 Q34.15,127.05,25.75,133.75 Q20.3,138.05,18.7,139.25 Q15.35,141.8,11.05,144.25 Q10.85,144.35,10.3,144.5 Q9.55,144.55,8.95,144.65 Q8.6,144.65,10.45,145.4 Q12.35,145.95,12.7,145.95 Q14.25,146.1,14.4,148.6 Q14.6,151.05,13.45,153.35 Q10.65,158.85,3.25,163.6 Q-0.75,166.05,-5.6,167.9 Q-9.95,169.5,-15.65,170.8 Q-21.05,172.0,-26.75,172.1 Q-29.1,172.1,-38.45,171.6 Q-38.9,171.6,-39.6,172.1 Q-40.5,172.5,-40.85,172.9 Q-41.2,173.25,-41.4,174.25 Q-41.5,174.6,-41.5,174.85\" fill=\"#666666\" stroke-width=\"0\" stroke-linecap=\"butt\" />\n",
       "<path d=\"M-41.5,174.85 Q-41.5,174.6,-41.4,174.25 Q-41.2,173.25,-40.85,172.9 Q-40.5,172.5,-39.6,172.1 Q-38.9,171.6,-38.45,171.6 Q-29.1,172.1,-26.75,172.1 Q-21.05,172.0,-15.65,170.8 Q-9.95,169.5,-5.6,167.9 Q-0.75,166.05,3.25,163.6 Q10.65,158.85,13.45,153.35 Q14.6,151.05,14.4,148.6 Q14.25,146.1,12.7,145.95 Q12.35,145.95,10.45,145.4 Q8.6,144.65,8.95,144.65 Q9.55,144.55,10.3,144.5 Q10.85,144.35,11.05,144.25 Q15.35,141.8,18.7,139.25 Q20.3,138.05,25.75,133.75 Q34.15,127.05,40.95,119.15 Q47.95,111.0,50.95,104.1 Q54.05,97.1,52.15,93.15 Q51.4,92.1,49.6,91.9 Q48.05,91.8,45.4,92.55 Q43.05,93.15,36.55,96.95 Q31.25,100.05,29.6,101.2 Q29.2,101.6,26.3,104.05 Q24.15,106.0,23.95,105.85 Q23.75,105.65,25.55,103.05 Q27.15,100.7,28.15,99.55 Q30.4,96.95,36.3,88.45 Q44.25,77.15,46.65,71.65 Q50.8,62.3,51.8,58.3 Q53.3,52.4,51.6,48.2 Q51.25,47.55,49.55,47.25 Q47.75,46.85,46.45,47.4 Q43.5,48.5,41.6,49.55 Q38.55,51.25,35.95,53.9 Q29.6,60.3,13.95,85.25 Q6.0,97.95,-1.9,111.4 Q-3.85,114.45,-4.15,113.95 Q-4.3,113.25,-4.1,112.7 Q8.65,85.15,12.65,64.8 Q16.5,46.1,12.05,40.5 Q10.65,38.7,7.6,40.0 Q4.35,41.25,1.65,44.9 Q-6.85,56.25,-10.7,73.45 Q-16.0,97.3,-16.9,101.15 Q-19.9,113.7,-22.2,119.9 Q-26.5,132.1,-30.3,139.45 Q-32.2,143.0,-34.35,146.15 Q-36.1,148.75,-39.25,151.5 Q-42.15,154.0,-43.8,154.7 Q-44.2,154.9,-44.8,154.9 Q-45.05,154.85,-45.2,154.8 Q-46.55,165.5,-41.5,174.85\" fill=\"#CCCCCC\" stroke-width=\"0\" stroke-linecap=\"butt\" />\n",
       "</svg>"
      ],
      "text/plain": [
       "<drawsvg.drawing.Drawing at 0x2204463fcd0>"
      ]
     },
     "execution_count": 22,
     "metadata": {},
     "output_type": "execute_result"
    }
   ],
   "source": [
    "root  = ET.parse(BASE_DIR+\"PonyTemplate►3Q Front Wing.xml\").getroot()\n",
    "layers = xml_find_prepend(root, [\"timeline\", \"DOMTimeline\", \"layers\"])\n",
    "animations = []\n",
    "for layer in layers:\n",
    "    frames = xml_findall_prepend(layer, [\"frames/\"])\n",
    "    anim_frames = []\n",
    "    for frame in frames:\n",
    "        shapes = []\n",
    "        elements = xml_findall_prepend(frame, [\"elements/\"])\n",
    "        for element in elements:\n",
    "            if element.tag==\"{http://ns.adobe.com/xfl/2008/}DOMShape\":\n",
    "                shapes.append(DOMshape_parse(element))\n",
    "            if element.tag==\"{http://ns.adobe.com/xfl/2008/}DOMGroup\":\n",
    "                for member in xml_findall_prepend(element, [\"DOMShape\"]):\n",
    "                    shapes.append(DOMshape_parse(member))\n",
    "        anim_frames.append(shapes)\n",
    "    animations.append(anim_frames)\n",
    "\n",
    "OFFSET = 240\n",
    "SIZE = 480\n",
    "d = dw.Drawing(SIZE, SIZE, id_prefix='pic', origin=(-OFFSET, -OFFSET))\n",
    "shape = animations[2][3][0]\n",
    "edgeGroups = {}\n",
    "split_paths = []\n",
    "for path in shape.paths:\n",
    "    split_paths.extend(find_subpaths(path))\n",
    "\n",
    "for path in split_paths: # split_paths[2:6]+split_paths[0:1]\n",
    "    if path.fill0 != None: addEdgeToGroup(edgeGroups, path.fill0,  path)\n",
    "    if path.fill1 != None: addEdgeToGroup(edgeGroups, path.fill1, reverse_draw_commands(path))\n",
    "# print(edgeGroups)\n",
    "filledRegs = {}\n",
    "for fillStyle, group in edgeGroups.items():\n",
    "    filledRegs[fillStyle] = findContours(group, fillStyle)\n",
    "\n",
    "for fillStyle, group in filledRegs.items():\n",
    "    # need to merge fills down to single path\n",
    "    a = findContours([path for path in group], fillStyle)\n",
    "    ret = a[0]\n",
    "    for i in range(1, len(a)):\n",
    "        ret = disjoint_path_join(ret, a[i])\n",
    "    filledRegs[fillStyle] = [ret]\n",
    "\n",
    "# print(filledRegs)\n",
    "for fillCol, contours in filledRegs.items():\n",
    "    for contour in contours:\n",
    "        transform = None\n",
    "        if type(shape.trans_mat)==np.ndarray:\n",
    "            tm = shape.trans_mat\n",
    "            tm_a = tm[0][0]\n",
    "            tm_b = tm[1][0]\n",
    "            tm_c = tm[0][1]\n",
    "            tm_d = tm[1][1]\n",
    "            tm_tx = tm[0][2]\n",
    "            tm_ty = tm[1][2]\n",
    "            transform = f\"matrix({tm_a} {tm_b} {tm_c} {tm_d} {tm_tx} {tm_ty})\"\n",
    "        stroke = contour.stroke if contour.stroke!=None else StrokeStyle(None, None, None, 0, None, None)\n",
    "        tracer = dw.Path(fill=fillCol, stroke=stroke.color, stroke_width=stroke.weight, stroke_linecap=\"butt\", stroke_linejoin=stroke.joints, stroke_miterlimit=stroke.miterLimit, transform=transform)\n",
    "        for edge in contour.edges:\n",
    "            if edge.type==DrawCommand.MOVETO:\n",
    "                tracer.M(edge.data[0], edge.data[1])\n",
    "            if edge.type==DrawCommand.LINETO:\n",
    "                tracer.L(edge.data[0], edge.data[1])\n",
    "            if edge.type==DrawCommand.QUADRATICTO:\n",
    "                tracer.Q(edge.data[0], edge.data[1], edge.data[2], edge.data[3])\n",
    "        d.append(tracer)\n",
    "d\n"
   ]
  },
  {
   "cell_type": "code",
   "execution_count": 10,
   "metadata": {},
   "outputs": [
    {
     "data": {
      "text/plain": [
       "drawsvg.drawing.Drawing"
      ]
     },
     "execution_count": 10,
     "metadata": {},
     "output_type": "execute_result"
    }
   ],
   "source": [
    "d."
   ]
  },
  {
   "cell_type": "code",
   "execution_count": null,
   "metadata": {},
   "outputs": [],
   "source": [
    "# PonyTemplate►3Q Front Wing.xml 8 frames has bugged triangle thing\n",
    "# PonyTemplate►Front 3Q Back Wing.xml has something forgot what was wrong"
   ]
  },
  {
   "cell_type": "code",
   "execution_count": 11,
   "metadata": {},
   "outputs": [
    {
     "name": "stdout",
     "output_type": "stream",
     "text": [
      "aa\n"
     ]
    }
   ],
   "source": [
    "root  = ET.parse(BASE_DIR+\"PonyTemplate►Side Wing Front.xml\").getroot()\n",
    "layers = xml_find_prepend(root, [\"timeline\", \"DOMTimeline\", \"layers\"])\n",
    "animations = []\n",
    "for layer in layers:\n",
    "    frames = xml_findall_prepend(layer, [\"frames/\"])\n",
    "    anim_frames = []\n",
    "    for frame in frames:\n",
    "        shapes = []\n",
    "        elements = xml_findall_prepend(frame, [\"elements/\"])\n",
    "        for element in elements:\n",
    "            if element.tag==\"{http://ns.adobe.com/xfl/2008/}DOMShape\":\n",
    "                shapes.append(DOMshape_parse(element))\n",
    "            if element.tag==\"{http://ns.adobe.com/xfl/2008/}DOMGroup\":\n",
    "                for member in xml_findall_prepend(element, [\"DOMShape\"]):\n",
    "                    shapes.append(DOMshape_parse(member))\n",
    "        anim_frames.append(shapes)\n",
    "\n",
    "    animations.append(anim_frames)\n",
    "anim = FrameAnimation()\n",
    "for frame in animations[0]:\n",
    "    OFFSET = 480\n",
    "    SIZE = 960\n",
    "    d = dw.Drawing(SIZE, SIZE, id_prefix='pic', origin=(-OFFSET, -OFFSET))\n",
    "    for shape in frame:\n",
    "        split_paths = []\n",
    "        for path in shape.paths:\n",
    "            split_paths.extend(find_subpaths(path))\n",
    "\n",
    "        edgeGroups = {}\n",
    "        for path in split_paths:\n",
    "            if path.fill0 != None: addEdgeToGroup(edgeGroups, path.fill0,  path)\n",
    "            if path.fill1 != None: addEdgeToGroup(edgeGroups, path.fill1, reverse_draw_commands(path))\n",
    "            \n",
    "        filledRegs = {}\n",
    "        for fillStyle, group in edgeGroups.items():\n",
    "            filledRegs[fillStyle] = findContours(group, fillStyle)\n",
    "        \n",
    "        for fillStyle, group in filledRegs.items():\n",
    "            # need to merge fills down to single path\n",
    "            a = findContours([path for path in group], fillStyle)\n",
    "            ret = a[0]\n",
    "            for i in range(1, len(a)):\n",
    "                ret = disjoint_path_join(ret, a[i])\n",
    "            filledRegs[fillStyle] = [ret]\n",
    "\n",
    "        for fillCol, contours in filledRegs.items():\n",
    "            for contour in contours:\n",
    "                transform = None\n",
    "                if type(shape.trans_mat)==np.ndarray:\n",
    "                    tm = shape.trans_mat\n",
    "                    tm_a = tm[0][0]\n",
    "                    tm_b = tm[1][0]\n",
    "                    tm_c = tm[0][1]\n",
    "                    tm_d = tm[1][1]\n",
    "                    tm_tx = tm[0][2]\n",
    "                    tm_ty = tm[1][2]\n",
    "                    transform = f\"matrix({tm_a} {tm_b} {tm_c} {tm_d} {tm_tx} {tm_ty})\"\n",
    "                stroke = contour.stroke if contour.stroke!=None else StrokeStyle(None, None, None, 0, None, None)\n",
    "                tracer = dw.Path(fill=fillCol, stroke=stroke.color, stroke_width=stroke.weight, stroke_linecap=\"butt\", stroke_linejoin=stroke.joints, stroke_miterlimit=stroke.miterLimit, transform=transform)\n",
    "                for edge in contour.edges:\n",
    "                    if edge.type==DrawCommand.MOVETO:\n",
    "                        tracer.M(edge.data[0], edge.data[1])\n",
    "                    if edge.type==DrawCommand.LINETO:\n",
    "                        tracer.L(edge.data[0], edge.data[1])\n",
    "                    if edge.type==DrawCommand.QUADRATICTO:\n",
    "                        tracer.Q(edge.data[0], edge.data[1], edge.data[2], edge.data[3])\n",
    "                tracer.Z()\n",
    "                d.append(tracer)\n",
    "    anim.append_frame(d)\n",
    "anim.save_spritesheet('wings.png')\n"
   ]
  },
  {
   "cell_type": "code",
   "execution_count": 95,
   "metadata": {},
   "outputs": [
    {
     "data": {
      "text/plain": [
       "{'d': 'M-8814.0,55.0 Q-8841.8,50.3,-8868.45,103.45 Q-8881.75,130.0,-8889.5,157.5 Q-8909.2,216.55,-8911.55,284.45 Q-8912.75,318.4,-8910.0,340.5 Q-8907.25,355.15,-8901.7,366.0 Q-8890.55,387.75,-8876.5,369.0 Q-8850.85,334.8,-8826.35,247.95 Q-8818.7,220.85,-8812.1,191.7 L-8807.0,168.0 Q-8791.35,98.0,-8801.1,69.5 Q-8804.15,60.6,-8809.4,56.9 Q-8812.0,55.05,-8814.0,55.0 Z',\n",
       " 'fill': '#CCCCCC',\n",
       " 'stroke-width': 0,\n",
       " 'transform': 'matrix(0.330612182617188 0.082427978515625 -0.0742034912109375 0.297637939453125 3201.8 433.85)'}"
      ]
     },
     "execution_count": 95,
     "metadata": {},
     "output_type": "execute_result"
    }
   ],
   "source": [
    "anim.frames[0].elements[0].args"
   ]
  },
  {
   "cell_type": "code",
   "execution_count": 86,
   "metadata": {},
   "outputs": [
    {
     "data": {
      "text/plain": [
       "[283.70303039550345, -276.30011596679685, 1.0]"
      ]
     },
     "execution_count": 86,
     "metadata": {},
     "output_type": "execute_result"
    }
   ],
   "source": [
    "a=0.330612182617188\n",
    "b=0.082427978515625\n",
    "c=-0.0742034912109375\n",
    "d=0.297637939453125\n",
    "tx=3201.8\n",
    "ty=433.85\n",
    "transformation_matrix = np.array([\n",
    "    [a, c, tx],\n",
    "    [b, d, ty],\n",
    "    [0, 0, 1]\n",
    "], dtype=np.float64)\n",
    "list(transformation_matrix @ np.array([-176280/20, 1100/20, 1], dtype=np.float64))"
   ]
  },
  {
   "cell_type": "code",
   "execution_count": 7,
   "metadata": {},
   "outputs": [
    {
     "data": {
      "text/plain": [
       "{'#00FF00', '#666666', '#CCCCCC'}"
      ]
     },
     "execution_count": 7,
     "metadata": {},
     "output_type": "execute_result"
    }
   ],
   "source": [
    "tag_names = set()\n",
    "def traverse(element):\n",
    "    if 'color' in element.attrib and element.tag=='{http://ns.adobe.com/xfl/2008/}SolidColor':\n",
    "        tag_names.add(element.attrib['color'])\n",
    "    for child in element:\n",
    "        traverse(child)\n",
    "traverse(root)\n",
    "tag_names"
   ]
  },
  {
   "cell_type": "code",
   "execution_count": 13,
   "metadata": {},
   "outputs": [
    {
     "data": {
      "text/plain": [
       "{'{http://ns.adobe.com/xfl/2008/}DOMFrame',\n",
       " '{http://ns.adobe.com/xfl/2008/}DOMGroup',\n",
       " '{http://ns.adobe.com/xfl/2008/}DOMLayer',\n",
       " '{http://ns.adobe.com/xfl/2008/}DOMShape',\n",
       " '{http://ns.adobe.com/xfl/2008/}DOMSymbolItem',\n",
       " '{http://ns.adobe.com/xfl/2008/}DOMTimeline',\n",
       " '{http://ns.adobe.com/xfl/2008/}Edge',\n",
       " '{http://ns.adobe.com/xfl/2008/}FillStyle',\n",
       " '{http://ns.adobe.com/xfl/2008/}Matrix',\n",
       " '{http://ns.adobe.com/xfl/2008/}Point',\n",
       " '{http://ns.adobe.com/xfl/2008/}SolidColor',\n",
       " '{http://ns.adobe.com/xfl/2008/}edges',\n",
       " '{http://ns.adobe.com/xfl/2008/}elements',\n",
       " '{http://ns.adobe.com/xfl/2008/}fills',\n",
       " '{http://ns.adobe.com/xfl/2008/}frames',\n",
       " '{http://ns.adobe.com/xfl/2008/}layers',\n",
       " '{http://ns.adobe.com/xfl/2008/}matrix',\n",
       " '{http://ns.adobe.com/xfl/2008/}members',\n",
       " '{http://ns.adobe.com/xfl/2008/}timeline',\n",
       " '{http://ns.adobe.com/xfl/2008/}transformationPoint'}"
      ]
     },
     "execution_count": 13,
     "metadata": {},
     "output_type": "execute_result"
    }
   ],
   "source": [
    "tag_names = set()\n",
    "def traverse(element):\n",
    "    tag_names.add(element.tag)\n",
    "    for child in element:\n",
    "        traverse(child)\n",
    "traverse(root)\n",
    "tag_names"
   ]
  },
  {
   "cell_type": "code",
   "execution_count": null,
   "metadata": {},
   "outputs": [],
   "source": [
    "# 6DABDC - rd outline\n",
    "# 9EDBF8 - rd fill"
   ]
  },
  {
   "cell_type": "code",
   "execution_count": null,
   "metadata": {},
   "outputs": [],
   "source": [
    "\t\"moveTo(x,y)\"\n",
    "\"|x y\"\t\t\t\"lineTo(x,y)\"\n",
    "\"!x y\"\t\t\"[cx cy x y\"\t\"quadraticTo(cx,cy,x,y)\""
   ]
  }
 ],
 "metadata": {
  "kernelspec": {
   "display_name": ".venv",
   "language": "python",
   "name": "python3"
  },
  "language_info": {
   "codemirror_mode": {
    "name": "ipython",
    "version": 3
   },
   "file_extension": ".py",
   "mimetype": "text/x-python",
   "name": "python",
   "nbconvert_exporter": "python",
   "pygments_lexer": "ipython3",
   "version": "3.11.6"
  }
 },
 "nbformat": 4,
 "nbformat_minor": 2
}
