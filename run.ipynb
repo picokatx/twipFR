{
 "cells": [
  {
   "cell_type": "code",
   "execution_count": 503,
   "metadata": {},
   "outputs": [],
   "source": [
    "import re\n",
    "import xml.etree.ElementTree as ET\n",
    "from xml.etree.ElementTree import Element\n",
    "from typing import List\n",
    "from collections import namedtuple\n",
    "from enum import Enum\n",
    "import zipfile\n",
    "import zlib\n",
    "import drawsvg as dw\n",
    "from drawsvg import FrameAnimation\n",
    "import os\n",
    "import numpy as np\n",
    "os.environ['PATH']+=\";c:\\\\Users\\\\picokatx\\\\Documents\\\\twipFR\\\\bin\""
   ]
  },
  {
   "cell_type": "code",
   "execution_count": 504,
   "metadata": {},
   "outputs": [],
   "source": [
    "BASE_DIR = \"assets/base/LIBRARY/PonyTemplate►/PonyTemplate►BodyParts/PonyTemplate►Wings/\""
   ]
  },
  {
   "cell_type": "code",
   "execution_count": 548,
   "metadata": {},
   "outputs": [],
   "source": [
    "class DrawCommand(Enum):\n",
    "    MOVETO = 0\n",
    "    LINETO = 1\n",
    "    QUADRATICTO = 2\n",
    "Edge = namedtuple(\"Edge\", [\"type\", \"data\", \"S\"])\n",
    "Path = namedtuple(\"Path\", [\"edges\", \"stroke\", \"fill0\", \"fill1\"])\n",
    "Shape = namedtuple(\"Shape\", [\"palette\",\"transformation_pt\", \"trans_mat\", \"paths\"])\n",
    "Point = namedtuple(\"Point\", [\"x\", \"y\"])\n",
    "StrokeStyle = namedtuple(\"Stroke\", [\"color\", \"scaleMode\", \"caps\", \"weight\", \"joints\", \"miterLimit\"])\n",
    "\n",
    "\n",
    "def xml_find_prepend(root: Element, path: List[str]):\n",
    "    return root.find(\"/\".join(\".//{http://ns.adobe.com/xfl/2008/}\"+p for p in path))\n",
    "def xml_findall_prepend(root: Element, path: List[str]):\n",
    "    return root.findall(\"/\".join(\".//{http://ns.adobe.com/xfl/2008/}\"+p for p in path))\n",
    "SYMBOLS = [\n",
    "    r\"\\s*\\!(-*\\d+\\.*\\d*)\\s+(-*\\d+\\.*\\d*)\\s*\",\n",
    "    r\"\\s*\\|(-*\\d+\\.*\\d*)\\s+(-*\\d+\\.*\\d*)\\s*\",\n",
    "    r\"\\s*\\[((?:\\#[0-9A-F]{1,6}\\.[0-9A-F]{1,2})|(?:-*\\d+\\.*\\d*))\\s+((?:\\#[0-9A-F]{1,6}\\.[0-9A-F]{1,2})|(?:-*\\d+\\.*\\d*))\\s+((?:\\#[0-9A-F]{1,6}\\.[0-9A-F]{1,2})|(?:-*\\d+\\.*\\d*))\\s+((?:\\#[0-9A-F]{1,6}\\.[0-9A-F]{1,2})|(?:-*\\d+\\.*\\d*))\\s*\",\n",
    "    r\"S\\d{1}\"\n",
    "]\n",
    "\n",
    "def decode_fla_value(val: str):\n",
    "    if val[0]==\"#\":\n",
    "        if len(val[1:].split(\".\")[1])==1: val = val[0]+\".\"+val[1:]+\"0\"\n",
    "        hex_out = \"\".join(val[1:].split(\".\"))\n",
    "        out = int(hex_out, 16)\n",
    "        if out >= 0x80000000:\n",
    "            out = -(0xffffffff - out + 1)\n",
    "        out = out / 256\n",
    "    else:\n",
    "        out = float(val) if \".\" in val else int(val)\n",
    "    if (out>100000): print(val, out)\n",
    "    return out / 20\n",
    "\n",
    "def transform_point(x, y, matrix):\n",
    "    point = np.array([x, y, 1])\n",
    "    transformed_point = matrix @ point\n",
    "    return [transformed_point[0], transformed_point[1]]\n",
    "\n",
    "def pathstring_parse(pathstr: str, S: int, transformation_matrix: np.ndarray):\n",
    "    c = 0\n",
    "    code = []\n",
    "    edge = pathstr\n",
    "    prev_pos = None\n",
    "    while c<len(edge):\n",
    "        found_symbol = False\n",
    "        for i in range(len(SYMBOLS)):\n",
    "            out = re.match(SYMBOLS[i], edge[c:])\n",
    "            if (out!=None):\n",
    "                found_symbol = True\n",
    "                if i!=3:\n",
    "                    args = [decode_fla_value(c) for c in out.groups()]\n",
    "                    if prev_pos!=args[-2:] or i!=0:\n",
    "                        code.append(Edge(DrawCommand(i), args, S))\n",
    "                    prev_pos = args[-2:]\n",
    "                else:\n",
    "                    S = int(out.group(0)[1])\n",
    "                c+=out.span()[1]-out.span()[0]\n",
    "                break\n",
    "        if not found_symbol:\n",
    "            print(edge[c:c+50])\n",
    "            break\n",
    "    return S, code\n",
    "\n",
    "def DOMshape_parse(elm: Element):\n",
    "    trans_pt_node = xml_find_prepend(elm, [\"transformationPoint\"])\n",
    "    trans_pt = xml_find_prepend(trans_pt_node, [\"Point\"]) if trans_pt_node!=None else None\n",
    "    trans_coords = Point(trans_pt.attrib['x'], trans_pt.attrib['y']) if trans_pt!=None else (-1, -1)\n",
    "    # matrix\n",
    "    matrix = xml_find_prepend(elm, [\"matrix/\"])\n",
    "    transformation_matrix = None\n",
    "    if matrix!=None:\n",
    "        matargs = matrix.attrib\n",
    "        a = matargs['a'] if 'a' in matargs else 1\n",
    "        b = matargs['b'] if 'b' in matargs else 0\n",
    "        c = matargs['c'] if 'c' in matargs else 0\n",
    "        d = matargs['d'] if 'd' in matargs else 1\n",
    "        tx = matargs['tx'] if 'tx' in matargs else 0\n",
    "        ty = matargs['ty'] if 'ty' in matargs else 0\n",
    "\n",
    "        transformation_matrix = np.array([\n",
    "            [a, c, tx],\n",
    "            [b, d, ty],\n",
    "            [0, 0, 1]\n",
    "        ], dtype=np.float64)\n",
    "\n",
    "    # color palette\n",
    "    fills = xml_findall_prepend(elm, [\"fills/\"])\n",
    "    fill_dict = {0: None}\n",
    "    for fill in fills:\n",
    "        fill_dict[fill.attrib[\"index\"]] = xml_find_prepend(fill, [\"SolidColor\"]).attrib[\"color\"]\n",
    "\n",
    "    # stroke\n",
    "    strokes = xml_findall_prepend(elm, [\"strokes/\"])\n",
    "    stroke_dict = {0: None}\n",
    "    if strokes!=None:\n",
    "        for stroke in strokes:\n",
    "            temp = xml_find_prepend(stroke, [\"SolidStroke\"])\n",
    "            stroke_dict[stroke.attrib[\"index\"]] = StrokeStyle(\n",
    "                color=xml_find_prepend(temp, [\"fill/\"]).attrib[\"color\"],\n",
    "                scaleMode=temp.attrib[\"scaleMode\"],\n",
    "                caps=temp.attrib[\"caps\"],\n",
    "                weight=temp.attrib[\"weight\"],\n",
    "                joints=temp.attrib[\"joints\"],\n",
    "                miterLimit=temp.attrib[\"miterLimit\"]\n",
    "            )\n",
    "    # paths\n",
    "    edges = xml_findall_prepend(elm, [\"edges/\"])\n",
    "    paths = []\n",
    "    hints = [] # not using hints cubics for now\n",
    "    S = 0\n",
    "    for edge in edges:\n",
    "        if \"edges\" in edge.attrib:\n",
    "            fill0 = fill_dict[edge.attrib[\"fillStyle0\"] if \"fillStyle0\" in edge.attrib else 0]\n",
    "            fill1 = fill_dict[edge.attrib[\"fillStyle1\"] if \"fillStyle1\" in edge.attrib else 0]\n",
    "            stroke_col = stroke_dict[edge.attrib[\"strokeStyle\"] if \"strokeStyle\" in edge.attrib else 0]\n",
    "            S, temp = pathstring_parse(edge.attrib[\"edges\"].replace(\"\\n\", \"\").strip(), S, transformation_matrix)\n",
    "            paths.append(Path(temp, stroke_col, fill0, fill1))\n",
    "        else:\n",
    "            hints.append(edge.attrib[\"cubics\"])\n",
    "    return Shape(fill_dict, trans_coords, transformation_matrix, paths)\n",
    "    \n"
   ]
  },
  {
   "cell_type": "code",
   "execution_count": 545,
   "metadata": {},
   "outputs": [],
   "source": [
    "def get_startpt(path: Path):\n",
    "    return path.edges[0].data\n",
    "def get_endpt(path: Path):\n",
    "    if path.edges[-1].type == DrawCommand.QUADRATICTO:\n",
    "        return path.edges[-1].data[2:]\n",
    "    else:\n",
    "        return path.edges[-1].data\n",
    "def closed(path: Path):\n",
    "    return get_startpt(path)==get_endpt(path)\n",
    "def get_pt(edge):\n",
    "    if edge.type == DrawCommand.MOVETO:\n",
    "        return edge.data\n",
    "    if edge.type == DrawCommand.LINETO:\n",
    "        return edge.data\n",
    "    if edge.type == DrawCommand.QUADRATICTO:\n",
    "        return edge.data[2:]\n",
    "def get_quad(edge):\n",
    "    if edge.type == DrawCommand.MOVETO:\n",
    "        return None\n",
    "    if edge.type == DrawCommand.LINETO:\n",
    "        return None\n",
    "    if edge.type == DrawCommand.QUADRATICTO:\n",
    "        return edge.data[:2]\n",
    "def path_join(path1: Path, path2: Path):\n",
    "    if get_endpt(path1)==get_startpt(path2):\n",
    "        return Path(path1.edges+path2.edges[1:], path1.stroke, path1.fill0, path1.fill1)\n",
    "    else:\n",
    "        return None\n",
    "def disjoint_path_join(path1: Path, path2: Path):\n",
    "    return Path(path1.edges+path2.edges, path1.stroke, path1.fill0, path1.fill1)\n",
    "def reverse_draw_commands(path: Path):\n",
    "    edges = path.edges\n",
    "    reversed_edges = [Edge(DrawCommand.MOVETO, get_pt(edges[-1]), edges[-1].S)]\n",
    "    prev_quad = None\n",
    "    prev_command = None\n",
    "    endpt = get_pt(edges[-1])\n",
    "    for edge in reversed(edges):\n",
    "        endpt = get_pt(edge)\n",
    "        if prev_command == DrawCommand.MOVETO:\n",
    "            reversed_edges.append(Edge(DrawCommand.MOVETO, endpt, edge.S))\n",
    "        elif prev_command == DrawCommand.LINETO:\n",
    "            reversed_edges.append(Edge(DrawCommand.LINETO, endpt, edge.S))\n",
    "        elif prev_command == DrawCommand.QUADRATICTO:\n",
    "            reversed_edges.append(Edge(DrawCommand.QUADRATICTO, prev_quad+endpt, edge.S))\n",
    "        prev_command = edge.type\n",
    "        prev_quad = get_quad(edge)\n",
    "    return Path(reversed_edges, path.stroke, path.fill1, path.fill0)\n"
   ]
  },
  {
   "cell_type": "code",
   "execution_count": 592,
   "metadata": {},
   "outputs": [],
   "source": [
    "def addEdgeToGroup(edgeGroups,group,edge):\n",
    "    if not group in edgeGroups: edgeGroups[group] = []\n",
    "    edgeGroups[group].append(edge)\n",
    "\n",
    "def findConnectedTo(prevEdge,edges):\n",
    "    for i, edge in enumerate(edges):\n",
    "        if get_startpt(edge) == get_endpt(prevEdge): return i, 1\n",
    "        if get_endpt(edge) == get_startpt(prevEdge): return i, 2\n",
    "    return -1, 0\n",
    "# print(fill, contour.fill0, contour.fill1, group[at].fill0, group[at].fill1)\n",
    "\n",
    "def findContour(group: List[Path], fill):\n",
    "    contour = group.pop(0)\n",
    "    at, which = findConnectedTo(contour,group)\n",
    "    while ((not closed(contour)) and len(group) > 0 and at != -1): # at != -1 is wrong, but temporary just to make error go away\n",
    "        contour = path_join(contour, group[at]) if which==1 else path_join(group[at], contour)\n",
    "        group.pop(at)\n",
    "        at, which = findConnectedTo(contour,group)\n",
    "    return contour\n",
    "\n",
    "def findContours(group: List[Path], fill):\n",
    "    group = [path for path in group]\n",
    "    contours = []\n",
    "    while len(group) > 0:\n",
    "        contours.append(findContour(group, fill))\n",
    "    return contours\n",
    "\n",
    "def find_subpaths(path: Path):\n",
    "    paths = []\n",
    "    start_pt = None\n",
    "    old_i = 0\n",
    "    for i, edge in enumerate(path.edges):\n",
    "        end_pt = get_pt(edge)\n",
    "        if start_pt==None:\n",
    "            start_pt = get_pt(edge)\n",
    "        elif end_pt==start_pt:\n",
    "            paths.append(Path(path.edges[old_i:i+1], path.stroke, path.fill0, path.fill1))\n",
    "            old_i = i+1\n",
    "            start_pt = None\n",
    "    if old_i!=i+1: paths.append(Path(path.edges[old_i:i+1], path.stroke, path.fill0, path.fill1))\n",
    "    return paths\n",
    "\n",
    "def draw_path(path: Path):\n",
    "    d = dw.Drawing(480, 480, id_prefix='pic', origin=(-240, -240))\n",
    "    stroke = path.stroke if path.stroke!=None else StrokeStyle(None, None, None, 0, None, None)\n",
    "    tracer = dw.Path(fill='white', stroke=\"blue\", stroke_width=3, stroke_linecap=\"butt\", stroke_linejoin=stroke.joints, stroke_miterlimit=stroke.miterLimit, transform=None)\n",
    "    for edge in path.edges:\n",
    "        if edge.type==DrawCommand.MOVETO:\n",
    "            tracer.M(edge.data[0], edge.data[1])\n",
    "        if edge.type==DrawCommand.LINETO:\n",
    "            tracer.L(edge.data[0], edge.data[1])\n",
    "        if edge.type==DrawCommand.QUADRATICTO:\n",
    "            tracer.Q(edge.data[0], edge.data[1], edge.data[2], edge.data[3])\n",
    "    d.append(tracer)\n",
    "    return d\n",
    "def draw_paths(paths: List[Path]):\n",
    "    d = dw.Drawing(480, 480, id_prefix='pic', origin=(-240, -240))\n",
    "    for path in paths:\n",
    "        stroke = path.stroke if path.stroke!=None else StrokeStyle(None, None, None, 0, None, None)\n",
    "        tracer = dw.Path(fill='grey', stroke=\"blue\", stroke_width=3, stroke_linecap=\"butt\", stroke_linejoin=stroke.joints, stroke_miterlimit=stroke.miterLimit, transform=None)\n",
    "        for edge in path.edges:\n",
    "            if edge.type==DrawCommand.MOVETO:\n",
    "                tracer.M(edge.data[0], edge.data[1])\n",
    "            if edge.type==DrawCommand.LINETO:\n",
    "                tracer.L(edge.data[0], edge.data[1])\n",
    "            if edge.type==DrawCommand.QUADRATICTO:\n",
    "                tracer.Q(edge.data[0], edge.data[1], edge.data[2], edge.data[3])\n",
    "        d.append(tracer)\n",
    "    return d\n",
    "def crop_path(path: Path, start: int, end: int):\n",
    "    return Path(path.edges[start:end], path.stroke, path.fill0, path.fill1)"
   ]
  },
  {
   "cell_type": "code",
   "execution_count": 534,
   "metadata": {},
   "outputs": [],
   "source": [
    "# issue is we are not checking for contours within a path, need to add code that does that\n",
    "# also don't forget alpha support\n",
    "# order here changes things, figure out why\n",
    "# ok so two paths with different fills are joined, how to deal with this?\n",
    "# 3 paths are connected by the same point. 1 has both fills, 2 have one fill each shared with the 1st."
   ]
  },
  {
   "cell_type": "code",
   "execution_count": 535,
   "metadata": {},
   "outputs": [
    {
     "data": {
      "text/plain": [
       "Path(edges=[Edge(type=<DrawCommand.MOVETO: 0>, data=[-0.35, 2.4], S=0), Edge(type=<DrawCommand.LINETO: 1>, data=[0.15, 2.5], S=3), Edge(type=<DrawCommand.LINETO: 1>, data=[0.7, 4.5], S=3), Edge(type=<DrawCommand.QUADRATICTO: 2>, data=[0.9, 8.75, -1.0, 17.85], S=3), Edge(type=<DrawCommand.QUADRATICTO: 2>, data=[-5.1, 37.65, -17.8, 70.15], S=3), Edge(type=<DrawCommand.LINETO: 1>, data=[-17.8, 70.25], S=3), Edge(type=<DrawCommand.QUADRATICTO: 2>, data=[-20.15, 65.8, -22.75, 65.45], S=3), Edge(type=<DrawCommand.QUADRATICTO: 2>, data=[-25.55, 64.7, -28.45, 68.4], S=3), Edge(type=<DrawCommand.QUADRATICTO: 2>, data=[-30.8, 71.3, -31.35, 76.4], S=3), Edge(type=<DrawCommand.LINETO: 1>, data=[-31.35, 71.35], S=3), Edge(type=<DrawCommand.QUADRATICTO: 2>, data=[-30.7, 48.4, -20.4, 25.45], S=3), Edge(type=<DrawCommand.QUADRATICTO: 2>, data=[-10.45, 2.9, -0.35, 2.4], S=3), Edge(type=<DrawCommand.MOVETO: 0>, data=[-40.55, 163.05], S=3), Edge(type=<DrawCommand.LINETO: 1>, data=[-42.15, 163.05], S=1), Edge(type=<DrawCommand.QUADRATICTO: 2>, data=[-29.25, 165.75, -18.85, 163.8], S=1), Edge(type=<DrawCommand.LINETO: 1>, data=[-18.35, 163.65], S=1), Edge(type=<DrawCommand.QUADRATICTO: 2>, data=[-4.5, 160.15, 0.8, 156.55], S=1), Edge(type=<DrawCommand.QUADRATICTO: 2>, data=[13.4, 147.65, 13.5, 137.45], S=1), Edge(type=<DrawCommand.QUADRATICTO: 2>, data=[13.55, 134.9, 12.7, 133.1], S=1), Edge(type=<DrawCommand.QUADRATICTO: 2>, data=[11.35, 130.25, 7.45, 128.95], S=1), Edge(type=<DrawCommand.QUADRATICTO: 2>, data=[5.35, 128.3, -0.95, 128.9], S=1), Edge(type=<DrawCommand.QUADRATICTO: 2>, data=[18.85, 116.85, 30.35, 102.05], S=1), Edge(type=<DrawCommand.QUADRATICTO: 2>, data=[41.65, 87.45, 42.55, 81.05], S=1), Edge(type=<DrawCommand.QUADRATICTO: 2>, data=[43.3, 74.4, 39.6, 72.65], S=1), Edge(type=<DrawCommand.QUADRATICTO: 2>, data=[33.9, 69.15, 18.45, 78.8], S=1), Edge(type=<DrawCommand.QUADRATICTO: 2>, data=[15.0, 80.95, 7.55, 86.7], S=1), Edge(type=<DrawCommand.QUADRATICTO: 2>, data=[32.25, 48.65, 35.8, 38.85], S=1), Edge(type=<DrawCommand.QUADRATICTO: 2>, data=[40.4, 26.15, 41.2, 20.75], S=1), Edge(type=<DrawCommand.QUADRATICTO: 2>, data=[41.7, 17.25, 40.75, 15.35], S=1), Edge(type=<DrawCommand.QUADRATICTO: 2>, data=[39.8, 12.8, 37.15, 12.7], S=1), Edge(type=<DrawCommand.QUADRATICTO: 2>, data=[25.75, 11.8, 11.3, 28.95], S=1), Edge(type=<DrawCommand.QUADRATICTO: 2>, data=[9.55, 30.95, 6.3, 36.1], S=1), Edge(type=<DrawCommand.QUADRATICTO: 2>, data=[1.65, 43.35, -16.0, 76.0], S=1), Edge(type=<DrawCommand.QUADRATICTO: 2>, data=[-16.05, 75.85, -16.05, 75.7], S=1), Edge(type=<DrawCommand.LINETO: 1>, data=[-14.7, 73.05], S=1), Edge(type=<DrawCommand.QUADRATICTO: 2>, data=[1.6, 29.8, 3.1, 19.85], S=1), Edge(type=<DrawCommand.QUADRATICTO: 2>, data=[4.55, 9.75, 4.15, 4.8], S=1), Edge(type=<DrawCommand.QUADRATICTO: 2>, data=[3.8, 1.3, 2.6, -0.3], S=1), Edge(type=<DrawCommand.QUADRATICTO: 2>, data=[1.3, -2.5, -1.1, -2.3], S=1), Edge(type=<DrawCommand.QUADRATICTO: 2>, data=[-12.5, -2.1, -23.45, 22.55], S=1), Edge(type=<DrawCommand.QUADRATICTO: 2>, data=[-34.0, 46.1, -34.7, 70.4], S=1), Edge(type=<DrawCommand.LINETO: 1>, data=[-35.65, 91.35], S=1), Edge(type=<DrawCommand.LINETO: 1>, data=[-35.7, 91.55], S=1), Edge(type=<DrawCommand.LINETO: 1>, data=[-35.7, 91.6], S=1), Edge(type=<DrawCommand.QUADRATICTO: 2>, data=[-36.75, 104.15, -38.55, 113.8], S=1), Edge(type=<DrawCommand.QUADRATICTO: 2>, data=[-40.75, 125.7, -46.75, 150.15], S=1), Edge(type=<DrawCommand.MOVETO: 0>, data=[-12.5, 146.0], S=1), Edge(type=<DrawCommand.QUADRATICTO: 2>, data=[-14.3, 142.2, -21.25, 141.05], S=3), Edge(type=<DrawCommand.QUADRATICTO: 2>, data=[-16.6, 138.5, -12.55, 135.3], S=3), Edge(type=<DrawCommand.QUADRATICTO: 2>, data=[-10.75, 134.3, -8.9, 133.4], S=3), Edge(type=<DrawCommand.QUADRATICTO: 2>, data=[0.35, 130.6, 5.45, 132.25], S=3), Edge(type=<DrawCommand.QUADRATICTO: 2>, data=[8.4, 133.25, 9.3, 135.35], S=3), Edge(type=<DrawCommand.LINETO: 1>, data=[9.55, 136.55], S=3), Edge(type=<DrawCommand.QUADRATICTO: 2>, data=[10.3, 144.65, -1.45, 152.95], S=3), Edge(type=<DrawCommand.LINETO: 1>, data=[-2.0, 153.2], S=3), Edge(type=<DrawCommand.QUADRATICTO: 2>, data=[-3.6, 154.35, -12.75, 157.85], S=3), Edge(type=<DrawCommand.LINETO: 1>, data=[-12.15, 155.85], S=3), Edge(type=<DrawCommand.QUADRATICTO: 2>, data=[-10.5, 150.8, -12.25, 146.7], S=3), Edge(type=<DrawCommand.LINETO: 1>, data=[-12.5, 146.0], S=3), Edge(type=<DrawCommand.MOVETO: 0>, data=[-1.7, 122.5], S=3), Edge(type=<DrawCommand.QUADRATICTO: 2>, data=[3.95, 112.6, 3.25, 104.2], S=3), Edge(type=<DrawCommand.QUADRATICTO: 2>, data=[2.95, 101.2, 1.9, 98.45], S=3), Edge(type=<DrawCommand.LINETO: 1>, data=[0.55, 95.95], S=3), Edge(type=<DrawCommand.LINETO: 1>, data=[2.2, 94.65], S=3), Edge(type=<DrawCommand.QUADRATICTO: 2>, data=[2.35, 94.55, 2.55, 94.35], S=3), Edge(type=<DrawCommand.QUADRATICTO: 2>, data=[9.35, 88.45, 15.1, 84.5], S=3), Edge(type=<DrawCommand.QUADRATICTO: 2>, data=[31.25, 73.25, 37.95, 76.65], S=3), Edge(type=<DrawCommand.LINETO: 1>, data=[37.9, 76.65], S=3), Edge(type=<DrawCommand.QUADRATICTO: 2>, data=[39.0, 77.6, 38.3, 80.6], S=3), Edge(type=<DrawCommand.QUADRATICTO: 2>, data=[37.15, 85.8, 32.4, 92.8], S=3), Edge(type=<DrawCommand.QUADRATICTO: 2>, data=[20.2, 110.45, -5.7, 128.3], S=3), Edge(type=<DrawCommand.QUADRATICTO: 2>, data=[-3.45, 125.45, -1.7, 122.5], S=3)], stroke=None, fill0='#666666', fill1='#CCCCCC')"
      ]
     },
     "execution_count": 535,
     "metadata": {},
     "output_type": "execute_result"
    }
   ],
   "source": [
    "# need to merge fills down to single path\n",
    "a = findContours([path for path in edgeGroups['#666666']], '#666666')\n",
    "ret = a[0]\n",
    "for i in range(1, len(a)):\n",
    "    ret = disjoint_path_join(ret, a[i])\n",
    "ret"
   ]
  },
  {
   "cell_type": "code",
   "execution_count": 615,
   "metadata": {},
   "outputs": [
    {
     "data": {
      "image/svg+xml": [
       "<?xml version=\"1.0\" encoding=\"UTF-8\"?>\n",
       "<svg xmlns=\"http://www.w3.org/2000/svg\" xmlns:xlink=\"http://www.w3.org/1999/xlink\"\n",
       "     width=\"480\" height=\"480\" viewBox=\"-240 -240 480 480\">\n",
       "<defs>\n",
       "</defs>\n",
       "<path d=\"M6.8,145.2 Q9.95,140.45,11.35,131.9 L11.4,131.8 L12.4,128.2 L12.5,127.4 Q12.85,129.55,12.95,131.65 Q13.35,137.5,12.35,143.3 Q5.45,171.45,-5.85,169.45 L-7.35,169.35 Q-8.1,169.1,-8.5,167.6 L-10.1,161.2 Q-0.8,157.15,3.2,152.15 Q5.45,147.35,6.8,145.2\" fill=\"grey\" stroke=\"blue\" stroke-width=\"3\" stroke-linecap=\"butt\" />\n",
       "<path d=\"M9.5,128.45 L8.4,133.95 L1.2,149.85 Q-2.35,157.1,-13.95,158.25 Q-14.45,155.7,-13.25,148.6 L-10.6,134.15 Q-9.15,125.5,-9.15,120.25 L-11.0,125.15 L-10.55,123.35 Q-9.0,114.2,-9.0,104.95 Q-7.55,102.35,-5.35,100.45 Q-1.1,97.05,4.6,98.05 Q10.3,99.1,10.65,111.7 Q11.0,119.65,9.5,128.45\" fill=\"grey\" stroke=\"blue\" stroke-width=\"3\" stroke-linecap=\"butt\" />\n",
       "<path d=\"M-11.55,168.65 Q-10.15,172.35,-6.45,173.05 Q3.95,174.85,10.1,159.15 Q13.15,151.35,14.25,142.95 Q16.5,129.4,13.3,122.75 Q16.75,96.2,6.05,94.35 Q-0.55,93.15,-5.7,98.45 Q-6.45,99.15,-7.0,99.85\" fill=\"grey\" stroke=\"blue\" stroke-width=\"3\" stroke-linecap=\"butt\" />\n",
       "<path d=\"M-26.55,171.55 Q-22.65,170.65,-18.95,165.8\" fill=\"grey\" stroke=\"blue\" stroke-width=\"3\" stroke-linecap=\"butt\" />\n",
       "<path d=\"M-9.15,100.85 Q-9.95,84.25,-17.65,82.85 Q-31.75,80.35,-40.15,100.6 Q-44.4,110.7,-46.1,119.75 L-49.15,135.1 Q-50.5,141.25,-51.5,151.45 Q-52.1,159.1,-49.4,166.35 Q-49.4,165.75,-49.45,165.05\" fill=\"grey\" stroke=\"blue\" stroke-width=\"3\" stroke-linecap=\"butt\" />\n",
       "<path d=\"M-33.4,96.4 Q-32.35,94.25,-28.95,91.25 Q-25.5,88.2,-25.0,88.75 Q-24.55,89.25,-22.15,88.8 Q-19.7,88.3,-18.75,88.5 Q-12.8,89.5,-12.55,104.9 Q-12.25,114.8,-13.85,123.9 Q-15.65,131.0,-18.85,137.3 Q-25.1,149.8,-32.5,148.5 Q-35.75,147.9,-35.75,141.7 Q-35.7,137.75,-33.9,127.2 Q-31.95,115.65,-31.7,110.4 Q-31.15,101.2,-33.4,96.4\" fill=\"grey\" stroke=\"blue\" stroke-width=\"3\" stroke-linecap=\"butt\" />\n",
       "<path d=\"M-18.95,165.8 Q-17.6,164.15,-16.35,161.85 L-15.5,162.35 L-11.85,162.5 L-12.15,163.65 Q-12.55,165.95,-11.55,168.65 M-49.45,165.05 Q-49.45,161.55,-49.45,155.25 L-47.75,149.15 L-44.0,127.6 Q-40.3,111.5,-35.65,100.8 L-35.1,101.35 Q-35.0,103.85,-36.55,113.0 L-39.15,129.8 Q-41.7,151.6,-32.9,152.15 Q-24.2,152.55,-19.05,142.95 Q-13.9,133.25,-12.1,129.05 Q-14.15,136.7,-16.15,148.65 Q-16.95,151.95,-17.25,155.3 Q-17.55,157.9,-17.3,159.65 L-20.7,164.15 Q-20.85,164.35,-21.1,164.45 Q-25.7,169.4,-30.7,168.6 L-33.2,168.0 Q-33.35,168.95,-32.3,170.2 Q-31.15,171.45,-29.8,171.7 Q-28.15,172.0,-26.55,171.55 M-7.0,99.85 Q-8.25,101.35,-9.0,102.75 Q-9.0,101.8,-9.15,100.85\" fill=\"grey\" stroke=\"blue\" stroke-width=\"3\" stroke-linecap=\"butt\" />\n",
       "</svg>"
      ],
      "text/plain": [
       "<drawsvg.drawing.Drawing at 0x25a0879c6d0>"
      ]
     },
     "execution_count": 615,
     "metadata": {},
     "output_type": "execute_result"
    }
   ],
   "source": [
    "draw_paths(edgeGroups['#666666'])"
   ]
  },
  {
   "cell_type": "code",
   "execution_count": 614,
   "metadata": {},
   "outputs": [
    {
     "data": {
      "text/plain": [
       "[Path(edges=[Edge(type=<DrawCommand.MOVETO: 0>, data=[6.8, 145.2], S=3), Edge(type=<DrawCommand.QUADRATICTO: 2>, data=[9.95, 140.45, 11.35, 131.9], S=3), Edge(type=<DrawCommand.LINETO: 1>, data=[11.4, 131.8], S=3), Edge(type=<DrawCommand.LINETO: 1>, data=[12.4, 128.2], S=3), Edge(type=<DrawCommand.LINETO: 1>, data=[12.5, 127.4], S=3), Edge(type=<DrawCommand.QUADRATICTO: 2>, data=[12.85, 129.55, 12.95, 131.65], S=3), Edge(type=<DrawCommand.QUADRATICTO: 2>, data=[13.35, 137.5, 12.35, 143.3], S=3), Edge(type=<DrawCommand.QUADRATICTO: 2>, data=[5.45, 171.45, -5.85, 169.45], S=3), Edge(type=<DrawCommand.LINETO: 1>, data=[-7.35, 169.35], S=3), Edge(type=<DrawCommand.QUADRATICTO: 2>, data=[-8.1, 169.1, -8.5, 167.6], S=3), Edge(type=<DrawCommand.LINETO: 1>, data=[-10.1, 161.2], S=3), Edge(type=<DrawCommand.QUADRATICTO: 2>, data=[-0.8, 157.15, 3.2, 152.15], S=3), Edge(type=<DrawCommand.QUADRATICTO: 2>, data=[5.45, 147.35, 6.8, 145.2], S=0)], stroke=None, fill0='#666666', fill1='#CCCCCC'),\n",
       " Path(edges=[Edge(type=<DrawCommand.MOVETO: 0>, data=[9.5, 128.45], S=3), Edge(type=<DrawCommand.LINETO: 1>, data=[8.4, 133.95], S=3), Edge(type=<DrawCommand.LINETO: 1>, data=[1.2, 149.85], S=3), Edge(type=<DrawCommand.QUADRATICTO: 2>, data=[-2.35, 157.1, -13.95, 158.25], S=3), Edge(type=<DrawCommand.QUADRATICTO: 2>, data=[-14.45, 155.7, -13.25, 148.6], S=3), Edge(type=<DrawCommand.LINETO: 1>, data=[-10.6, 134.15], S=3), Edge(type=<DrawCommand.QUADRATICTO: 2>, data=[-9.15, 125.5, -9.15, 120.25], S=3), Edge(type=<DrawCommand.LINETO: 1>, data=[-11.0, 125.15], S=3), Edge(type=<DrawCommand.LINETO: 1>, data=[-10.55, 123.35], S=3), Edge(type=<DrawCommand.QUADRATICTO: 2>, data=[-9.0, 114.2, -9.0, 104.95], S=3), Edge(type=<DrawCommand.QUADRATICTO: 2>, data=[-7.55, 102.35, -5.35, 100.45], S=3), Edge(type=<DrawCommand.QUADRATICTO: 2>, data=[-1.1, 97.05, 4.6, 98.05], S=3), Edge(type=<DrawCommand.QUADRATICTO: 2>, data=[10.3, 99.1, 10.65, 111.7], S=3), Edge(type=<DrawCommand.QUADRATICTO: 2>, data=[11.0, 119.65, 9.5, 128.45], S=3)], stroke=None, fill0='#666666', fill1='#CCCCCC'),\n",
       " Path(edges=[Edge(type=<DrawCommand.MOVETO: 0>, data=[-11.55, 168.65], S=2), Edge(type=<DrawCommand.QUADRATICTO: 2>, data=[-10.15, 172.35, -6.45, 173.05], S=2), Edge(type=<DrawCommand.QUADRATICTO: 2>, data=[3.95, 174.85, 10.1, 159.15], S=2), Edge(type=<DrawCommand.QUADRATICTO: 2>, data=[13.15, 151.35, 14.25, 142.95], S=2), Edge(type=<DrawCommand.QUADRATICTO: 2>, data=[16.5, 129.4, 13.3, 122.75], S=2), Edge(type=<DrawCommand.QUADRATICTO: 2>, data=[16.75, 96.2, 6.05, 94.35], S=2), Edge(type=<DrawCommand.QUADRATICTO: 2>, data=[-0.55, 93.15, -5.7, 98.45], S=2), Edge(type=<DrawCommand.QUADRATICTO: 2>, data=[-6.45, 99.15, -7.0, 99.85], S=3)], stroke=None, fill0='#666666', fill1=None),\n",
       " Path(edges=[Edge(type=<DrawCommand.MOVETO: 0>, data=[-26.55, 171.55], S=2), Edge(type=<DrawCommand.QUADRATICTO: 2>, data=[-22.65, 170.65, -18.95, 165.8], S=2)], stroke=None, fill0='#666666', fill1=None),\n",
       " Path(edges=[Edge(type=<DrawCommand.MOVETO: 0>, data=[-9.15, 100.85], S=2), Edge(type=<DrawCommand.QUADRATICTO: 2>, data=[-9.95, 84.25, -17.65, 82.85], S=2), Edge(type=<DrawCommand.QUADRATICTO: 2>, data=[-31.75, 80.35, -40.15, 100.6], S=2), Edge(type=<DrawCommand.QUADRATICTO: 2>, data=[-44.4, 110.7, -46.1, 119.75], S=2), Edge(type=<DrawCommand.LINETO: 1>, data=[-49.15, 135.1], S=2), Edge(type=<DrawCommand.QUADRATICTO: 2>, data=[-50.5, 141.25, -51.5, 151.45], S=2), Edge(type=<DrawCommand.QUADRATICTO: 2>, data=[-52.1, 159.1, -49.4, 166.35], S=2), Edge(type=<DrawCommand.QUADRATICTO: 2>, data=[-49.4, 165.75, -49.45, 165.05], S=2)], stroke=None, fill0='#666666', fill1=None),\n",
       " Path(edges=[Edge(type=<DrawCommand.MOVETO: 0>, data=[-33.4, 96.4], S=3), Edge(type=<DrawCommand.QUADRATICTO: 2>, data=[-32.35, 94.25, -28.95, 91.25], S=3), Edge(type=<DrawCommand.QUADRATICTO: 2>, data=[-25.5, 88.2, -25.0, 88.75], S=3), Edge(type=<DrawCommand.QUADRATICTO: 2>, data=[-24.55, 89.25, -22.15, 88.8], S=3), Edge(type=<DrawCommand.QUADRATICTO: 2>, data=[-19.7, 88.3, -18.75, 88.5], S=3), Edge(type=<DrawCommand.QUADRATICTO: 2>, data=[-12.8, 89.5, -12.55, 104.9], S=3), Edge(type=<DrawCommand.QUADRATICTO: 2>, data=[-12.25, 114.8, -13.85, 123.9], S=3), Edge(type=<DrawCommand.QUADRATICTO: 2>, data=[-15.65, 131.0, -18.85, 137.3], S=3), Edge(type=<DrawCommand.QUADRATICTO: 2>, data=[-25.1, 149.8, -32.5, 148.5], S=3), Edge(type=<DrawCommand.QUADRATICTO: 2>, data=[-35.75, 147.9, -35.75, 141.7], S=3), Edge(type=<DrawCommand.QUADRATICTO: 2>, data=[-35.7, 137.75, -33.9, 127.2], S=3), Edge(type=<DrawCommand.QUADRATICTO: 2>, data=[-31.95, 115.65, -31.7, 110.4], S=3), Edge(type=<DrawCommand.QUADRATICTO: 2>, data=[-31.15, 101.2, -33.4, 96.4], S=2)], stroke=None, fill0='#666666', fill1='#CCCCCC'),\n",
       " Path(edges=[Edge(type=<DrawCommand.MOVETO: 0>, data=[-18.95, 165.8], S=3), Edge(type=<DrawCommand.QUADRATICTO: 2>, data=[-17.6, 164.15, -16.35, 161.85], S=3), Edge(type=<DrawCommand.LINETO: 1>, data=[-15.5, 162.35], S=3), Edge(type=<DrawCommand.LINETO: 1>, data=[-11.85, 162.5], S=3), Edge(type=<DrawCommand.LINETO: 1>, data=[-12.15, 163.65], S=3), Edge(type=<DrawCommand.QUADRATICTO: 2>, data=[-12.55, 165.95, -11.55, 168.65], S=3), Edge(type=<DrawCommand.MOVETO: 0>, data=[-49.45, 165.05], S=3), Edge(type=<DrawCommand.QUADRATICTO: 2>, data=[-49.45, 161.55, -49.45, 155.25], S=3), Edge(type=<DrawCommand.LINETO: 1>, data=[-47.75, 149.15], S=3), Edge(type=<DrawCommand.LINETO: 1>, data=[-44.0, 127.6], S=3), Edge(type=<DrawCommand.QUADRATICTO: 2>, data=[-40.3, 111.5, -35.65, 100.8], S=3), Edge(type=<DrawCommand.LINETO: 1>, data=[-35.1, 101.35], S=3), Edge(type=<DrawCommand.QUADRATICTO: 2>, data=[-35.0, 103.85, -36.55, 113.0], S=3), Edge(type=<DrawCommand.LINETO: 1>, data=[-39.15, 129.8], S=3), Edge(type=<DrawCommand.QUADRATICTO: 2>, data=[-41.7, 151.6, -32.9, 152.15], S=3), Edge(type=<DrawCommand.QUADRATICTO: 2>, data=[-24.2, 152.55, -19.05, 142.95], S=3), Edge(type=<DrawCommand.QUADRATICTO: 2>, data=[-13.9, 133.25, -12.1, 129.05], S=3), Edge(type=<DrawCommand.QUADRATICTO: 2>, data=[-14.15, 136.7, -16.15, 148.65], S=3), Edge(type=<DrawCommand.QUADRATICTO: 2>, data=[-16.95, 151.95, -17.25, 155.3], S=3), Edge(type=<DrawCommand.QUADRATICTO: 2>, data=[-17.55, 157.9, -17.3, 159.65], S=3), Edge(type=<DrawCommand.LINETO: 1>, data=[-20.7, 164.15], S=3), Edge(type=<DrawCommand.QUADRATICTO: 2>, data=[-20.85, 164.35, -21.1, 164.45], S=3), Edge(type=<DrawCommand.QUADRATICTO: 2>, data=[-25.7, 169.4, -30.7, 168.6], S=3), Edge(type=<DrawCommand.LINETO: 1>, data=[-33.2, 168.0], S=3), Edge(type=<DrawCommand.QUADRATICTO: 2>, data=[-33.35, 168.95, -32.3, 170.2], S=3), Edge(type=<DrawCommand.QUADRATICTO: 2>, data=[-31.15, 171.45, -29.8, 171.7], S=3), Edge(type=<DrawCommand.QUADRATICTO: 2>, data=[-28.15, 172.0, -26.55, 171.55], S=3), Edge(type=<DrawCommand.MOVETO: 0>, data=[-7.0, 99.85], S=3), Edge(type=<DrawCommand.QUADRATICTO: 2>, data=[-8.25, 101.35, -9.0, 102.75], S=3), Edge(type=<DrawCommand.QUADRATICTO: 2>, data=[-9.0, 101.8, -9.15, 100.85], S=3)], stroke=None, fill0='#666666', fill1='#CCCCCC')]"
      ]
     },
     "execution_count": 614,
     "metadata": {},
     "output_type": "execute_result"
    }
   ],
   "source": [
    "edgeGroups['#666666']"
   ]
  },
  {
   "cell_type": "code",
   "execution_count": 621,
   "metadata": {},
   "outputs": [
    {
     "data": {
      "text/plain": [
       "[Path(edges=[Edge(type=<DrawCommand.MOVETO: 0>, data=[6.8, 145.2], S=3), Edge(type=<DrawCommand.QUADRATICTO: 2>, data=[9.95, 140.45, 11.35, 131.9], S=3), Edge(type=<DrawCommand.LINETO: 1>, data=[11.4, 131.8], S=3), Edge(type=<DrawCommand.LINETO: 1>, data=[12.4, 128.2], S=3), Edge(type=<DrawCommand.LINETO: 1>, data=[12.5, 127.4], S=3), Edge(type=<DrawCommand.QUADRATICTO: 2>, data=[12.85, 129.55, 12.95, 131.65], S=3), Edge(type=<DrawCommand.QUADRATICTO: 2>, data=[13.35, 137.5, 12.35, 143.3], S=3), Edge(type=<DrawCommand.QUADRATICTO: 2>, data=[5.45, 171.45, -5.85, 169.45], S=3), Edge(type=<DrawCommand.LINETO: 1>, data=[-7.35, 169.35], S=3), Edge(type=<DrawCommand.QUADRATICTO: 2>, data=[-8.1, 169.1, -8.5, 167.6], S=3), Edge(type=<DrawCommand.LINETO: 1>, data=[-10.1, 161.2], S=3), Edge(type=<DrawCommand.QUADRATICTO: 2>, data=[-0.8, 157.15, 3.2, 152.15], S=3), Edge(type=<DrawCommand.QUADRATICTO: 2>, data=[5.45, 147.35, 6.8, 145.2], S=0)], stroke=None, fill0='#666666', fill1='#CCCCCC'),\n",
       " Path(edges=[Edge(type=<DrawCommand.MOVETO: 0>, data=[9.5, 128.45], S=3), Edge(type=<DrawCommand.LINETO: 1>, data=[8.4, 133.95], S=3), Edge(type=<DrawCommand.LINETO: 1>, data=[1.2, 149.85], S=3), Edge(type=<DrawCommand.QUADRATICTO: 2>, data=[-2.35, 157.1, -13.95, 158.25], S=3), Edge(type=<DrawCommand.QUADRATICTO: 2>, data=[-14.45, 155.7, -13.25, 148.6], S=3), Edge(type=<DrawCommand.LINETO: 1>, data=[-10.6, 134.15], S=3), Edge(type=<DrawCommand.QUADRATICTO: 2>, data=[-9.15, 125.5, -9.15, 120.25], S=3), Edge(type=<DrawCommand.LINETO: 1>, data=[-11.0, 125.15], S=3), Edge(type=<DrawCommand.LINETO: 1>, data=[-10.55, 123.35], S=3), Edge(type=<DrawCommand.QUADRATICTO: 2>, data=[-9.0, 114.2, -9.0, 104.95], S=3), Edge(type=<DrawCommand.QUADRATICTO: 2>, data=[-7.55, 102.35, -5.35, 100.45], S=3), Edge(type=<DrawCommand.QUADRATICTO: 2>, data=[-1.1, 97.05, 4.6, 98.05], S=3), Edge(type=<DrawCommand.QUADRATICTO: 2>, data=[10.3, 99.1, 10.65, 111.7], S=3), Edge(type=<DrawCommand.QUADRATICTO: 2>, data=[11.0, 119.65, 9.5, 128.45], S=3)], stroke=None, fill0='#666666', fill1='#CCCCCC'),\n",
       " Path(edges=[Edge(type=<DrawCommand.MOVETO: 0>, data=[-11.55, 168.65], S=2), Edge(type=<DrawCommand.QUADRATICTO: 2>, data=[-10.15, 172.35, -6.45, 173.05], S=2), Edge(type=<DrawCommand.QUADRATICTO: 2>, data=[3.95, 174.85, 10.1, 159.15], S=2), Edge(type=<DrawCommand.QUADRATICTO: 2>, data=[13.15, 151.35, 14.25, 142.95], S=2), Edge(type=<DrawCommand.QUADRATICTO: 2>, data=[16.5, 129.4, 13.3, 122.75], S=2), Edge(type=<DrawCommand.QUADRATICTO: 2>, data=[16.75, 96.2, 6.05, 94.35], S=2), Edge(type=<DrawCommand.QUADRATICTO: 2>, data=[-0.55, 93.15, -5.7, 98.45], S=2), Edge(type=<DrawCommand.QUADRATICTO: 2>, data=[-6.45, 99.15, -7.0, 99.85], S=3)], stroke=None, fill0='#666666', fill1=None),\n",
       " Path(edges=[Edge(type=<DrawCommand.MOVETO: 0>, data=[-26.55, 171.55], S=2), Edge(type=<DrawCommand.QUADRATICTO: 2>, data=[-22.65, 170.65, -18.95, 165.8], S=2), Edge(type=<DrawCommand.QUADRATICTO: 2>, data=[-17.6, 164.15, -16.35, 161.85], S=3), Edge(type=<DrawCommand.LINETO: 1>, data=[-15.5, 162.35], S=3), Edge(type=<DrawCommand.LINETO: 1>, data=[-11.85, 162.5], S=3), Edge(type=<DrawCommand.LINETO: 1>, data=[-12.15, 163.65], S=3), Edge(type=<DrawCommand.QUADRATICTO: 2>, data=[-12.55, 165.95, -11.55, 168.65], S=3), Edge(type=<DrawCommand.MOVETO: 0>, data=[-49.45, 165.05], S=3), Edge(type=<DrawCommand.QUADRATICTO: 2>, data=[-49.45, 161.55, -49.45, 155.25], S=3), Edge(type=<DrawCommand.LINETO: 1>, data=[-47.75, 149.15], S=3), Edge(type=<DrawCommand.LINETO: 1>, data=[-44.0, 127.6], S=3), Edge(type=<DrawCommand.QUADRATICTO: 2>, data=[-40.3, 111.5, -35.65, 100.8], S=3), Edge(type=<DrawCommand.LINETO: 1>, data=[-35.1, 101.35], S=3), Edge(type=<DrawCommand.QUADRATICTO: 2>, data=[-35.0, 103.85, -36.55, 113.0], S=3), Edge(type=<DrawCommand.LINETO: 1>, data=[-39.15, 129.8], S=3), Edge(type=<DrawCommand.QUADRATICTO: 2>, data=[-41.7, 151.6, -32.9, 152.15], S=3), Edge(type=<DrawCommand.QUADRATICTO: 2>, data=[-24.2, 152.55, -19.05, 142.95], S=3), Edge(type=<DrawCommand.QUADRATICTO: 2>, data=[-13.9, 133.25, -12.1, 129.05], S=3), Edge(type=<DrawCommand.QUADRATICTO: 2>, data=[-14.15, 136.7, -16.15, 148.65], S=3), Edge(type=<DrawCommand.QUADRATICTO: 2>, data=[-16.95, 151.95, -17.25, 155.3], S=3), Edge(type=<DrawCommand.QUADRATICTO: 2>, data=[-17.55, 157.9, -17.3, 159.65], S=3), Edge(type=<DrawCommand.LINETO: 1>, data=[-20.7, 164.15], S=3), Edge(type=<DrawCommand.QUADRATICTO: 2>, data=[-20.85, 164.35, -21.1, 164.45], S=3), Edge(type=<DrawCommand.QUADRATICTO: 2>, data=[-25.7, 169.4, -30.7, 168.6], S=3), Edge(type=<DrawCommand.LINETO: 1>, data=[-33.2, 168.0], S=3), Edge(type=<DrawCommand.QUADRATICTO: 2>, data=[-33.35, 168.95, -32.3, 170.2], S=3), Edge(type=<DrawCommand.QUADRATICTO: 2>, data=[-31.15, 171.45, -29.8, 171.7], S=3), Edge(type=<DrawCommand.QUADRATICTO: 2>, data=[-28.15, 172.0, -26.55, 171.55], S=3), Edge(type=<DrawCommand.MOVETO: 0>, data=[-7.0, 99.85], S=3), Edge(type=<DrawCommand.QUADRATICTO: 2>, data=[-8.25, 101.35, -9.0, 102.75], S=3), Edge(type=<DrawCommand.QUADRATICTO: 2>, data=[-9.0, 101.8, -9.15, 100.85], S=3), Edge(type=<DrawCommand.QUADRATICTO: 2>, data=[-9.95, 84.25, -17.65, 82.85], S=2), Edge(type=<DrawCommand.QUADRATICTO: 2>, data=[-31.75, 80.35, -40.15, 100.6], S=2), Edge(type=<DrawCommand.QUADRATICTO: 2>, data=[-44.4, 110.7, -46.1, 119.75], S=2), Edge(type=<DrawCommand.LINETO: 1>, data=[-49.15, 135.1], S=2), Edge(type=<DrawCommand.QUADRATICTO: 2>, data=[-50.5, 141.25, -51.5, 151.45], S=2), Edge(type=<DrawCommand.QUADRATICTO: 2>, data=[-52.1, 159.1, -49.4, 166.35], S=2), Edge(type=<DrawCommand.QUADRATICTO: 2>, data=[-49.4, 165.75, -49.45, 165.05], S=2)], stroke=None, fill0='#666666', fill1=None),\n",
       " Path(edges=[Edge(type=<DrawCommand.MOVETO: 0>, data=[-33.4, 96.4], S=3), Edge(type=<DrawCommand.QUADRATICTO: 2>, data=[-32.35, 94.25, -28.95, 91.25], S=3), Edge(type=<DrawCommand.QUADRATICTO: 2>, data=[-25.5, 88.2, -25.0, 88.75], S=3), Edge(type=<DrawCommand.QUADRATICTO: 2>, data=[-24.55, 89.25, -22.15, 88.8], S=3), Edge(type=<DrawCommand.QUADRATICTO: 2>, data=[-19.7, 88.3, -18.75, 88.5], S=3), Edge(type=<DrawCommand.QUADRATICTO: 2>, data=[-12.8, 89.5, -12.55, 104.9], S=3), Edge(type=<DrawCommand.QUADRATICTO: 2>, data=[-12.25, 114.8, -13.85, 123.9], S=3), Edge(type=<DrawCommand.QUADRATICTO: 2>, data=[-15.65, 131.0, -18.85, 137.3], S=3), Edge(type=<DrawCommand.QUADRATICTO: 2>, data=[-25.1, 149.8, -32.5, 148.5], S=3), Edge(type=<DrawCommand.QUADRATICTO: 2>, data=[-35.75, 147.9, -35.75, 141.7], S=3), Edge(type=<DrawCommand.QUADRATICTO: 2>, data=[-35.7, 137.75, -33.9, 127.2], S=3), Edge(type=<DrawCommand.QUADRATICTO: 2>, data=[-31.95, 115.65, -31.7, 110.4], S=3), Edge(type=<DrawCommand.QUADRATICTO: 2>, data=[-31.15, 101.2, -33.4, 96.4], S=2)], stroke=None, fill0='#666666', fill1='#CCCCCC')]"
      ]
     },
     "execution_count": 621,
     "metadata": {},
     "output_type": "execute_result"
    }
   ],
   "source": [
    "findContours(edgeGroups['#666666'], '#666666')"
   ]
  },
  {
   "cell_type": "code",
   "execution_count": 629,
   "metadata": {},
   "outputs": [
    {
     "data": {
      "image/svg+xml": [
       "<?xml version=\"1.0\" encoding=\"UTF-8\"?>\n",
       "<svg xmlns=\"http://www.w3.org/2000/svg\" xmlns:xlink=\"http://www.w3.org/1999/xlink\"\n",
       "     width=\"480\" height=\"480\" viewBox=\"-240 -240 480 480\">\n",
       "<defs>\n",
       "</defs>\n",
       "<path d=\"M-26.55,171.55 Q-22.65,170.65,-18.95,165.8 Q-17.6,164.15,-16.35,161.85 L-15.5,162.35 L-11.85,162.5 L-12.15,163.65 Q-12.55,165.95,-11.55,168.65 M-49.45,165.05 Q-49.45,161.55,-49.45,155.25 L-47.75,149.15 L-44.0,127.6 Q-40.3,111.5,-35.65,100.8 L-35.1,101.35 Q-35.0,103.85,-36.55,113.0 L-39.15,129.8 Q-41.7,151.6,-32.9,152.15 Q-24.2,152.55,-19.05,142.95 Q-13.9,133.25,-12.1,129.05 Q-14.15,136.7,-16.15,148.65 Q-16.95,151.95,-17.25,155.3 Q-17.55,157.9,-17.3,159.65 L-20.7,164.15 Q-20.85,164.35,-21.1,164.45 Q-25.7,169.4,-30.7,168.6 L-33.2,168.0 Q-33.35,168.95,-32.3,170.2 Q-31.15,171.45,-29.8,171.7 Q-28.15,172.0,-26.55,171.55 M-7.0,99.85 Q-8.25,101.35,-9.0,102.75 Q-9.0,101.8,-9.15,100.85 Q-9.95,84.25,-17.65,82.85 Q-31.75,80.35,-40.15,100.6 Q-44.4,110.7,-46.1,119.75 L-49.15,135.1 Q-50.5,141.25,-51.5,151.45 Q-52.1,159.1,-49.4,166.35 Q-49.4,165.75,-49.45,165.05\" fill=\"grey\" stroke=\"blue\" stroke-width=\"3\" stroke-linecap=\"butt\" />\n",
       "</svg>"
      ],
      "text/plain": [
       "<drawsvg.drawing.Drawing at 0x25a64a7c1d0>"
      ]
     },
     "execution_count": 629,
     "metadata": {},
     "output_type": "execute_result"
    }
   ],
   "source": [
    "draw_paths(findContours(edgeGroups['#666666'], '#666666')[3:4])"
   ]
  },
  {
   "cell_type": "code",
   "execution_count": 619,
   "metadata": {},
   "outputs": [
    {
     "data": {
      "image/svg+xml": [
       "<?xml version=\"1.0\" encoding=\"UTF-8\"?>\n",
       "<svg xmlns=\"http://www.w3.org/2000/svg\" xmlns:xlink=\"http://www.w3.org/1999/xlink\"\n",
       "     width=\"480\" height=\"480\" viewBox=\"-240 -240 480 480\">\n",
       "<defs>\n",
       "</defs>\n",
       "<path d=\"M6.8,145.2 Q9.95,140.45,11.35,131.9 L11.4,131.8 L12.4,128.2 L12.5,127.4 Q12.85,129.55,12.95,131.65 Q13.35,137.5,12.35,143.3 Q5.45,171.45,-5.85,169.45 L-7.35,169.35 Q-8.1,169.1,-8.5,167.6 L-10.1,161.2 Q-0.8,157.15,3.2,152.15 Q5.45,147.35,6.8,145.2 M9.5,128.45 L8.4,133.95 L1.2,149.85 Q-2.35,157.1,-13.95,158.25 Q-14.45,155.7,-13.25,148.6 L-10.6,134.15 Q-9.15,125.5,-9.15,120.25 L-11.0,125.15 L-10.55,123.35 Q-9.0,114.2,-9.0,104.95 Q-7.55,102.35,-5.35,100.45 Q-1.1,97.05,4.6,98.05 Q10.3,99.1,10.65,111.7 Q11.0,119.65,9.5,128.45 M-11.55,168.65 Q-10.15,172.35,-6.45,173.05 Q3.95,174.85,10.1,159.15 Q13.15,151.35,14.25,142.95 Q16.5,129.4,13.3,122.75 Q16.75,96.2,6.05,94.35 Q-0.55,93.15,-5.7,98.45 Q-6.45,99.15,-7.0,99.85 M-26.55,171.55 Q-22.65,170.65,-18.95,165.8 Q-17.6,164.15,-16.35,161.85 L-15.5,162.35 L-11.85,162.5 L-12.15,163.65 Q-12.55,165.95,-11.55,168.65 M-49.45,165.05 Q-49.45,161.55,-49.45,155.25 L-47.75,149.15 L-44.0,127.6 Q-40.3,111.5,-35.65,100.8 L-35.1,101.35 Q-35.0,103.85,-36.55,113.0 L-39.15,129.8 Q-41.7,151.6,-32.9,152.15 Q-24.2,152.55,-19.05,142.95 Q-13.9,133.25,-12.1,129.05 Q-14.15,136.7,-16.15,148.65 Q-16.95,151.95,-17.25,155.3 Q-17.55,157.9,-17.3,159.65 L-20.7,164.15 Q-20.85,164.35,-21.1,164.45 Q-25.7,169.4,-30.7,168.6 L-33.2,168.0 Q-33.35,168.95,-32.3,170.2 Q-31.15,171.45,-29.8,171.7 Q-28.15,172.0,-26.55,171.55 M-7.0,99.85 Q-8.25,101.35,-9.0,102.75 Q-9.0,101.8,-9.15,100.85 Q-9.95,84.25,-17.65,82.85 Q-31.75,80.35,-40.15,100.6 Q-44.4,110.7,-46.1,119.75 L-49.15,135.1 Q-50.5,141.25,-51.5,151.45 Q-52.1,159.1,-49.4,166.35 Q-49.4,165.75,-49.45,165.05 M-33.4,96.4 Q-32.35,94.25,-28.95,91.25 Q-25.5,88.2,-25.0,88.75 Q-24.55,89.25,-22.15,88.8 Q-19.7,88.3,-18.75,88.5 Q-12.8,89.5,-12.55,104.9 Q-12.25,114.8,-13.85,123.9 Q-15.65,131.0,-18.85,137.3 Q-25.1,149.8,-32.5,148.5 Q-35.75,147.9,-35.75,141.7 Q-35.7,137.75,-33.9,127.2 Q-31.95,115.65,-31.7,110.4 Q-31.15,101.2,-33.4,96.4\" fill=\"grey\" stroke=\"blue\" stroke-width=\"3\" stroke-linecap=\"butt\" />\n",
       "</svg>"
      ],
      "text/plain": [
       "<drawsvg.drawing.Drawing at 0x25a06e2c490>"
      ]
     },
     "execution_count": 619,
     "metadata": {},
     "output_type": "execute_result"
    }
   ],
   "source": [
    "draw_paths(filledRegs['#666666'])"
   ]
  },
  {
   "cell_type": "code",
   "execution_count": 596,
   "metadata": {},
   "outputs": [
    {
     "data": {
      "image/svg+xml": [
       "<?xml version=\"1.0\" encoding=\"UTF-8\"?>\n",
       "<svg xmlns=\"http://www.w3.org/2000/svg\" xmlns:xlink=\"http://www.w3.org/1999/xlink\"\n",
       "     width=\"480\" height=\"480\" viewBox=\"-240 -240 480 480\">\n",
       "<defs>\n",
       "</defs>\n",
       "<path d=\"M6.8,145.2 Q5.45,147.35,3.2,152.15 Q-0.8,157.15,-10.1,161.2 L-8.5,167.6 Q-8.1,169.1,-7.35,169.35 L-5.85,169.45 Q5.45,171.45,12.35,143.3 Q13.35,137.5,12.95,131.65 Q12.85,129.55,12.5,127.4 L12.4,128.2 L11.4,131.8 L11.35,131.9 Q9.95,140.45,6.8,145.2 M9.5,128.45 Q11.0,119.65,10.65,111.7 Q10.3,99.1,4.6,98.05 Q-1.1,97.05,-5.35,100.45 Q-7.55,102.35,-9.0,104.95 Q-9.0,114.2,-10.55,123.35 L-11.0,125.15 L-9.15,120.25 Q-9.15,125.5,-10.6,134.15 L-13.25,148.6 Q-14.45,155.7,-13.95,158.25 Q-2.35,157.1,1.2,149.85 L8.4,133.95 L9.5,128.45 M-7.0,99.85 L-9.15,100.85 Q-9.0,101.8,-9.0,102.75 Q-8.25,101.35,-7.0,99.85 M-26.55,171.55 Q-28.15,172.0,-29.8,171.7 Q-31.15,171.45,-32.3,170.2 Q-33.35,168.95,-33.2,168.0 L-30.7,168.6 Q-25.7,169.4,-21.1,164.45 Q-20.85,164.35,-20.7,164.15 L-17.3,159.65 Q-17.55,157.9,-17.25,155.3 Q-16.95,151.95,-16.15,148.65 Q-14.15,136.7,-12.1,129.05 Q-13.9,133.25,-19.05,142.95 Q-24.2,152.55,-32.9,152.15 Q-41.7,151.6,-39.15,129.8 L-36.55,113.0 Q-35.0,103.85,-35.1,101.35 L-35.65,100.8 Q-40.3,111.5,-44.0,127.6 L-47.75,149.15 L-49.45,155.25 Q-49.45,161.55,-49.45,165.05 M-11.55,168.65 Q-12.55,165.95,-12.15,163.65 L-11.85,162.5 L-15.5,162.35 L-16.35,161.85 Q-17.6,164.15,-18.95,165.8 Q-17.55,168.35,-14.5,168.9 Q-13.05,169.1,-11.55,168.65 M-49.45,165.05 L-49.4,165.05 Q-49.3,165.75,-49.25,166.45 Q-48.8,174.5,-44.85,175.8 Q-38.05,177.85,-35.1,170.05 L-34.0,166.5 Q-34.05,171.2,-30.7,171.8 L-30.35,171.85 L-30.2,172.55 Q-29.85,172.3,-29.3,172.3 Q-29.15,172.3,-29.0,172.3 Q-28.15,172.15,-27.45,172.1 L-27.45,171.8 Q-26.95,171.75,-26.55,171.55 M-33.4,96.4 Q-31.15,101.2,-31.7,110.4 Q-31.95,115.65,-33.9,127.2 Q-35.7,137.75,-35.75,141.7 Q-35.75,147.9,-32.5,148.5 Q-25.1,149.8,-18.85,137.3 Q-15.65,131.0,-13.85,123.9 Q-12.25,114.8,-12.55,104.9 Q-12.8,89.5,-18.75,88.5 Q-19.7,88.3,-22.15,88.8 Q-24.55,89.25,-25.0,88.75 Q-25.5,88.2,-28.95,91.25 Q-32.35,94.25,-33.4,96.4\" fill=\"#CCCCCC\" stroke-width=\"0\" stroke-linecap=\"butt\" />\n",
       "<path d=\"M6.8,145.2 Q9.95,140.45,11.35,131.9 L11.4,131.8 L12.4,128.2 L12.5,127.4 Q12.85,129.55,12.95,131.65 Q13.35,137.5,12.35,143.3 Q5.45,171.45,-5.85,169.45 L-7.35,169.35 Q-8.1,169.1,-8.5,167.6 L-10.1,161.2 Q-0.8,157.15,3.2,152.15 Q5.45,147.35,6.8,145.2 M9.5,128.45 L8.4,133.95 L1.2,149.85 Q-2.35,157.1,-13.95,158.25 Q-14.45,155.7,-13.25,148.6 L-10.6,134.15 Q-9.15,125.5,-9.15,120.25 L-11.0,125.15 L-10.55,123.35 Q-9.0,114.2,-9.0,104.95 Q-7.55,102.35,-5.35,100.45 Q-1.1,97.05,4.6,98.05 Q10.3,99.1,10.65,111.7 Q11.0,119.65,9.5,128.45 M-11.55,168.65 Q-10.15,172.35,-6.45,173.05 Q3.95,174.85,10.1,159.15 Q13.15,151.35,14.25,142.95 Q16.5,129.4,13.3,122.75 Q16.75,96.2,6.05,94.35 Q-0.55,93.15,-5.7,98.45 Q-6.45,99.15,-7.0,99.85 M-26.55,171.55 Q-22.65,170.65,-18.95,165.8 Q-17.6,164.15,-16.35,161.85 L-15.5,162.35 L-11.85,162.5 L-12.15,163.65 Q-12.55,165.95,-11.55,168.65 M-49.45,165.05 Q-49.45,161.55,-49.45,155.25 L-47.75,149.15 L-44.0,127.6 Q-40.3,111.5,-35.65,100.8 L-35.1,101.35 Q-35.0,103.85,-36.55,113.0 L-39.15,129.8 Q-41.7,151.6,-32.9,152.15 Q-24.2,152.55,-19.05,142.95 Q-13.9,133.25,-12.1,129.05 Q-14.15,136.7,-16.15,148.65 Q-16.95,151.95,-17.25,155.3 Q-17.55,157.9,-17.3,159.65 L-20.7,164.15 Q-20.85,164.35,-21.1,164.45 Q-25.7,169.4,-30.7,168.6 L-33.2,168.0 Q-33.35,168.95,-32.3,170.2 Q-31.15,171.45,-29.8,171.7 Q-28.15,172.0,-26.55,171.55 M-7.0,99.85 Q-8.25,101.35,-9.0,102.75 Q-9.0,101.8,-9.15,100.85 Q-9.95,84.25,-17.65,82.85 Q-31.75,80.35,-40.15,100.6 Q-44.4,110.7,-46.1,119.75 L-49.15,135.1 Q-50.5,141.25,-51.5,151.45 Q-52.1,159.1,-49.4,166.35 Q-49.4,165.75,-49.45,165.05 M-33.4,96.4 Q-32.35,94.25,-28.95,91.25 Q-25.5,88.2,-25.0,88.75 Q-24.55,89.25,-22.15,88.8 Q-19.7,88.3,-18.75,88.5 Q-12.8,89.5,-12.55,104.9 Q-12.25,114.8,-13.85,123.9 Q-15.65,131.0,-18.85,137.3 Q-25.1,149.8,-32.5,148.5 Q-35.75,147.9,-35.75,141.7 Q-35.7,137.75,-33.9,127.2 Q-31.95,115.65,-31.7,110.4 Q-31.15,101.2,-33.4,96.4\" fill=\"#666666\" stroke-width=\"0\" stroke-linecap=\"butt\" />\n",
       "</svg>"
      ],
      "text/plain": [
       "<drawsvg.drawing.Drawing at 0x25a08b17b10>"
      ]
     },
     "execution_count": 596,
     "metadata": {},
     "output_type": "execute_result"
    }
   ],
   "source": [
    "root  = ET.parse(BASE_DIR+\"PonyTemplate►3Q Front Wing.xml\").getroot()\n",
    "layers = xml_find_prepend(root, [\"timeline\", \"DOMTimeline\", \"layers\"])\n",
    "animations = []\n",
    "for layer in layers:\n",
    "    frames = xml_findall_prepend(layer, [\"frames/\"])\n",
    "    anim_frames = []\n",
    "    for frame in frames:\n",
    "        shapes = []\n",
    "        elements = xml_findall_prepend(frame, [\"elements/\"])\n",
    "        for element in elements:\n",
    "            if element.tag==\"{http://ns.adobe.com/xfl/2008/}DOMShape\":\n",
    "                shapes.append(DOMshape_parse(element))\n",
    "            if element.tag==\"{http://ns.adobe.com/xfl/2008/}DOMGroup\":\n",
    "                for member in xml_findall_prepend(element, [\"DOMShape\"]):\n",
    "                    shapes.append(DOMshape_parse(member))\n",
    "        anim_frames.append(shapes)\n",
    "\n",
    "    animations.append(anim_frames)\n",
    "\n",
    "OFFSET = 240\n",
    "SIZE = 480\n",
    "d = dw.Drawing(SIZE, SIZE, id_prefix='pic', origin=(-OFFSET, -OFFSET))\n",
    "shape = animations[1][-2][0]\n",
    "edgeGroups = {}\n",
    "split_paths = []\n",
    "for path in shape.paths:\n",
    "    split_paths.extend(find_subpaths(path))\n",
    "\n",
    "for path in split_paths: # split_paths[2:6]+split_paths[0:1]\n",
    "    if path.fill0 != None: addEdgeToGroup(edgeGroups, path.fill0,  path)\n",
    "    if path.fill1 != None: addEdgeToGroup(edgeGroups, path.fill1, reverse_draw_commands(path))\n",
    "# print(edgeGroups)\n",
    "filledRegs = {}\n",
    "for fillStyle, group in edgeGroups.items():\n",
    "    filledRegs[fillStyle] = findContours(group, fillStyle)\n",
    "\n",
    "for fillStyle, group in filledRegs.items():\n",
    "    # need to merge fills down to single path\n",
    "    a = findContours([path for path in group], fillStyle)\n",
    "    ret = a[0]\n",
    "    for i in range(1, len(a)):\n",
    "        ret = disjoint_path_join(ret, a[i])\n",
    "    filledRegs[fillStyle] = [ret]\n",
    "\n",
    "# print(filledRegs)\n",
    "for fillCol, contours in filledRegs.items():\n",
    "    for contour in contours:\n",
    "        transform = None\n",
    "        if type(shape.trans_mat)==np.ndarray:\n",
    "            tm = shape.trans_mat\n",
    "            tm_a = tm[0][0]\n",
    "            tm_b = tm[1][0]\n",
    "            tm_c = tm[0][1]\n",
    "            tm_d = tm[1][1]\n",
    "            tm_tx = tm[0][2]\n",
    "            tm_ty = tm[1][2]\n",
    "            transform = f\"matrix({tm_a} {tm_b} {tm_c} {tm_d} {tm_tx} {tm_ty})\"\n",
    "        stroke = contour.stroke if contour.stroke!=None else StrokeStyle(None, None, None, 0, None, None)\n",
    "        tracer = dw.Path(fill=fillCol, stroke=stroke.color, stroke_width=stroke.weight, stroke_linecap=\"butt\", stroke_linejoin=stroke.joints, stroke_miterlimit=stroke.miterLimit, transform=transform)\n",
    "        for edge in contour.edges:\n",
    "            if edge.type==DrawCommand.MOVETO:\n",
    "                tracer.M(edge.data[0], edge.data[1])\n",
    "            if edge.type==DrawCommand.LINETO:\n",
    "                tracer.L(edge.data[0], edge.data[1])\n",
    "            if edge.type==DrawCommand.QUADRATICTO:\n",
    "                tracer.Q(edge.data[0], edge.data[1], edge.data[2], edge.data[3])\n",
    "        d.append(tracer)\n",
    "d\n"
   ]
  },
  {
   "cell_type": "code",
   "execution_count": 594,
   "metadata": {},
   "outputs": [],
   "source": [
    "root  = ET.parse(BASE_DIR+\"PonyTemplate►3Q Front Wing.xml\").getroot()\n",
    "layers = xml_find_prepend(root, [\"timeline\", \"DOMTimeline\", \"layers\"])\n",
    "animations = []\n",
    "for layer in layers:\n",
    "    frames = xml_findall_prepend(layer, [\"frames/\"])\n",
    "    anim_frames = []\n",
    "    for frame in frames:\n",
    "        shapes = []\n",
    "        elements = xml_findall_prepend(frame, [\"elements/\"])\n",
    "        for element in elements:\n",
    "            if element.tag==\"{http://ns.adobe.com/xfl/2008/}DOMShape\":\n",
    "                shapes.append(DOMshape_parse(element))\n",
    "            if element.tag==\"{http://ns.adobe.com/xfl/2008/}DOMGroup\":\n",
    "                for member in xml_findall_prepend(element, [\"DOMShape\"]):\n",
    "                    shapes.append(DOMshape_parse(member))\n",
    "        anim_frames.append(shapes)\n",
    "\n",
    "    animations.append(anim_frames)\n",
    "anim = FrameAnimation()\n",
    "for frame in animations[1]:\n",
    "    OFFSET = 240\n",
    "    SIZE = 480\n",
    "    d = dw.Drawing(SIZE, SIZE, id_prefix='pic', origin=(-OFFSET, -OFFSET))\n",
    "    for shape in frame:\n",
    "        split_paths = []\n",
    "        for path in shape.paths:\n",
    "            split_paths.extend(find_subpaths(path))\n",
    "\n",
    "        edgeGroups = {}\n",
    "        for path in split_paths:\n",
    "            if path.fill0 != None: addEdgeToGroup(edgeGroups, path.fill0,  path)\n",
    "            if path.fill1 != None: addEdgeToGroup(edgeGroups, path.fill1, reverse_draw_commands(path))\n",
    "            \n",
    "        filledRegs = {}\n",
    "        for fillStyle, group in edgeGroups.items():\n",
    "            filledRegs[fillStyle] = findContours(group, fillStyle)\n",
    "        \n",
    "        for fillStyle, group in filledRegs.items():\n",
    "            # need to merge fills down to single path\n",
    "            a = findContours([path for path in group], fillStyle)\n",
    "            ret = a[0]\n",
    "            for i in range(1, len(a)):\n",
    "                ret = disjoint_path_join(ret, a[i])\n",
    "            filledRegs[fillStyle] = [ret]\n",
    "\n",
    "        for fillCol, contours in filledRegs.items():\n",
    "            for contour in contours:\n",
    "                transform = None\n",
    "                if type(shape.trans_mat)==np.ndarray:\n",
    "                    tm = shape.trans_mat\n",
    "                    tm_a = tm[0][0]\n",
    "                    tm_b = tm[1][0]\n",
    "                    tm_c = tm[0][1]\n",
    "                    tm_d = tm[1][1]\n",
    "                    tm_tx = tm[0][2]\n",
    "                    tm_ty = tm[1][2]\n",
    "                    transform = f\"matrix({tm_a} {tm_b} {tm_c} {tm_d} {tm_tx} {tm_ty})\"\n",
    "                stroke = contour.stroke if contour.stroke!=None else StrokeStyle(None, None, None, 0, None, None)\n",
    "                tracer = dw.Path(fill=fillCol, stroke=stroke.color, stroke_width=stroke.weight, stroke_linecap=\"butt\", stroke_linejoin=stroke.joints, stroke_miterlimit=stroke.miterLimit, transform=transform)\n",
    "                for edge in contour.edges:\n",
    "                    if edge.type==DrawCommand.MOVETO:\n",
    "                        tracer.M(edge.data[0], edge.data[1])\n",
    "                    if edge.type==DrawCommand.LINETO:\n",
    "                        tracer.L(edge.data[0], edge.data[1])\n",
    "                    if edge.type==DrawCommand.QUADRATICTO:\n",
    "                        tracer.Q(edge.data[0], edge.data[1], edge.data[2], edge.data[3])\n",
    "                tracer.Z()\n",
    "                d.append(tracer)\n",
    "    anim.append_frame(d)\n",
    "anim.save_spritesheet('wings.png')\n"
   ]
  },
  {
   "cell_type": "code",
   "execution_count": 95,
   "metadata": {},
   "outputs": [
    {
     "data": {
      "text/plain": [
       "{'d': 'M-8814.0,55.0 Q-8841.8,50.3,-8868.45,103.45 Q-8881.75,130.0,-8889.5,157.5 Q-8909.2,216.55,-8911.55,284.45 Q-8912.75,318.4,-8910.0,340.5 Q-8907.25,355.15,-8901.7,366.0 Q-8890.55,387.75,-8876.5,369.0 Q-8850.85,334.8,-8826.35,247.95 Q-8818.7,220.85,-8812.1,191.7 L-8807.0,168.0 Q-8791.35,98.0,-8801.1,69.5 Q-8804.15,60.6,-8809.4,56.9 Q-8812.0,55.05,-8814.0,55.0 Z',\n",
       " 'fill': '#CCCCCC',\n",
       " 'stroke-width': 0,\n",
       " 'transform': 'matrix(0.330612182617188 0.082427978515625 -0.0742034912109375 0.297637939453125 3201.8 433.85)'}"
      ]
     },
     "execution_count": 95,
     "metadata": {},
     "output_type": "execute_result"
    }
   ],
   "source": [
    "anim.frames[0].elements[0].args"
   ]
  },
  {
   "cell_type": "code",
   "execution_count": 86,
   "metadata": {},
   "outputs": [
    {
     "data": {
      "text/plain": [
       "[283.70303039550345, -276.30011596679685, 1.0]"
      ]
     },
     "execution_count": 86,
     "metadata": {},
     "output_type": "execute_result"
    }
   ],
   "source": [
    "a=0.330612182617188\n",
    "b=0.082427978515625\n",
    "c=-0.0742034912109375\n",
    "d=0.297637939453125\n",
    "tx=3201.8\n",
    "ty=433.85\n",
    "transformation_matrix = np.array([\n",
    "    [a, c, tx],\n",
    "    [b, d, ty],\n",
    "    [0, 0, 1]\n",
    "], dtype=np.float64)\n",
    "list(transformation_matrix @ np.array([-176280/20, 1100/20, 1], dtype=np.float64))"
   ]
  },
  {
   "cell_type": "code",
   "execution_count": 7,
   "metadata": {},
   "outputs": [
    {
     "data": {
      "text/plain": [
       "{'#00FF00', '#666666', '#CCCCCC'}"
      ]
     },
     "execution_count": 7,
     "metadata": {},
     "output_type": "execute_result"
    }
   ],
   "source": [
    "tag_names = set()\n",
    "def traverse(element):\n",
    "    if 'color' in element.attrib and element.tag=='{http://ns.adobe.com/xfl/2008/}SolidColor':\n",
    "        tag_names.add(element.attrib['color'])\n",
    "    for child in element:\n",
    "        traverse(child)\n",
    "traverse(root)\n",
    "tag_names"
   ]
  },
  {
   "cell_type": "code",
   "execution_count": 13,
   "metadata": {},
   "outputs": [
    {
     "data": {
      "text/plain": [
       "{'{http://ns.adobe.com/xfl/2008/}DOMFrame',\n",
       " '{http://ns.adobe.com/xfl/2008/}DOMGroup',\n",
       " '{http://ns.adobe.com/xfl/2008/}DOMLayer',\n",
       " '{http://ns.adobe.com/xfl/2008/}DOMShape',\n",
       " '{http://ns.adobe.com/xfl/2008/}DOMSymbolItem',\n",
       " '{http://ns.adobe.com/xfl/2008/}DOMTimeline',\n",
       " '{http://ns.adobe.com/xfl/2008/}Edge',\n",
       " '{http://ns.adobe.com/xfl/2008/}FillStyle',\n",
       " '{http://ns.adobe.com/xfl/2008/}Matrix',\n",
       " '{http://ns.adobe.com/xfl/2008/}Point',\n",
       " '{http://ns.adobe.com/xfl/2008/}SolidColor',\n",
       " '{http://ns.adobe.com/xfl/2008/}edges',\n",
       " '{http://ns.adobe.com/xfl/2008/}elements',\n",
       " '{http://ns.adobe.com/xfl/2008/}fills',\n",
       " '{http://ns.adobe.com/xfl/2008/}frames',\n",
       " '{http://ns.adobe.com/xfl/2008/}layers',\n",
       " '{http://ns.adobe.com/xfl/2008/}matrix',\n",
       " '{http://ns.adobe.com/xfl/2008/}members',\n",
       " '{http://ns.adobe.com/xfl/2008/}timeline',\n",
       " '{http://ns.adobe.com/xfl/2008/}transformationPoint'}"
      ]
     },
     "execution_count": 13,
     "metadata": {},
     "output_type": "execute_result"
    }
   ],
   "source": [
    "tag_names = set()\n",
    "def traverse(element):\n",
    "    tag_names.add(element.tag)\n",
    "    for child in element:\n",
    "        traverse(child)\n",
    "traverse(root)\n",
    "tag_names"
   ]
  },
  {
   "cell_type": "code",
   "execution_count": null,
   "metadata": {},
   "outputs": [],
   "source": [
    "# 6DABDC - rd outline\n",
    "# 9EDBF8 - rd fill"
   ]
  },
  {
   "cell_type": "code",
   "execution_count": null,
   "metadata": {},
   "outputs": [],
   "source": [
    "\t\"moveTo(x,y)\"\n",
    "\"|x y\"\t\t\t\"lineTo(x,y)\"\n",
    "\"!x y\"\t\t\"[cx cy x y\"\t\"quadraticTo(cx,cy,x,y)\""
   ]
  }
 ],
 "metadata": {
  "kernelspec": {
   "display_name": ".venv",
   "language": "python",
   "name": "python3"
  },
  "language_info": {
   "codemirror_mode": {
    "name": "ipython",
    "version": 3
   },
   "file_extension": ".py",
   "mimetype": "text/x-python",
   "name": "python",
   "nbconvert_exporter": "python",
   "pygments_lexer": "ipython3",
   "version": "3.11.6"
  }
 },
 "nbformat": 4,
 "nbformat_minor": 2
}
